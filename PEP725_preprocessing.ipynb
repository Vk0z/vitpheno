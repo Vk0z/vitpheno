{
 "cells": [
  {
   "cell_type": "markdown",
   "metadata": {},
   "source": [
    "# Preprocessing the PEP725 data\n",
    "\n",
    "*Data were provided by the members of the PEP725 project*\n",
    "\n",
    "*Templ, B., Koch, E., Bolmgren, K., Ungersböck, M., Paul, A., Scheifinger, H., et al.*\n",
    "*(2018). Pan European Phenological database (PEP725): a single point of access for*\n",
    "*European data. Int. J. Biometeorology. doi: 10.1007/s00484-018-1512-8*\n",
    "*Data set accessed 2022-11-08 at http://www.pep725.eu*\n",
    "\n",
    "# Table of contents\n",
    "1. [Loading and first glance of the data](#loading)\n",
    "2. [Grouping based on vegetation group](#grouping)\n",
    "3. [Removing unecessary columns](#removing)\n",
    "4. [Adding the spatial aspect to the data](#spatial)\n",
    "5. [Writing the data](#writing)\n",
    "6. [GeoJSON Problem](#problemo)"
   ]
  },
  {
   "cell_type": "code",
   "execution_count": 78,
   "metadata": {},
   "outputs": [],
   "source": [
    "import pandas as pd\n",
    "import os.path\n",
    "\n",
    "# For visualization\n",
    "import seaborn as sns\n",
    "import matplotlib.pyplot as plt"
   ]
  },
  {
   "cell_type": "markdown",
   "metadata": {},
   "source": [
    "## 1. Loading and first glance of the data <a class=\"anchor\" id=\"loading\"></a>"
   ]
  },
  {
   "cell_type": "code",
   "execution_count": 2,
   "metadata": {},
   "outputs": [
    {
     "data": {
      "text/plain": [
       "(338757, 18)"
      ]
     },
     "execution_count": 2,
     "metadata": {},
     "output_type": "execute_result"
    }
   ],
   "source": [
    "# Read the PEP725 dataset\n",
    "\n",
    "data_dir = r\"C:\\Users\\Kostas\\Desktop\\GIMA\\Module_7\\Data\\PEP725\\After_2016_sent_from_PEP725\"\n",
    "dataset = os.path.join(data_dir, 'pep725_20221108_0.csv')\n",
    "df = pd.read_csv(dataset, sep=';', low_memory=False) # Because columns have mixed data types, pandas suggested to use low_memory=False  \n",
    "\n",
    "# Check the dimensions of the dataframe\n",
    "df.shape"
   ]
  },
  {
   "cell_type": "code",
   "execution_count": 52,
   "metadata": {},
   "outputs": [
    {
     "data": {
      "text/html": [
       "<div>\n",
       "<style scoped>\n",
       "    .dataframe tbody tr th:only-of-type {\n",
       "        vertical-align: middle;\n",
       "    }\n",
       "\n",
       "    .dataframe tbody tr th {\n",
       "        vertical-align: top;\n",
       "    }\n",
       "\n",
       "    .dataframe thead th {\n",
       "        text-align: right;\n",
       "    }\n",
       "</style>\n",
       "<table border=\"1\" class=\"dataframe\">\n",
       "  <thead>\n",
       "    <tr style=\"text-align: right;\">\n",
       "      <th></th>\n",
       "      <th>s_id</th>\n",
       "      <th>provider_id</th>\n",
       "      <th>lon</th>\n",
       "      <th>lat</th>\n",
       "      <th>alt</th>\n",
       "      <th>alt_dem</th>\n",
       "      <th>gss_id</th>\n",
       "      <th>genus</th>\n",
       "      <th>species</th>\n",
       "      <th>subspecies</th>\n",
       "      <th>phase_id</th>\n",
       "      <th>year</th>\n",
       "      <th>day</th>\n",
       "      <th>date</th>\n",
       "      <th>cult_season</th>\n",
       "      <th>affected_flag</th>\n",
       "      <th>qc_flag</th>\n",
       "      <th>qc_ori_flag</th>\n",
       "    </tr>\n",
       "  </thead>\n",
       "  <tbody>\n",
       "    <tr>\n",
       "      <th>0</th>\n",
       "      <td>19544</td>\n",
       "      <td>101</td>\n",
       "      <td>7.41667</td>\n",
       "      <td>51.4500</td>\n",
       "      <td>114</td>\n",
       "      <td>151</td>\n",
       "      <td>10000</td>\n",
       "      <td>perm_grass</td>\n",
       "      <td>NaN</td>\n",
       "      <td>NaN</td>\n",
       "      <td>182</td>\n",
       "      <td>2017</td>\n",
       "      <td>9</td>\n",
       "      <td>2017-01-09</td>\n",
       "      <td>0</td>\n",
       "      <td>0</td>\n",
       "      <td>0</td>\n",
       "      <td>101007</td>\n",
       "    </tr>\n",
       "    <tr>\n",
       "      <th>1</th>\n",
       "      <td>1708</td>\n",
       "      <td>101</td>\n",
       "      <td>8.68333</td>\n",
       "      <td>51.7333</td>\n",
       "      <td>105</td>\n",
       "      <td>101</td>\n",
       "      <td>1360100</td>\n",
       "      <td>Corylus</td>\n",
       "      <td>Corylus avellana</td>\n",
       "      <td>NaN</td>\n",
       "      <td>60</td>\n",
       "      <td>2017</td>\n",
       "      <td>12</td>\n",
       "      <td>2017-01-12</td>\n",
       "      <td>0</td>\n",
       "      <td>0</td>\n",
       "      <td>0</td>\n",
       "      <td>101007</td>\n",
       "    </tr>\n",
       "    <tr>\n",
       "      <th>2</th>\n",
       "      <td>8139</td>\n",
       "      <td>101</td>\n",
       "      <td>7.65000</td>\n",
       "      <td>53.2667</td>\n",
       "      <td>3</td>\n",
       "      <td>4</td>\n",
       "      <td>1360100</td>\n",
       "      <td>Corylus</td>\n",
       "      <td>Corylus avellana</td>\n",
       "      <td>NaN</td>\n",
       "      <td>60</td>\n",
       "      <td>2017</td>\n",
       "      <td>13</td>\n",
       "      <td>2017-01-13</td>\n",
       "      <td>0</td>\n",
       "      <td>0</td>\n",
       "      <td>0</td>\n",
       "      <td>101007</td>\n",
       "    </tr>\n",
       "    <tr>\n",
       "      <th>3</th>\n",
       "      <td>232</td>\n",
       "      <td>101</td>\n",
       "      <td>9.83333</td>\n",
       "      <td>54.6167</td>\n",
       "      <td>20</td>\n",
       "      <td>25</td>\n",
       "      <td>1600100</td>\n",
       "      <td>Galanthus</td>\n",
       "      <td>Galanthus nivalis</td>\n",
       "      <td>NaN</td>\n",
       "      <td>60</td>\n",
       "      <td>2017</td>\n",
       "      <td>15</td>\n",
       "      <td>2017-01-15</td>\n",
       "      <td>0</td>\n",
       "      <td>0</td>\n",
       "      <td>0</td>\n",
       "      <td>101007</td>\n",
       "    </tr>\n",
       "    <tr>\n",
       "      <th>4</th>\n",
       "      <td>1975</td>\n",
       "      <td>101</td>\n",
       "      <td>9.00000</td>\n",
       "      <td>49.6833</td>\n",
       "      <td>210</td>\n",
       "      <td>199</td>\n",
       "      <td>1360100</td>\n",
       "      <td>Corylus</td>\n",
       "      <td>Corylus avellana</td>\n",
       "      <td>NaN</td>\n",
       "      <td>60</td>\n",
       "      <td>2017</td>\n",
       "      <td>15</td>\n",
       "      <td>2017-01-15</td>\n",
       "      <td>0</td>\n",
       "      <td>0</td>\n",
       "      <td>0</td>\n",
       "      <td>101007</td>\n",
       "    </tr>\n",
       "  </tbody>\n",
       "</table>\n",
       "</div>"
      ],
      "text/plain": [
       "    s_id  provider_id      lon      lat  alt  alt_dem   gss_id       genus  \\\n",
       "0  19544          101  7.41667  51.4500  114      151    10000  perm_grass   \n",
       "1   1708          101  8.68333  51.7333  105      101  1360100     Corylus   \n",
       "2   8139          101  7.65000  53.2667    3        4  1360100     Corylus   \n",
       "3    232          101  9.83333  54.6167   20       25  1600100   Galanthus   \n",
       "4   1975          101  9.00000  49.6833  210      199  1360100     Corylus   \n",
       "\n",
       "             species subspecies  phase_id  year  day        date  cult_season  \\\n",
       "0                NaN        NaN       182  2017    9  2017-01-09            0   \n",
       "1   Corylus avellana        NaN        60  2017   12  2017-01-12            0   \n",
       "2   Corylus avellana        NaN        60  2017   13  2017-01-13            0   \n",
       "3  Galanthus nivalis        NaN        60  2017   15  2017-01-15            0   \n",
       "4   Corylus avellana        NaN        60  2017   15  2017-01-15            0   \n",
       "\n",
       "   affected_flag  qc_flag  qc_ori_flag  \n",
       "0              0        0       101007  \n",
       "1              0        0       101007  \n",
       "2              0        0       101007  \n",
       "3              0        0       101007  \n",
       "4              0        0       101007  "
      ]
     },
     "execution_count": 52,
     "metadata": {},
     "output_type": "execute_result"
    }
   ],
   "source": [
    "df.head()"
   ]
  },
  {
   "cell_type": "code",
   "execution_count": null,
   "metadata": {},
   "outputs": [],
   "source": [
    "# # Check if provider is the same in all rows\n",
    "# station_check = df.loc[df.provider_id == 101]\n",
    "# station_check.shape"
   ]
  },
  {
   "cell_type": "markdown",
   "metadata": {},
   "source": [
    "Check genus record count"
   ]
  },
  {
   "cell_type": "code",
   "execution_count": 4,
   "metadata": {},
   "outputs": [],
   "source": [
    "all = df.groupby('genus').genus.count().sort_values(ascending=True)"
   ]
  },
  {
   "cell_type": "code",
   "execution_count": 5,
   "metadata": {},
   "outputs": [
    {
     "data": {
      "text/plain": [
       "2567           Acer\n",
       "3329       Aesculus\n",
       "23            Alnus\n",
       "13362    Alopecurus\n",
       "640         Anemone\n",
       "46152     Artemisia\n",
       "1572          Avena\n",
       "3644           Beta\n",
       "2553         Betula\n",
       "49853       Calluna\n",
       "187          Cornus\n",
       "1           Corylus\n",
       "7747          Fagus\n",
       "1700      Forsythia\n",
       "4171       Fraxinus\n",
       "3         Galanthus\n",
       "12492    Helianthus\n",
       "3482        Hordeum\n",
       "3417          Larix\n",
       "5783          Malus\n",
       "13920         Picea\n",
       "1709         Prunus\n",
       "3653          Pyrus\n",
       "4898        Quercus\n",
       "580           Ribes\n",
       "23374       Robinia\n",
       "30            Salix\n",
       "11007      Sambucus\n",
       "4860         Secale\n",
       "3448         Sorbus\n",
       "8036        Syringa\n",
       "3575      Taraxacum\n",
       "45294         Tilia\n",
       "4233       Triticum\n",
       "665       Tussilago\n",
       "1562          Vitis\n",
       "6337            Zea\n",
       "0        perm_grass\n",
       "Name: genus, dtype: object"
      ]
     },
     "execution_count": 5,
     "metadata": {},
     "output_type": "execute_result"
    }
   ],
   "source": [
    "# Get the names of the genuses alphabetically\n",
    "df.genus.drop_duplicates().sort_values()"
   ]
  },
  {
   "cell_type": "markdown",
   "metadata": {},
   "source": [
    "## 2. Grouping based on vegetation group as shown in Tian et al., 2021 <a class=\"anchor\" id=\"grouping\"></a>\n",
    "\n",
    "I am making 3 different dataframes with the respective groups from the paper. Each dataframe has a \"Label\" column that specifies its category: \\\n",
    "**DBL**: deciduous broad leaved tree, **EC**: evergreen coniferous and **M**: meadow."
   ]
  },
  {
   "cell_type": "code",
   "execution_count": 6,
   "metadata": {},
   "outputs": [
    {
     "name": "stderr",
     "output_type": "stream",
     "text": [
      "C:\\Users\\Kostas\\AppData\\Local\\Temp\\ipykernel_9408\\176937586.py:18: SettingWithCopyWarning: \n",
      "A value is trying to be set on a copy of a slice from a DataFrame.\n",
      "Try using .loc[row_indexer,col_indexer] = value instead\n",
      "\n",
      "See the caveats in the documentation: https://pandas.pydata.org/pandas-docs/stable/user_guide/indexing.html#returning-a-view-versus-a-copy\n",
      "  deciduous_broad_leaved['Label'] = 'DBL'\n"
     ]
    },
    {
     "data": {
      "text/html": [
       "<div>\n",
       "<style scoped>\n",
       "    .dataframe tbody tr th:only-of-type {\n",
       "        vertical-align: middle;\n",
       "    }\n",
       "\n",
       "    .dataframe tbody tr th {\n",
       "        vertical-align: top;\n",
       "    }\n",
       "\n",
       "    .dataframe thead th {\n",
       "        text-align: right;\n",
       "    }\n",
       "</style>\n",
       "<table border=\"1\" class=\"dataframe\">\n",
       "  <thead>\n",
       "    <tr style=\"text-align: right;\">\n",
       "      <th></th>\n",
       "      <th>s_id</th>\n",
       "      <th>provider_id</th>\n",
       "      <th>lon</th>\n",
       "      <th>lat</th>\n",
       "      <th>alt</th>\n",
       "      <th>alt_dem</th>\n",
       "      <th>gss_id</th>\n",
       "      <th>genus</th>\n",
       "      <th>species</th>\n",
       "      <th>subspecies</th>\n",
       "      <th>phase_id</th>\n",
       "      <th>year</th>\n",
       "      <th>day</th>\n",
       "      <th>date</th>\n",
       "      <th>cult_season</th>\n",
       "      <th>affected_flag</th>\n",
       "      <th>qc_flag</th>\n",
       "      <th>qc_ori_flag</th>\n",
       "      <th>Label</th>\n",
       "    </tr>\n",
       "  </thead>\n",
       "  <tbody>\n",
       "    <tr>\n",
       "      <th>23</th>\n",
       "      <td>5363</td>\n",
       "      <td>101</td>\n",
       "      <td>13.91670</td>\n",
       "      <td>54.0833</td>\n",
       "      <td>2</td>\n",
       "      <td>0</td>\n",
       "      <td>1050100</td>\n",
       "      <td>Alnus</td>\n",
       "      <td>Alnus glutinosa</td>\n",
       "      <td>NaN</td>\n",
       "      <td>60</td>\n",
       "      <td>2017</td>\n",
       "      <td>27</td>\n",
       "      <td>2017-01-27</td>\n",
       "      <td>0</td>\n",
       "      <td>0</td>\n",
       "      <td>0</td>\n",
       "      <td>101007</td>\n",
       "      <td>DBL</td>\n",
       "    </tr>\n",
       "    <tr>\n",
       "      <th>30</th>\n",
       "      <td>1554</td>\n",
       "      <td>101</td>\n",
       "      <td>7.51667</td>\n",
       "      <td>51.7333</td>\n",
       "      <td>60</td>\n",
       "      <td>72</td>\n",
       "      <td>2210500</td>\n",
       "      <td>Salix</td>\n",
       "      <td>Salix caprea</td>\n",
       "      <td>NaN</td>\n",
       "      <td>60</td>\n",
       "      <td>2017</td>\n",
       "      <td>29</td>\n",
       "      <td>2017-01-29</td>\n",
       "      <td>0</td>\n",
       "      <td>0</td>\n",
       "      <td>0</td>\n",
       "      <td>101007</td>\n",
       "      <td>DBL</td>\n",
       "    </tr>\n",
       "    <tr>\n",
       "      <th>42</th>\n",
       "      <td>3120</td>\n",
       "      <td>101</td>\n",
       "      <td>8.68333</td>\n",
       "      <td>49.5500</td>\n",
       "      <td>140</td>\n",
       "      <td>261</td>\n",
       "      <td>1050100</td>\n",
       "      <td>Alnus</td>\n",
       "      <td>Alnus glutinosa</td>\n",
       "      <td>NaN</td>\n",
       "      <td>60</td>\n",
       "      <td>2017</td>\n",
       "      <td>31</td>\n",
       "      <td>2017-01-31</td>\n",
       "      <td>0</td>\n",
       "      <td>0</td>\n",
       "      <td>0</td>\n",
       "      <td>101007</td>\n",
       "      <td>DBL</td>\n",
       "    </tr>\n",
       "    <tr>\n",
       "      <th>53</th>\n",
       "      <td>2021</td>\n",
       "      <td>101</td>\n",
       "      <td>8.58333</td>\n",
       "      <td>50.0000</td>\n",
       "      <td>100</td>\n",
       "      <td>101</td>\n",
       "      <td>1050100</td>\n",
       "      <td>Alnus</td>\n",
       "      <td>Alnus glutinosa</td>\n",
       "      <td>NaN</td>\n",
       "      <td>60</td>\n",
       "      <td>2017</td>\n",
       "      <td>32</td>\n",
       "      <td>2017-02-01</td>\n",
       "      <td>0</td>\n",
       "      <td>0</td>\n",
       "      <td>0</td>\n",
       "      <td>101007</td>\n",
       "      <td>DBL</td>\n",
       "    </tr>\n",
       "    <tr>\n",
       "      <th>63</th>\n",
       "      <td>1521</td>\n",
       "      <td>101</td>\n",
       "      <td>7.83333</td>\n",
       "      <td>51.7000</td>\n",
       "      <td>60</td>\n",
       "      <td>58</td>\n",
       "      <td>1050100</td>\n",
       "      <td>Alnus</td>\n",
       "      <td>Alnus glutinosa</td>\n",
       "      <td>NaN</td>\n",
       "      <td>60</td>\n",
       "      <td>2017</td>\n",
       "      <td>33</td>\n",
       "      <td>2017-02-02</td>\n",
       "      <td>0</td>\n",
       "      <td>0</td>\n",
       "      <td>0</td>\n",
       "      <td>101007</td>\n",
       "      <td>DBL</td>\n",
       "    </tr>\n",
       "  </tbody>\n",
       "</table>\n",
       "</div>"
      ],
      "text/plain": [
       "    s_id  provider_id       lon      lat  alt  alt_dem   gss_id  genus  \\\n",
       "23  5363          101  13.91670  54.0833    2        0  1050100  Alnus   \n",
       "30  1554          101   7.51667  51.7333   60       72  2210500  Salix   \n",
       "42  3120          101   8.68333  49.5500  140      261  1050100  Alnus   \n",
       "53  2021          101   8.58333  50.0000  100      101  1050100  Alnus   \n",
       "63  1521          101   7.83333  51.7000   60       58  1050100  Alnus   \n",
       "\n",
       "            species subspecies  phase_id  year  day        date  cult_season  \\\n",
       "23  Alnus glutinosa        NaN        60  2017   27  2017-01-27            0   \n",
       "30     Salix caprea        NaN        60  2017   29  2017-01-29            0   \n",
       "42  Alnus glutinosa        NaN        60  2017   31  2017-01-31            0   \n",
       "53  Alnus glutinosa        NaN        60  2017   32  2017-02-01            0   \n",
       "63  Alnus glutinosa        NaN        60  2017   33  2017-02-02            0   \n",
       "\n",
       "    affected_flag  qc_flag  qc_ori_flag Label  \n",
       "23              0        0       101007   DBL  \n",
       "30              0        0       101007   DBL  \n",
       "42              0        0       101007   DBL  \n",
       "53              0        0       101007   DBL  \n",
       "63              0        0       101007   DBL  "
      ]
     },
     "execution_count": 6,
     "metadata": {},
     "output_type": "execute_result"
    }
   ],
   "source": [
    "deciduous_broad_leaved = df.loc[df.genus.isin([\n",
    "'Acer',\n",
    "'Aesculus',\n",
    "'Alnus',\n",
    "'Betula',\n",
    "'Fagus',\n",
    "'Fraxinus',\n",
    "'Quercus',\n",
    "'Robinia',\n",
    "'Salix',\n",
    "'Sambucus',\n",
    "'Sorbus',\n",
    "'Syringa',\n",
    "'Tilia',\n",
    "])]\n",
    "\n",
    "# Insert a column in the end as a label for this class\n",
    "deciduous_broad_leaved['Label'] = 'DBL'\n",
    "\n",
    "deciduous_broad_leaved.head()\n"
   ]
  },
  {
   "cell_type": "code",
   "execution_count": 7,
   "metadata": {},
   "outputs": [
    {
     "data": {
      "text/plain": [
       "(113484, 19)"
      ]
     },
     "execution_count": 7,
     "metadata": {},
     "output_type": "execute_result"
    }
   ],
   "source": [
    "deciduous_broad_leaved.shape"
   ]
  },
  {
   "cell_type": "code",
   "execution_count": 56,
   "metadata": {},
   "outputs": [],
   "source": [
    "deciduous_broad_leaved.groupby('genus').genus.count().sort_values(ascending=True)"
   ]
  },
  {
   "cell_type": "code",
   "execution_count": null,
   "metadata": {},
   "outputs": [],
   "source": [
    "#deciduous_broad_leaved.to_csv('deciduous_broad_leaved.csv')"
   ]
  },
  {
   "cell_type": "code",
   "execution_count": 9,
   "metadata": {},
   "outputs": [
    {
     "name": "stderr",
     "output_type": "stream",
     "text": [
      "C:\\Users\\Kostas\\AppData\\Local\\Temp\\ipykernel_9408\\3948884640.py:2: SettingWithCopyWarning: \n",
      "A value is trying to be set on a copy of a slice from a DataFrame.\n",
      "Try using .loc[row_indexer,col_indexer] = value instead\n",
      "\n",
      "See the caveats in the documentation: https://pandas.pydata.org/pandas-docs/stable/user_guide/indexing.html#returning-a-view-versus-a-copy\n",
      "  evergreen_coniferous['Label'] = 'EC'\n"
     ]
    },
    {
     "data": {
      "text/html": [
       "<div>\n",
       "<style scoped>\n",
       "    .dataframe tbody tr th:only-of-type {\n",
       "        vertical-align: middle;\n",
       "    }\n",
       "\n",
       "    .dataframe tbody tr th {\n",
       "        vertical-align: top;\n",
       "    }\n",
       "\n",
       "    .dataframe thead th {\n",
       "        text-align: right;\n",
       "    }\n",
       "</style>\n",
       "<table border=\"1\" class=\"dataframe\">\n",
       "  <thead>\n",
       "    <tr style=\"text-align: right;\">\n",
       "      <th></th>\n",
       "      <th>s_id</th>\n",
       "      <th>provider_id</th>\n",
       "      <th>lon</th>\n",
       "      <th>lat</th>\n",
       "      <th>alt</th>\n",
       "      <th>alt_dem</th>\n",
       "      <th>gss_id</th>\n",
       "      <th>genus</th>\n",
       "      <th>species</th>\n",
       "      <th>subspecies</th>\n",
       "      <th>phase_id</th>\n",
       "      <th>year</th>\n",
       "      <th>day</th>\n",
       "      <th>date</th>\n",
       "      <th>cult_season</th>\n",
       "      <th>affected_flag</th>\n",
       "      <th>qc_flag</th>\n",
       "      <th>qc_ori_flag</th>\n",
       "      <th>Label</th>\n",
       "    </tr>\n",
       "  </thead>\n",
       "  <tbody>\n",
       "    <tr>\n",
       "      <th>13920</th>\n",
       "      <td>19310</td>\n",
       "      <td>101</td>\n",
       "      <td>6.93333</td>\n",
       "      <td>51.1500</td>\n",
       "      <td>40</td>\n",
       "      <td>42</td>\n",
       "      <td>2030100</td>\n",
       "      <td>Picea</td>\n",
       "      <td>Picea abies</td>\n",
       "      <td>NaN</td>\n",
       "      <td>10</td>\n",
       "      <td>2017</td>\n",
       "      <td>92</td>\n",
       "      <td>2017-04-02</td>\n",
       "      <td>0</td>\n",
       "      <td>0</td>\n",
       "      <td>0</td>\n",
       "      <td>101007</td>\n",
       "      <td>EC</td>\n",
       "    </tr>\n",
       "    <tr>\n",
       "      <th>14218</th>\n",
       "      <td>2019</td>\n",
       "      <td>101</td>\n",
       "      <td>8.48333</td>\n",
       "      <td>49.9167</td>\n",
       "      <td>90</td>\n",
       "      <td>80</td>\n",
       "      <td>2030100</td>\n",
       "      <td>Picea</td>\n",
       "      <td>Picea abies</td>\n",
       "      <td>NaN</td>\n",
       "      <td>10</td>\n",
       "      <td>2017</td>\n",
       "      <td>93</td>\n",
       "      <td>2017-04-03</td>\n",
       "      <td>0</td>\n",
       "      <td>0</td>\n",
       "      <td>0</td>\n",
       "      <td>101007</td>\n",
       "      <td>EC</td>\n",
       "    </tr>\n",
       "    <tr>\n",
       "      <th>14453</th>\n",
       "      <td>3663</td>\n",
       "      <td>101</td>\n",
       "      <td>12.55000</td>\n",
       "      <td>48.0333</td>\n",
       "      <td>500</td>\n",
       "      <td>545</td>\n",
       "      <td>2030100</td>\n",
       "      <td>Picea</td>\n",
       "      <td>Picea abies</td>\n",
       "      <td>NaN</td>\n",
       "      <td>10</td>\n",
       "      <td>2017</td>\n",
       "      <td>93</td>\n",
       "      <td>2017-04-03</td>\n",
       "      <td>0</td>\n",
       "      <td>0</td>\n",
       "      <td>0</td>\n",
       "      <td>101007</td>\n",
       "      <td>EC</td>\n",
       "    </tr>\n",
       "    <tr>\n",
       "      <th>15168</th>\n",
       "      <td>2356</td>\n",
       "      <td>101</td>\n",
       "      <td>9.01667</td>\n",
       "      <td>50.1500</td>\n",
       "      <td>130</td>\n",
       "      <td>106</td>\n",
       "      <td>2030100</td>\n",
       "      <td>Picea</td>\n",
       "      <td>Picea abies</td>\n",
       "      <td>NaN</td>\n",
       "      <td>10</td>\n",
       "      <td>2017</td>\n",
       "      <td>94</td>\n",
       "      <td>2017-04-04</td>\n",
       "      <td>0</td>\n",
       "      <td>0</td>\n",
       "      <td>0</td>\n",
       "      <td>101007</td>\n",
       "      <td>EC</td>\n",
       "    </tr>\n",
       "    <tr>\n",
       "      <th>15235</th>\n",
       "      <td>2805</td>\n",
       "      <td>101</td>\n",
       "      <td>8.18333</td>\n",
       "      <td>49.4333</td>\n",
       "      <td>160</td>\n",
       "      <td>116</td>\n",
       "      <td>2030100</td>\n",
       "      <td>Picea</td>\n",
       "      <td>Picea abies</td>\n",
       "      <td>NaN</td>\n",
       "      <td>10</td>\n",
       "      <td>2017</td>\n",
       "      <td>94</td>\n",
       "      <td>2017-04-04</td>\n",
       "      <td>0</td>\n",
       "      <td>0</td>\n",
       "      <td>0</td>\n",
       "      <td>101007</td>\n",
       "      <td>EC</td>\n",
       "    </tr>\n",
       "    <tr>\n",
       "      <th>16715</th>\n",
       "      <td>2389</td>\n",
       "      <td>101</td>\n",
       "      <td>8.06667</td>\n",
       "      <td>50.0333</td>\n",
       "      <td>220</td>\n",
       "      <td>152</td>\n",
       "      <td>2030100</td>\n",
       "      <td>Picea</td>\n",
       "      <td>Picea abies</td>\n",
       "      <td>NaN</td>\n",
       "      <td>10</td>\n",
       "      <td>2017</td>\n",
       "      <td>96</td>\n",
       "      <td>2017-04-06</td>\n",
       "      <td>0</td>\n",
       "      <td>0</td>\n",
       "      <td>0</td>\n",
       "      <td>101007</td>\n",
       "      <td>EC</td>\n",
       "    </tr>\n",
       "    <tr>\n",
       "      <th>17416</th>\n",
       "      <td>2417</td>\n",
       "      <td>101</td>\n",
       "      <td>8.11667</td>\n",
       "      <td>50.0833</td>\n",
       "      <td>280</td>\n",
       "      <td>315</td>\n",
       "      <td>2030100</td>\n",
       "      <td>Picea</td>\n",
       "      <td>Picea abies</td>\n",
       "      <td>NaN</td>\n",
       "      <td>10</td>\n",
       "      <td>2017</td>\n",
       "      <td>97</td>\n",
       "      <td>2017-04-07</td>\n",
       "      <td>0</td>\n",
       "      <td>0</td>\n",
       "      <td>0</td>\n",
       "      <td>101007</td>\n",
       "      <td>EC</td>\n",
       "    </tr>\n",
       "    <tr>\n",
       "      <th>17813</th>\n",
       "      <td>21395</td>\n",
       "      <td>101</td>\n",
       "      <td>7.76667</td>\n",
       "      <td>52.0500</td>\n",
       "      <td>50</td>\n",
       "      <td>50</td>\n",
       "      <td>2030100</td>\n",
       "      <td>Picea</td>\n",
       "      <td>Picea abies</td>\n",
       "      <td>NaN</td>\n",
       "      <td>10</td>\n",
       "      <td>2017</td>\n",
       "      <td>97</td>\n",
       "      <td>2017-04-07</td>\n",
       "      <td>0</td>\n",
       "      <td>0</td>\n",
       "      <td>0</td>\n",
       "      <td>101007</td>\n",
       "      <td>EC</td>\n",
       "    </tr>\n",
       "    <tr>\n",
       "      <th>18039</th>\n",
       "      <td>2349</td>\n",
       "      <td>101</td>\n",
       "      <td>9.28333</td>\n",
       "      <td>50.2500</td>\n",
       "      <td>160</td>\n",
       "      <td>162</td>\n",
       "      <td>2030100</td>\n",
       "      <td>Picea</td>\n",
       "      <td>Picea abies</td>\n",
       "      <td>NaN</td>\n",
       "      <td>10</td>\n",
       "      <td>2017</td>\n",
       "      <td>98</td>\n",
       "      <td>2017-04-08</td>\n",
       "      <td>0</td>\n",
       "      <td>0</td>\n",
       "      <td>0</td>\n",
       "      <td>101007</td>\n",
       "      <td>EC</td>\n",
       "    </tr>\n",
       "    <tr>\n",
       "      <th>18081</th>\n",
       "      <td>2704</td>\n",
       "      <td>101</td>\n",
       "      <td>8.20000</td>\n",
       "      <td>49.7833</td>\n",
       "      <td>150</td>\n",
       "      <td>130</td>\n",
       "      <td>2030100</td>\n",
       "      <td>Picea</td>\n",
       "      <td>Picea abies</td>\n",
       "      <td>NaN</td>\n",
       "      <td>10</td>\n",
       "      <td>2017</td>\n",
       "      <td>98</td>\n",
       "      <td>2017-04-08</td>\n",
       "      <td>0</td>\n",
       "      <td>0</td>\n",
       "      <td>0</td>\n",
       "      <td>101007</td>\n",
       "      <td>EC</td>\n",
       "    </tr>\n",
       "  </tbody>\n",
       "</table>\n",
       "</div>"
      ],
      "text/plain": [
       "        s_id  provider_id       lon      lat  alt  alt_dem   gss_id  genus  \\\n",
       "13920  19310          101   6.93333  51.1500   40       42  2030100  Picea   \n",
       "14218   2019          101   8.48333  49.9167   90       80  2030100  Picea   \n",
       "14453   3663          101  12.55000  48.0333  500      545  2030100  Picea   \n",
       "15168   2356          101   9.01667  50.1500  130      106  2030100  Picea   \n",
       "15235   2805          101   8.18333  49.4333  160      116  2030100  Picea   \n",
       "16715   2389          101   8.06667  50.0333  220      152  2030100  Picea   \n",
       "17416   2417          101   8.11667  50.0833  280      315  2030100  Picea   \n",
       "17813  21395          101   7.76667  52.0500   50       50  2030100  Picea   \n",
       "18039   2349          101   9.28333  50.2500  160      162  2030100  Picea   \n",
       "18081   2704          101   8.20000  49.7833  150      130  2030100  Picea   \n",
       "\n",
       "           species subspecies  phase_id  year  day        date  cult_season  \\\n",
       "13920  Picea abies        NaN        10  2017   92  2017-04-02            0   \n",
       "14218  Picea abies        NaN        10  2017   93  2017-04-03            0   \n",
       "14453  Picea abies        NaN        10  2017   93  2017-04-03            0   \n",
       "15168  Picea abies        NaN        10  2017   94  2017-04-04            0   \n",
       "15235  Picea abies        NaN        10  2017   94  2017-04-04            0   \n",
       "16715  Picea abies        NaN        10  2017   96  2017-04-06            0   \n",
       "17416  Picea abies        NaN        10  2017   97  2017-04-07            0   \n",
       "17813  Picea abies        NaN        10  2017   97  2017-04-07            0   \n",
       "18039  Picea abies        NaN        10  2017   98  2017-04-08            0   \n",
       "18081  Picea abies        NaN        10  2017   98  2017-04-08            0   \n",
       "\n",
       "       affected_flag  qc_flag  qc_ori_flag Label  \n",
       "13920              0        0       101007    EC  \n",
       "14218              0        0       101007    EC  \n",
       "14453              0        0       101007    EC  \n",
       "15168              0        0       101007    EC  \n",
       "15235              0        0       101007    EC  \n",
       "16715              0        0       101007    EC  \n",
       "17416              0        0       101007    EC  \n",
       "17813              0        0       101007    EC  \n",
       "18039              0        0       101007    EC  \n",
       "18081              0        0       101007    EC  "
      ]
     },
     "execution_count": 9,
     "metadata": {},
     "output_type": "execute_result"
    }
   ],
   "source": [
    "evergreen_coniferous = df.loc[df.genus.isin(['Picea', 'Pinus'])]\n",
    "evergreen_coniferous['Label'] = 'EC'\n",
    "evergreen_coniferous.head(10)"
   ]
  },
  {
   "cell_type": "code",
   "execution_count": 10,
   "metadata": {},
   "outputs": [
    {
     "data": {
      "text/plain": [
       "Picea    4497\n",
       "Name: genus, dtype: int64"
      ]
     },
     "execution_count": 10,
     "metadata": {},
     "output_type": "execute_result"
    }
   ],
   "source": [
    "evergreen_coniferous.genus.value_counts()"
   ]
  },
  {
   "cell_type": "markdown",
   "metadata": {},
   "source": [
    "##### results indicate that there is only the Picea genus present"
   ]
  },
  {
   "cell_type": "code",
   "execution_count": 11,
   "metadata": {},
   "outputs": [
    {
     "data": {
      "text/html": [
       "<div>\n",
       "<style scoped>\n",
       "    .dataframe tbody tr th:only-of-type {\n",
       "        vertical-align: middle;\n",
       "    }\n",
       "\n",
       "    .dataframe tbody tr th {\n",
       "        vertical-align: top;\n",
       "    }\n",
       "\n",
       "    .dataframe thead th {\n",
       "        text-align: right;\n",
       "    }\n",
       "</style>\n",
       "<table border=\"1\" class=\"dataframe\">\n",
       "  <thead>\n",
       "    <tr style=\"text-align: right;\">\n",
       "      <th></th>\n",
       "      <th>s_id</th>\n",
       "      <th>provider_id</th>\n",
       "      <th>lon</th>\n",
       "      <th>lat</th>\n",
       "      <th>alt</th>\n",
       "      <th>alt_dem</th>\n",
       "      <th>gss_id</th>\n",
       "      <th>genus</th>\n",
       "      <th>species</th>\n",
       "      <th>subspecies</th>\n",
       "      <th>phase_id</th>\n",
       "      <th>year</th>\n",
       "      <th>day</th>\n",
       "      <th>date</th>\n",
       "      <th>cult_season</th>\n",
       "      <th>affected_flag</th>\n",
       "      <th>qc_flag</th>\n",
       "      <th>qc_ori_flag</th>\n",
       "    </tr>\n",
       "  </thead>\n",
       "  <tbody>\n",
       "  </tbody>\n",
       "</table>\n",
       "</div>"
      ],
      "text/plain": [
       "Empty DataFrame\n",
       "Columns: [s_id, provider_id, lon, lat, alt, alt_dem, gss_id, genus, species, subspecies, phase_id, year, day, date, cult_season, affected_flag, qc_flag, qc_ori_flag]\n",
       "Index: []"
      ]
     },
     "execution_count": 11,
     "metadata": {},
     "output_type": "execute_result"
    }
   ],
   "source": [
    "df.loc[df.genus == 'Meadow']"
   ]
  },
  {
   "cell_type": "markdown",
   "metadata": {},
   "source": [
    "There is no \"Meadow\" present, but there is a \"perm_grass\" class, so this is what I will use for the third class"
   ]
  },
  {
   "cell_type": "code",
   "execution_count": 12,
   "metadata": {},
   "outputs": [
    {
     "data": {
      "text/plain": [
       "(11349, 18)"
      ]
     },
     "execution_count": 12,
     "metadata": {},
     "output_type": "execute_result"
    }
   ],
   "source": [
    "df.loc[df.genus == 'perm_grass'].shape"
   ]
  },
  {
   "cell_type": "markdown",
   "metadata": {},
   "source": [
    "It seems that there are 11349 records of this, so let's create a Meadow dataframe to add the results there"
   ]
  },
  {
   "cell_type": "code",
   "execution_count": 13,
   "metadata": {},
   "outputs": [
    {
     "name": "stderr",
     "output_type": "stream",
     "text": [
      "C:\\Users\\Kostas\\AppData\\Local\\Temp\\ipykernel_9408\\3734825887.py:2: SettingWithCopyWarning: \n",
      "A value is trying to be set on a copy of a slice from a DataFrame.\n",
      "Try using .loc[row_indexer,col_indexer] = value instead\n",
      "\n",
      "See the caveats in the documentation: https://pandas.pydata.org/pandas-docs/stable/user_guide/indexing.html#returning-a-view-versus-a-copy\n",
      "  meadow['Label'] = 'M'\n"
     ]
    },
    {
     "data": {
      "text/html": [
       "<div>\n",
       "<style scoped>\n",
       "    .dataframe tbody tr th:only-of-type {\n",
       "        vertical-align: middle;\n",
       "    }\n",
       "\n",
       "    .dataframe tbody tr th {\n",
       "        vertical-align: top;\n",
       "    }\n",
       "\n",
       "    .dataframe thead th {\n",
       "        text-align: right;\n",
       "    }\n",
       "</style>\n",
       "<table border=\"1\" class=\"dataframe\">\n",
       "  <thead>\n",
       "    <tr style=\"text-align: right;\">\n",
       "      <th></th>\n",
       "      <th>s_id</th>\n",
       "      <th>provider_id</th>\n",
       "      <th>lon</th>\n",
       "      <th>lat</th>\n",
       "      <th>alt</th>\n",
       "      <th>alt_dem</th>\n",
       "      <th>gss_id</th>\n",
       "      <th>genus</th>\n",
       "      <th>species</th>\n",
       "      <th>subspecies</th>\n",
       "      <th>phase_id</th>\n",
       "      <th>year</th>\n",
       "      <th>day</th>\n",
       "      <th>date</th>\n",
       "      <th>cult_season</th>\n",
       "      <th>affected_flag</th>\n",
       "      <th>qc_flag</th>\n",
       "      <th>qc_ori_flag</th>\n",
       "      <th>Label</th>\n",
       "    </tr>\n",
       "  </thead>\n",
       "  <tbody>\n",
       "    <tr>\n",
       "      <th>0</th>\n",
       "      <td>19544</td>\n",
       "      <td>101</td>\n",
       "      <td>7.41667</td>\n",
       "      <td>51.4500</td>\n",
       "      <td>114</td>\n",
       "      <td>151</td>\n",
       "      <td>10000</td>\n",
       "      <td>perm_grass</td>\n",
       "      <td>NaN</td>\n",
       "      <td>NaN</td>\n",
       "      <td>182</td>\n",
       "      <td>2017</td>\n",
       "      <td>9</td>\n",
       "      <td>2017-01-09</td>\n",
       "      <td>0</td>\n",
       "      <td>0</td>\n",
       "      <td>0</td>\n",
       "      <td>101007</td>\n",
       "      <td>M</td>\n",
       "    </tr>\n",
       "    <tr>\n",
       "      <th>101</th>\n",
       "      <td>4573</td>\n",
       "      <td>101</td>\n",
       "      <td>10.83330</td>\n",
       "      <td>48.2667</td>\n",
       "      <td>520</td>\n",
       "      <td>511</td>\n",
       "      <td>10000</td>\n",
       "      <td>perm_grass</td>\n",
       "      <td>NaN</td>\n",
       "      <td>NaN</td>\n",
       "      <td>182</td>\n",
       "      <td>2017</td>\n",
       "      <td>35</td>\n",
       "      <td>2017-02-04</td>\n",
       "      <td>0</td>\n",
       "      <td>0</td>\n",
       "      <td>0</td>\n",
       "      <td>101007</td>\n",
       "      <td>M</td>\n",
       "    </tr>\n",
       "    <tr>\n",
       "      <th>106</th>\n",
       "      <td>329</td>\n",
       "      <td>101</td>\n",
       "      <td>8.41667</td>\n",
       "      <td>54.7500</td>\n",
       "      <td>3</td>\n",
       "      <td>0</td>\n",
       "      <td>10000</td>\n",
       "      <td>perm_grass</td>\n",
       "      <td>NaN</td>\n",
       "      <td>NaN</td>\n",
       "      <td>182</td>\n",
       "      <td>2017</td>\n",
       "      <td>36</td>\n",
       "      <td>2017-02-05</td>\n",
       "      <td>0</td>\n",
       "      <td>0</td>\n",
       "      <td>0</td>\n",
       "      <td>101007</td>\n",
       "      <td>M</td>\n",
       "    </tr>\n",
       "    <tr>\n",
       "      <th>228</th>\n",
       "      <td>711</td>\n",
       "      <td>101</td>\n",
       "      <td>11.36670</td>\n",
       "      <td>53.0500</td>\n",
       "      <td>20</td>\n",
       "      <td>4</td>\n",
       "      <td>10000</td>\n",
       "      <td>perm_grass</td>\n",
       "      <td>NaN</td>\n",
       "      <td>NaN</td>\n",
       "      <td>182</td>\n",
       "      <td>2017</td>\n",
       "      <td>43</td>\n",
       "      <td>2017-02-12</td>\n",
       "      <td>0</td>\n",
       "      <td>0</td>\n",
       "      <td>0</td>\n",
       "      <td>101007</td>\n",
       "      <td>M</td>\n",
       "    </tr>\n",
       "    <tr>\n",
       "      <th>237</th>\n",
       "      <td>1873</td>\n",
       "      <td>101</td>\n",
       "      <td>7.33333</td>\n",
       "      <td>51.3167</td>\n",
       "      <td>170</td>\n",
       "      <td>177</td>\n",
       "      <td>10000</td>\n",
       "      <td>perm_grass</td>\n",
       "      <td>NaN</td>\n",
       "      <td>NaN</td>\n",
       "      <td>182</td>\n",
       "      <td>2017</td>\n",
       "      <td>43</td>\n",
       "      <td>2017-02-12</td>\n",
       "      <td>0</td>\n",
       "      <td>0</td>\n",
       "      <td>0</td>\n",
       "      <td>101007</td>\n",
       "      <td>M</td>\n",
       "    </tr>\n",
       "  </tbody>\n",
       "</table>\n",
       "</div>"
      ],
      "text/plain": [
       "      s_id  provider_id       lon      lat  alt  alt_dem  gss_id       genus  \\\n",
       "0    19544          101   7.41667  51.4500  114      151   10000  perm_grass   \n",
       "101   4573          101  10.83330  48.2667  520      511   10000  perm_grass   \n",
       "106    329          101   8.41667  54.7500    3        0   10000  perm_grass   \n",
       "228    711          101  11.36670  53.0500   20        4   10000  perm_grass   \n",
       "237   1873          101   7.33333  51.3167  170      177   10000  perm_grass   \n",
       "\n",
       "    species subspecies  phase_id  year  day        date  cult_season  \\\n",
       "0       NaN        NaN       182  2017    9  2017-01-09            0   \n",
       "101     NaN        NaN       182  2017   35  2017-02-04            0   \n",
       "106     NaN        NaN       182  2017   36  2017-02-05            0   \n",
       "228     NaN        NaN       182  2017   43  2017-02-12            0   \n",
       "237     NaN        NaN       182  2017   43  2017-02-12            0   \n",
       "\n",
       "     affected_flag  qc_flag  qc_ori_flag Label  \n",
       "0                0        0       101007     M  \n",
       "101              0        0       101007     M  \n",
       "106              0        0       101007     M  \n",
       "228              0        0       101007     M  \n",
       "237              0        0       101007     M  "
      ]
     },
     "execution_count": 13,
     "metadata": {},
     "output_type": "execute_result"
    }
   ],
   "source": [
    "meadow = df.loc[df.genus == 'perm_grass']\n",
    "meadow['Label'] = 'M'\n",
    "meadow.head()"
   ]
  },
  {
   "cell_type": "markdown",
   "metadata": {},
   "source": [
    "Creating a combined dataframe of the classes of interest and plotting the observation counts by year"
   ]
  },
  {
   "cell_type": "code",
   "execution_count": 14,
   "metadata": {},
   "outputs": [
    {
     "data": {
      "text/plain": [
       "<AxesSubplot: xlabel='Label,year'>"
      ]
     },
     "execution_count": 14,
     "metadata": {},
     "output_type": "execute_result"
    },
    {
     "data": {
      "image/png": "[encoded data removed]",
      "text/plain": [
       "<Figure size 432x288 with 1 Axes>"
      ]
     },
     "metadata": {
      "needs_background": "light"
     },
     "output_type": "display_data"
    }
   ],
   "source": [
    "# This will stack the dfs vertically and then plot the count by year\n",
    "\n",
    "combined_dfs = pd.concat([deciduous_broad_leaved, evergreen_coniferous, meadow], axis=0)\n",
    "combined_dfs.groupby(['Label', 'year']).size().plot.bar()\n"
   ]
  },
  {
   "cell_type": "code",
   "execution_count": 103,
   "metadata": {},
   "outputs": [
    {
     "data": {
      "text/plain": [
       "<matplotlib.legend.Legend at 0x16ffbb6eec0>"
      ]
     },
     "execution_count": 103,
     "metadata": {},
     "output_type": "execute_result"
    },
    {
     "data": {
      "image/png": "[encoded data removed]",
      "text/plain": [
       "<Figure size 432x288 with 1 Axes>"
      ]
     },
     "metadata": {},
     "output_type": "display_data"
    }
   ],
   "source": [
    "# Using seaborn for better visualisation\n",
    "\n",
    "sns.set_theme(style=\"darkgrid\", font=\"Verdana\")\n",
    "ax = sns.countplot(data=combined_dfs, x=\"Label\", hue=\"year\")\n",
    "ax.set(title=\"Vegetation group counts by year\", xlabel=\"Vegetation Category\", ylabel=\"Count\")\n",
    "ax.set_yticks(range(0, 25000, 4000))\n",
    "\n",
    "# Change label title\n",
    "plt.legend(title=\"Year of observation\")\n",
    "\n",
    "\n"
   ]
  },
  {
   "cell_type": "code",
   "execution_count": 15,
   "metadata": {},
   "outputs": [
    {
     "data": {
      "text/plain": [
       "2017    26932\n",
       "2018    26254\n",
       "2019    25589\n",
       "2020    25470\n",
       "2021    25085\n",
       "Name: year, dtype: int64"
      ]
     },
     "execution_count": 15,
     "metadata": {},
     "output_type": "execute_result"
    }
   ],
   "source": [
    "combined_dfs.year.value_counts()"
   ]
  },
  {
   "cell_type": "markdown",
   "metadata": {},
   "source": [
    "## 3. Removing unecessary columns <a class=\"anchor\" id=\"removing\"></a>"
   ]
  },
  {
   "cell_type": "code",
   "execution_count": 55,
   "metadata": {},
   "outputs": [
    {
     "data": {
      "text/html": [
       "<div>\n",
       "<style scoped>\n",
       "    .dataframe tbody tr th:only-of-type {\n",
       "        vertical-align: middle;\n",
       "    }\n",
       "\n",
       "    .dataframe tbody tr th {\n",
       "        vertical-align: top;\n",
       "    }\n",
       "\n",
       "    .dataframe thead th {\n",
       "        text-align: right;\n",
       "    }\n",
       "</style>\n",
       "<table border=\"1\" class=\"dataframe\">\n",
       "  <thead>\n",
       "    <tr style=\"text-align: right;\">\n",
       "      <th></th>\n",
       "      <th>s_id</th>\n",
       "      <th>lon</th>\n",
       "      <th>lat</th>\n",
       "      <th>alt</th>\n",
       "      <th>alt_dem</th>\n",
       "      <th>gss_id</th>\n",
       "      <th>genus</th>\n",
       "      <th>species</th>\n",
       "      <th>phase_id</th>\n",
       "      <th>year</th>\n",
       "      <th>day</th>\n",
       "      <th>date</th>\n",
       "      <th>Label</th>\n",
       "      <th>geometry</th>\n",
       "    </tr>\n",
       "  </thead>\n",
       "  <tbody>\n",
       "    <tr>\n",
       "      <th>48825</th>\n",
       "      <td>19544</td>\n",
       "      <td>7.41667</td>\n",
       "      <td>51.4500</td>\n",
       "      <td>114</td>\n",
       "      <td>151</td>\n",
       "      <td>2290100</td>\n",
       "      <td>Sorbus</td>\n",
       "      <td>Sorbus aucuparia</td>\n",
       "      <td>286</td>\n",
       "      <td>2017</td>\n",
       "      <td>179</td>\n",
       "      <td>2017-06-28</td>\n",
       "      <td>DBL</td>\n",
       "      <td>POINT Z (7.41667 51.45000 114.00000)</td>\n",
       "    </tr>\n",
       "    <tr>\n",
       "      <th>49037</th>\n",
       "      <td>4866</td>\n",
       "      <td>13.23330</td>\n",
       "      <td>51.8167</td>\n",
       "      <td>80</td>\n",
       "      <td>70</td>\n",
       "      <td>2290100</td>\n",
       "      <td>Sorbus</td>\n",
       "      <td>Sorbus aucuparia</td>\n",
       "      <td>286</td>\n",
       "      <td>2017</td>\n",
       "      <td>181</td>\n",
       "      <td>2017-06-30</td>\n",
       "      <td>DBL</td>\n",
       "      <td>POINT Z (13.23330 51.81670 80.00000)</td>\n",
       "    </tr>\n",
       "    <tr>\n",
       "      <th>49268</th>\n",
       "      <td>2733</td>\n",
       "      <td>8.13333</td>\n",
       "      <td>49.3500</td>\n",
       "      <td>140</td>\n",
       "      <td>146</td>\n",
       "      <td>2290100</td>\n",
       "      <td>Sorbus</td>\n",
       "      <td>Sorbus aucuparia</td>\n",
       "      <td>286</td>\n",
       "      <td>2017</td>\n",
       "      <td>183</td>\n",
       "      <td>2017-07-02</td>\n",
       "      <td>DBL</td>\n",
       "      <td>POINT Z (8.13333 49.35000 140.00000)</td>\n",
       "    </tr>\n",
       "    <tr>\n",
       "      <th>49306</th>\n",
       "      <td>4632</td>\n",
       "      <td>7.05000</td>\n",
       "      <td>49.1667</td>\n",
       "      <td>230</td>\n",
       "      <td>306</td>\n",
       "      <td>2290100</td>\n",
       "      <td>Sorbus</td>\n",
       "      <td>Sorbus aucuparia</td>\n",
       "      <td>286</td>\n",
       "      <td>2017</td>\n",
       "      <td>183</td>\n",
       "      <td>2017-07-02</td>\n",
       "      <td>DBL</td>\n",
       "      <td>POINT Z (7.05000 49.16670 230.00000)</td>\n",
       "    </tr>\n",
       "    <tr>\n",
       "      <th>49377</th>\n",
       "      <td>1887</td>\n",
       "      <td>7.66667</td>\n",
       "      <td>51.5833</td>\n",
       "      <td>60</td>\n",
       "      <td>53</td>\n",
       "      <td>2290100</td>\n",
       "      <td>Sorbus</td>\n",
       "      <td>Sorbus aucuparia</td>\n",
       "      <td>286</td>\n",
       "      <td>2017</td>\n",
       "      <td>184</td>\n",
       "      <td>2017-07-03</td>\n",
       "      <td>DBL</td>\n",
       "      <td>POINT Z (7.66667 51.58330 60.00000)</td>\n",
       "    </tr>\n",
       "    <tr>\n",
       "      <th>...</th>\n",
       "      <td>...</td>\n",
       "      <td>...</td>\n",
       "      <td>...</td>\n",
       "      <td>...</td>\n",
       "      <td>...</td>\n",
       "      <td>...</td>\n",
       "      <td>...</td>\n",
       "      <td>...</td>\n",
       "      <td>...</td>\n",
       "      <td>...</td>\n",
       "      <td>...</td>\n",
       "      <td>...</td>\n",
       "      <td>...</td>\n",
       "      <td>...</td>\n",
       "    </tr>\n",
       "    <tr>\n",
       "      <th>325909</th>\n",
       "      <td>5456</td>\n",
       "      <td>13.75000</td>\n",
       "      <td>50.7333</td>\n",
       "      <td>875</td>\n",
       "      <td>864</td>\n",
       "      <td>10000</td>\n",
       "      <td>perm_grass</td>\n",
       "      <td>NaN</td>\n",
       "      <td>131</td>\n",
       "      <td>2021</td>\n",
       "      <td>244</td>\n",
       "      <td>2021-09-01</td>\n",
       "      <td>M</td>\n",
       "      <td>POINT Z (13.75000 50.73330 875.00000)</td>\n",
       "    </tr>\n",
       "    <tr>\n",
       "      <th>326955</th>\n",
       "      <td>961</td>\n",
       "      <td>7.50000</td>\n",
       "      <td>52.7667</td>\n",
       "      <td>30</td>\n",
       "      <td>33</td>\n",
       "      <td>10000</td>\n",
       "      <td>perm_grass</td>\n",
       "      <td>NaN</td>\n",
       "      <td>111</td>\n",
       "      <td>2021</td>\n",
       "      <td>257</td>\n",
       "      <td>2021-09-14</td>\n",
       "      <td>M</td>\n",
       "      <td>POINT Z (7.50000 52.76670 30.00000)</td>\n",
       "    </tr>\n",
       "    <tr>\n",
       "      <th>327180</th>\n",
       "      <td>20595</td>\n",
       "      <td>8.50000</td>\n",
       "      <td>49.4667</td>\n",
       "      <td>95</td>\n",
       "      <td>86</td>\n",
       "      <td>10000</td>\n",
       "      <td>perm_grass</td>\n",
       "      <td>NaN</td>\n",
       "      <td>131</td>\n",
       "      <td>2021</td>\n",
       "      <td>258</td>\n",
       "      <td>2021-09-15</td>\n",
       "      <td>M</td>\n",
       "      <td>POINT Z (8.50000 49.46670 95.00000)</td>\n",
       "    </tr>\n",
       "    <tr>\n",
       "      <th>333225</th>\n",
       "      <td>19312</td>\n",
       "      <td>8.36667</td>\n",
       "      <td>48.6000</td>\n",
       "      <td>490</td>\n",
       "      <td>622</td>\n",
       "      <td>10000</td>\n",
       "      <td>perm_grass</td>\n",
       "      <td>NaN</td>\n",
       "      <td>131</td>\n",
       "      <td>2021</td>\n",
       "      <td>285</td>\n",
       "      <td>2021-10-12</td>\n",
       "      <td>M</td>\n",
       "      <td>POINT Z (8.36667 48.60000 490.00000)</td>\n",
       "    </tr>\n",
       "    <tr>\n",
       "      <th>334122</th>\n",
       "      <td>8197</td>\n",
       "      <td>10.98330</td>\n",
       "      <td>48.2333</td>\n",
       "      <td>525</td>\n",
       "      <td>504</td>\n",
       "      <td>10000</td>\n",
       "      <td>perm_grass</td>\n",
       "      <td>NaN</td>\n",
       "      <td>111</td>\n",
       "      <td>2021</td>\n",
       "      <td>289</td>\n",
       "      <td>2021-10-16</td>\n",
       "      <td>M</td>\n",
       "      <td>POINT Z (10.98330 48.23330 525.00000)</td>\n",
       "    </tr>\n",
       "  </tbody>\n",
       "</table>\n",
       "<p>45517 rows × 14 columns</p>\n",
       "</div>"
      ],
      "text/plain": [
       "         s_id       lon      lat  alt  alt_dem   gss_id       genus  \\\n",
       "48825   19544   7.41667  51.4500  114      151  2290100      Sorbus   \n",
       "49037    4866  13.23330  51.8167   80       70  2290100      Sorbus   \n",
       "49268    2733   8.13333  49.3500  140      146  2290100      Sorbus   \n",
       "49306    4632   7.05000  49.1667  230      306  2290100      Sorbus   \n",
       "49377    1887   7.66667  51.5833   60       53  2290100      Sorbus   \n",
       "...       ...       ...      ...  ...      ...      ...         ...   \n",
       "325909   5456  13.75000  50.7333  875      864    10000  perm_grass   \n",
       "326955    961   7.50000  52.7667   30       33    10000  perm_grass   \n",
       "327180  20595   8.50000  49.4667   95       86    10000  perm_grass   \n",
       "333225  19312   8.36667  48.6000  490      622    10000  perm_grass   \n",
       "334122   8197  10.98330  48.2333  525      504    10000  perm_grass   \n",
       "\n",
       "                 species  phase_id  year  day        date Label  \\\n",
       "48825   Sorbus aucuparia       286  2017  179  2017-06-28   DBL   \n",
       "49037   Sorbus aucuparia       286  2017  181  2017-06-30   DBL   \n",
       "49268   Sorbus aucuparia       286  2017  183  2017-07-02   DBL   \n",
       "49306   Sorbus aucuparia       286  2017  183  2017-07-02   DBL   \n",
       "49377   Sorbus aucuparia       286  2017  184  2017-07-03   DBL   \n",
       "...                  ...       ...   ...  ...         ...   ...   \n",
       "325909               NaN       131  2021  244  2021-09-01     M   \n",
       "326955               NaN       111  2021  257  2021-09-14     M   \n",
       "327180               NaN       131  2021  258  2021-09-15     M   \n",
       "333225               NaN       131  2021  285  2021-10-12     M   \n",
       "334122               NaN       111  2021  289  2021-10-16     M   \n",
       "\n",
       "                                     geometry  \n",
       "48825    POINT Z (7.41667 51.45000 114.00000)  \n",
       "49037    POINT Z (13.23330 51.81670 80.00000)  \n",
       "49268    POINT Z (8.13333 49.35000 140.00000)  \n",
       "49306    POINT Z (7.05000 49.16670 230.00000)  \n",
       "49377     POINT Z (7.66667 51.58330 60.00000)  \n",
       "...                                       ...  \n",
       "325909  POINT Z (13.75000 50.73330 875.00000)  \n",
       "326955    POINT Z (7.50000 52.76670 30.00000)  \n",
       "327180    POINT Z (8.50000 49.46670 95.00000)  \n",
       "333225   POINT Z (8.36667 48.60000 490.00000)  \n",
       "334122  POINT Z (10.98330 48.23330 525.00000)  \n",
       "\n",
       "[45517 rows x 14 columns]"
      ]
     },
     "execution_count": 55,
     "metadata": {},
     "output_type": "execute_result"
    }
   ],
   "source": [
    "combined_dfs[combined_dfs.phase_id > 99]"
   ]
  },
  {
   "cell_type": "code",
   "execution_count": 16,
   "metadata": {},
   "outputs": [
    {
     "data": {
      "text/html": [
       "<div>\n",
       "<style scoped>\n",
       "    .dataframe tbody tr th:only-of-type {\n",
       "        vertical-align: middle;\n",
       "    }\n",
       "\n",
       "    .dataframe tbody tr th {\n",
       "        vertical-align: top;\n",
       "    }\n",
       "\n",
       "    .dataframe thead th {\n",
       "        text-align: right;\n",
       "    }\n",
       "</style>\n",
       "<table border=\"1\" class=\"dataframe\">\n",
       "  <thead>\n",
       "    <tr style=\"text-align: right;\">\n",
       "      <th></th>\n",
       "      <th>s_id</th>\n",
       "      <th>provider_id</th>\n",
       "      <th>lon</th>\n",
       "      <th>lat</th>\n",
       "      <th>alt</th>\n",
       "      <th>alt_dem</th>\n",
       "      <th>gss_id</th>\n",
       "      <th>genus</th>\n",
       "      <th>species</th>\n",
       "      <th>subspecies</th>\n",
       "      <th>phase_id</th>\n",
       "      <th>year</th>\n",
       "      <th>day</th>\n",
       "      <th>date</th>\n",
       "      <th>cult_season</th>\n",
       "      <th>affected_flag</th>\n",
       "      <th>qc_flag</th>\n",
       "      <th>qc_ori_flag</th>\n",
       "      <th>Label</th>\n",
       "    </tr>\n",
       "  </thead>\n",
       "  <tbody>\n",
       "    <tr>\n",
       "      <th>2288</th>\n",
       "      <td>124</td>\n",
       "      <td>101</td>\n",
       "      <td>9.13333</td>\n",
       "      <td>54.6667</td>\n",
       "      <td>20</td>\n",
       "      <td>8</td>\n",
       "      <td>2210500</td>\n",
       "      <td>Salix</td>\n",
       "      <td>Salix caprea</td>\n",
       "      <td>NaN</td>\n",
       "      <td>60</td>\n",
       "      <td>2017</td>\n",
       "      <td>60</td>\n",
       "      <td>2017-03-01</td>\n",
       "      <td>0</td>\n",
       "      <td>0</td>\n",
       "      <td>0</td>\n",
       "      <td>101007</td>\n",
       "      <td>DBL</td>\n",
       "    </tr>\n",
       "    <tr>\n",
       "      <th>2293</th>\n",
       "      <td>238</td>\n",
       "      <td>101</td>\n",
       "      <td>9.40000</td>\n",
       "      <td>54.5500</td>\n",
       "      <td>11</td>\n",
       "      <td>15</td>\n",
       "      <td>2210500</td>\n",
       "      <td>Salix</td>\n",
       "      <td>Salix caprea</td>\n",
       "      <td>NaN</td>\n",
       "      <td>60</td>\n",
       "      <td>2017</td>\n",
       "      <td>60</td>\n",
       "      <td>2017-03-01</td>\n",
       "      <td>0</td>\n",
       "      <td>0</td>\n",
       "      <td>0</td>\n",
       "      <td>101007</td>\n",
       "      <td>DBL</td>\n",
       "    </tr>\n",
       "    <tr>\n",
       "      <th>2296</th>\n",
       "      <td>349</td>\n",
       "      <td>101</td>\n",
       "      <td>10.18330</td>\n",
       "      <td>53.6000</td>\n",
       "      <td>40</td>\n",
       "      <td>38</td>\n",
       "      <td>1050100</td>\n",
       "      <td>Alnus</td>\n",
       "      <td>Alnus glutinosa</td>\n",
       "      <td>NaN</td>\n",
       "      <td>60</td>\n",
       "      <td>2017</td>\n",
       "      <td>60</td>\n",
       "      <td>2017-03-01</td>\n",
       "      <td>0</td>\n",
       "      <td>0</td>\n",
       "      <td>0</td>\n",
       "      <td>101007</td>\n",
       "      <td>DBL</td>\n",
       "    </tr>\n",
       "    <tr>\n",
       "      <th>2298</th>\n",
       "      <td>354</td>\n",
       "      <td>101</td>\n",
       "      <td>8.50000</td>\n",
       "      <td>52.7000</td>\n",
       "      <td>35</td>\n",
       "      <td>41</td>\n",
       "      <td>1050100</td>\n",
       "      <td>Alnus</td>\n",
       "      <td>Alnus glutinosa</td>\n",
       "      <td>NaN</td>\n",
       "      <td>60</td>\n",
       "      <td>2017</td>\n",
       "      <td>60</td>\n",
       "      <td>2017-03-01</td>\n",
       "      <td>0</td>\n",
       "      <td>0</td>\n",
       "      <td>0</td>\n",
       "      <td>101007</td>\n",
       "      <td>DBL</td>\n",
       "    </tr>\n",
       "    <tr>\n",
       "      <th>2307</th>\n",
       "      <td>1298</td>\n",
       "      <td>101</td>\n",
       "      <td>7.33333</td>\n",
       "      <td>51.1333</td>\n",
       "      <td>220</td>\n",
       "      <td>275</td>\n",
       "      <td>1050100</td>\n",
       "      <td>Alnus</td>\n",
       "      <td>Alnus glutinosa</td>\n",
       "      <td>NaN</td>\n",
       "      <td>60</td>\n",
       "      <td>2017</td>\n",
       "      <td>60</td>\n",
       "      <td>2017-03-01</td>\n",
       "      <td>0</td>\n",
       "      <td>0</td>\n",
       "      <td>0</td>\n",
       "      <td>101007</td>\n",
       "      <td>DBL</td>\n",
       "    </tr>\n",
       "  </tbody>\n",
       "</table>\n",
       "</div>"
      ],
      "text/plain": [
       "      s_id  provider_id       lon      lat  alt  alt_dem   gss_id  genus  \\\n",
       "2288   124          101   9.13333  54.6667   20        8  2210500  Salix   \n",
       "2293   238          101   9.40000  54.5500   11       15  2210500  Salix   \n",
       "2296   349          101  10.18330  53.6000   40       38  1050100  Alnus   \n",
       "2298   354          101   8.50000  52.7000   35       41  1050100  Alnus   \n",
       "2307  1298          101   7.33333  51.1333  220      275  1050100  Alnus   \n",
       "\n",
       "              species subspecies  phase_id  year  day        date  \\\n",
       "2288     Salix caprea        NaN        60  2017   60  2017-03-01   \n",
       "2293     Salix caprea        NaN        60  2017   60  2017-03-01   \n",
       "2296  Alnus glutinosa        NaN        60  2017   60  2017-03-01   \n",
       "2298  Alnus glutinosa        NaN        60  2017   60  2017-03-01   \n",
       "2307  Alnus glutinosa        NaN        60  2017   60  2017-03-01   \n",
       "\n",
       "      cult_season  affected_flag  qc_flag  qc_ori_flag Label  \n",
       "2288            0              0        0       101007   DBL  \n",
       "2293            0              0        0       101007   DBL  \n",
       "2296            0              0        0       101007   DBL  \n",
       "2298            0              0        0       101007   DBL  \n",
       "2307            0              0        0       101007   DBL  "
      ]
     },
     "execution_count": 16,
     "metadata": {},
     "output_type": "execute_result"
    }
   ],
   "source": [
    "# Checking how the days are numbered.\n",
    "combined_dfs[combined_dfs[\"date\"] > \"2017-02-30\"].head()"
   ]
  },
  {
   "cell_type": "markdown",
   "metadata": {},
   "source": [
    "They seem to pass the 30 day mark so they symbolize the day of the year (0-365)"
   ]
  },
  {
   "cell_type": "code",
   "execution_count": 17,
   "metadata": {},
   "outputs": [
    {
     "data": {
      "text/plain": [
       "0    129330\n",
       "Name: qc_flag, dtype: int64"
      ]
     },
     "execution_count": 17,
     "metadata": {},
     "output_type": "execute_result"
    }
   ],
   "source": [
    "combined_dfs.qc_flag.value_counts()"
   ]
  },
  {
   "cell_type": "code",
   "execution_count": 18,
   "metadata": {},
   "outputs": [
    {
     "data": {
      "text/html": [
       "<div>\n",
       "<style scoped>\n",
       "    .dataframe tbody tr th:only-of-type {\n",
       "        vertical-align: middle;\n",
       "    }\n",
       "\n",
       "    .dataframe tbody tr th {\n",
       "        vertical-align: top;\n",
       "    }\n",
       "\n",
       "    .dataframe thead th {\n",
       "        text-align: right;\n",
       "    }\n",
       "</style>\n",
       "<table border=\"1\" class=\"dataframe\">\n",
       "  <thead>\n",
       "    <tr style=\"text-align: right;\">\n",
       "      <th></th>\n",
       "      <th>s_id</th>\n",
       "      <th>provider_id</th>\n",
       "      <th>lon</th>\n",
       "      <th>lat</th>\n",
       "      <th>alt</th>\n",
       "      <th>alt_dem</th>\n",
       "      <th>gss_id</th>\n",
       "      <th>genus</th>\n",
       "      <th>species</th>\n",
       "      <th>subspecies</th>\n",
       "      <th>phase_id</th>\n",
       "      <th>year</th>\n",
       "      <th>day</th>\n",
       "      <th>date</th>\n",
       "      <th>cult_season</th>\n",
       "      <th>affected_flag</th>\n",
       "      <th>qc_flag</th>\n",
       "      <th>qc_ori_flag</th>\n",
       "      <th>Label</th>\n",
       "    </tr>\n",
       "  </thead>\n",
       "  <tbody>\n",
       "    <tr>\n",
       "      <th>208535</th>\n",
       "      <td>19544</td>\n",
       "      <td>101</td>\n",
       "      <td>7.41667</td>\n",
       "      <td>51.45</td>\n",
       "      <td>114</td>\n",
       "      <td>151</td>\n",
       "      <td>10000</td>\n",
       "      <td>perm_grass</td>\n",
       "      <td>NaN</td>\n",
       "      <td>NaN</td>\n",
       "      <td>182</td>\n",
       "      <td>2019</td>\n",
       "      <td>362</td>\n",
       "      <td>2019-12-28</td>\n",
       "      <td>0</td>\n",
       "      <td>1</td>\n",
       "      <td>0</td>\n",
       "      <td>101007</td>\n",
       "      <td>M</td>\n",
       "    </tr>\n",
       "  </tbody>\n",
       "</table>\n",
       "</div>"
      ],
      "text/plain": [
       "         s_id  provider_id      lon    lat  alt  alt_dem  gss_id       genus  \\\n",
       "208535  19544          101  7.41667  51.45  114      151   10000  perm_grass   \n",
       "\n",
       "       species subspecies  phase_id  year  day        date  cult_season  \\\n",
       "208535     NaN        NaN       182  2019  362  2019-12-28            0   \n",
       "\n",
       "        affected_flag  qc_flag  qc_ori_flag Label  \n",
       "208535              1        0       101007     M  "
      ]
     },
     "execution_count": 18,
     "metadata": {},
     "output_type": "execute_result"
    }
   ],
   "source": [
    "combined_dfs.loc[combined_dfs[\"affected_flag\"] == 1]"
   ]
  },
  {
   "cell_type": "code",
   "execution_count": 19,
   "metadata": {},
   "outputs": [
    {
     "data": {
      "text/plain": [
       "Int64Index([208535], dtype='int64')"
      ]
     },
     "execution_count": 19,
     "metadata": {},
     "output_type": "execute_result"
    }
   ],
   "source": [
    "combined_dfs.index[combined_dfs[\"affected_flag\"] == 1]"
   ]
  },
  {
   "cell_type": "code",
   "execution_count": 20,
   "metadata": {},
   "outputs": [
    {
     "data": {
      "text/plain": [
       "(129329, 19)"
      ]
     },
     "execution_count": 20,
     "metadata": {},
     "output_type": "execute_result"
    }
   ],
   "source": [
    "# Removing this because it is just 1 out of 129,000\n",
    "\n",
    "combined_dfs.drop([208535], inplace=True);\n",
    "combined_dfs.shape"
   ]
  },
  {
   "cell_type": "markdown",
   "metadata": {},
   "source": [
    "Below I am trying to find out how much variability is in the counts of the values of the columns. \\\n",
    "In case all the records of a column have the same value, the column can be deleted."
   ]
  },
  {
   "cell_type": "code",
   "execution_count": 21,
   "metadata": {},
   "outputs": [],
   "source": [
    "# Get value counts for the columns \n",
    "\n",
    "# Columns of interest to check\n",
    "cols = ['provider_id', 'subspecies', 'cult_season', 'affected_flag', 'qc_flag', 'qc_ori_flag']\n",
    "counts = []\n",
    "for col in cols:\n",
    "    tmp_series = combined_dfs[col].value_counts()\n",
    "    tmp_series.name = col\n",
    "    counts.append(tmp_series)\n",
    "combined_dfs_value_counts = pd.concat(counts, axis=1)\n"
   ]
  },
  {
   "cell_type": "code",
   "execution_count": 22,
   "metadata": {},
   "outputs": [
    {
     "data": {
      "text/html": [
       "<div>\n",
       "<style scoped>\n",
       "    .dataframe tbody tr th:only-of-type {\n",
       "        vertical-align: middle;\n",
       "    }\n",
       "\n",
       "    .dataframe tbody tr th {\n",
       "        vertical-align: top;\n",
       "    }\n",
       "\n",
       "    .dataframe thead th {\n",
       "        text-align: right;\n",
       "    }\n",
       "</style>\n",
       "<table border=\"1\" class=\"dataframe\">\n",
       "  <thead>\n",
       "    <tr style=\"text-align: right;\">\n",
       "      <th></th>\n",
       "      <th>provider_id</th>\n",
       "      <th>subspecies</th>\n",
       "      <th>cult_season</th>\n",
       "      <th>affected_flag</th>\n",
       "      <th>qc_flag</th>\n",
       "      <th>qc_ori_flag</th>\n",
       "    </tr>\n",
       "  </thead>\n",
       "  <tbody>\n",
       "    <tr>\n",
       "      <th>101</th>\n",
       "      <td>129329.0</td>\n",
       "      <td>NaN</td>\n",
       "      <td>NaN</td>\n",
       "      <td>NaN</td>\n",
       "      <td>NaN</td>\n",
       "      <td>NaN</td>\n",
       "    </tr>\n",
       "    <tr>\n",
       "      <th>0</th>\n",
       "      <td>NaN</td>\n",
       "      <td>NaN</td>\n",
       "      <td>129329.0</td>\n",
       "      <td>129329.0</td>\n",
       "      <td>129329.0</td>\n",
       "      <td>NaN</td>\n",
       "    </tr>\n",
       "    <tr>\n",
       "      <th>101007</th>\n",
       "      <td>NaN</td>\n",
       "      <td>NaN</td>\n",
       "      <td>NaN</td>\n",
       "      <td>NaN</td>\n",
       "      <td>NaN</td>\n",
       "      <td>129329.0</td>\n",
       "    </tr>\n",
       "  </tbody>\n",
       "</table>\n",
       "</div>"
      ],
      "text/plain": [
       "        provider_id  subspecies  cult_season  affected_flag   qc_flag  \\\n",
       "101        129329.0         NaN          NaN            NaN       NaN   \n",
       "0               NaN         NaN     129329.0       129329.0  129329.0   \n",
       "101007          NaN         NaN          NaN            NaN       NaN   \n",
       "\n",
       "        qc_ori_flag  \n",
       "101             NaN  \n",
       "0               NaN  \n",
       "101007     129329.0  "
      ]
     },
     "execution_count": 22,
     "metadata": {},
     "output_type": "execute_result"
    }
   ],
   "source": [
    "combined_dfs_value_counts"
   ]
  },
  {
   "cell_type": "code",
   "execution_count": 23,
   "metadata": {},
   "outputs": [
    {
     "data": {
      "text/plain": [
       "(129329, 19)"
      ]
     },
     "execution_count": 23,
     "metadata": {},
     "output_type": "execute_result"
    }
   ],
   "source": [
    "combined_dfs.shape"
   ]
  },
  {
   "cell_type": "markdown",
   "metadata": {},
   "source": [
    "The values are uniform for all the data for those columns, so I am dropping them"
   ]
  },
  {
   "cell_type": "code",
   "execution_count": 24,
   "metadata": {},
   "outputs": [
    {
     "data": {
      "text/plain": [
       "(129329, 13)"
      ]
     },
     "execution_count": 24,
     "metadata": {},
     "output_type": "execute_result"
    }
   ],
   "source": [
    "combined_dfs.drop(cols, axis=1, inplace=True)\n",
    "combined_dfs.shape"
   ]
  },
  {
   "cell_type": "markdown",
   "metadata": {},
   "source": [
    "## 4. Adding the spatial aspect to the data <a class=\"anchor\" id=\"spatial\"></a>\n",
    "\n",
    "The dataframe has the coordinates in two separate fields, with no geospatial meaning yet. \\\n",
    "Therefore, it needs to be transformed to a GeoDataFrame to work with geopandas. \\\n",
    "A GeoDataFrame needs a shapely object, so the lon lat values will be transformed to points and will be set as the geometry of the GeoDataFrame."
   ]
  },
  {
   "cell_type": "code",
   "execution_count": 25,
   "metadata": {},
   "outputs": [],
   "source": [
    "import geopandas as gpd"
   ]
  },
  {
   "cell_type": "markdown",
   "metadata": {},
   "source": [
    "Creating a combined geodataframe with the WGS 84 / UTM zone 32N that is used in Germany. Web Mercator was considered as an option \\\n",
    "but it is not suitable for distance calculations, which will happen later with the buffer calculations"
   ]
  },
  {
   "cell_type": "code",
   "execution_count": 26,
   "metadata": {},
   "outputs": [],
   "source": [
    "# Creating a combined geodataframe. I'm specifying the crs as WGS84.\n",
    "\n",
    "combined_gdf = gpd.GeoDataFrame(combined_dfs, geometry=gpd.points_from_xy(combined_dfs.lon, combined_dfs.lat, combined_dfs.alt, crs='4326'))"
   ]
  },
  {
   "cell_type": "code",
   "execution_count": 27,
   "metadata": {},
   "outputs": [
    {
     "data": {
      "text/plain": [
       "<Derived Projected CRS: EPSG:32632>\n",
       "Name: WGS 84 / UTM zone 32N\n",
       "Axis Info [cartesian]:\n",
       "- E[east]: Easting (metre)\n",
       "- N[north]: Northing (metre)\n",
       "Area of Use:\n",
       "- name: Between 6°E and 12°E, northern hemisphere between equator and 84°N, onshore and offshore. Algeria. Austria. Cameroon. Denmark. Equatorial Guinea. France. Gabon. Germany. Italy. Libya. Liechtenstein. Monaco. Netherlands. Niger. Nigeria. Norway. Sao Tome and Principe. Svalbard. Sweden. Switzerland. Tunisia. Vatican City State.\n",
       "- bounds: (6.0, 0.0, 12.0, 84.0)\n",
       "Coordinate Operation:\n",
       "- name: UTM zone 32N\n",
       "- method: Transverse Mercator\n",
       "Datum: World Geodetic System 1984 ensemble\n",
       "- Ellipsoid: WGS 84\n",
       "- Prime Meridian: Greenwich"
      ]
     },
     "execution_count": 27,
     "metadata": {},
     "output_type": "execute_result"
    }
   ],
   "source": [
    "# Reprojecting to WGS 84 / UTM zone 32N\n",
    "combined_gdf = combined_gdf.to_crs(crs='EPSG:32632')\n",
    "combined_gdf.crs"
   ]
  },
  {
   "cell_type": "code",
   "execution_count": 28,
   "metadata": {},
   "outputs": [
    {
     "data": {
      "text/html": [
       "<div>\n",
       "<style scoped>\n",
       "    .dataframe tbody tr th:only-of-type {\n",
       "        vertical-align: middle;\n",
       "    }\n",
       "\n",
       "    .dataframe tbody tr th {\n",
       "        vertical-align: top;\n",
       "    }\n",
       "\n",
       "    .dataframe thead th {\n",
       "        text-align: right;\n",
       "    }\n",
       "</style>\n",
       "<table border=\"1\" class=\"dataframe\">\n",
       "  <thead>\n",
       "    <tr style=\"text-align: right;\">\n",
       "      <th></th>\n",
       "      <th>s_id</th>\n",
       "      <th>lon</th>\n",
       "      <th>lat</th>\n",
       "      <th>alt</th>\n",
       "      <th>alt_dem</th>\n",
       "      <th>gss_id</th>\n",
       "      <th>genus</th>\n",
       "      <th>species</th>\n",
       "      <th>phase_id</th>\n",
       "      <th>year</th>\n",
       "      <th>day</th>\n",
       "      <th>date</th>\n",
       "      <th>Label</th>\n",
       "      <th>geometry</th>\n",
       "    </tr>\n",
       "  </thead>\n",
       "  <tbody>\n",
       "    <tr>\n",
       "      <th>23</th>\n",
       "      <td>5363</td>\n",
       "      <td>13.91670</td>\n",
       "      <td>54.0833</td>\n",
       "      <td>2</td>\n",
       "      <td>0</td>\n",
       "      <td>1050100</td>\n",
       "      <td>Alnus</td>\n",
       "      <td>Alnus glutinosa</td>\n",
       "      <td>60</td>\n",
       "      <td>2017</td>\n",
       "      <td>27</td>\n",
       "      <td>2017-01-27</td>\n",
       "      <td>DBL</td>\n",
       "      <td>POINT Z (821520.468 6003973.720 2.000)</td>\n",
       "    </tr>\n",
       "    <tr>\n",
       "      <th>30</th>\n",
       "      <td>1554</td>\n",
       "      <td>7.51667</td>\n",
       "      <td>51.7333</td>\n",
       "      <td>60</td>\n",
       "      <td>72</td>\n",
       "      <td>2210500</td>\n",
       "      <td>Salix</td>\n",
       "      <td>Salix caprea</td>\n",
       "      <td>60</td>\n",
       "      <td>2017</td>\n",
       "      <td>29</td>\n",
       "      <td>2017-01-29</td>\n",
       "      <td>DBL</td>\n",
       "      <td>POINT Z (397567.206 5732416.903 60.000)</td>\n",
       "    </tr>\n",
       "    <tr>\n",
       "      <th>42</th>\n",
       "      <td>3120</td>\n",
       "      <td>8.68333</td>\n",
       "      <td>49.5500</td>\n",
       "      <td>140</td>\n",
       "      <td>261</td>\n",
       "      <td>1050100</td>\n",
       "      <td>Alnus</td>\n",
       "      <td>Alnus glutinosa</td>\n",
       "      <td>60</td>\n",
       "      <td>2017</td>\n",
       "      <td>31</td>\n",
       "      <td>2017-01-31</td>\n",
       "      <td>DBL</td>\n",
       "      <td>POINT Z (477094.080 5488647.767 140.000)</td>\n",
       "    </tr>\n",
       "    <tr>\n",
       "      <th>53</th>\n",
       "      <td>2021</td>\n",
       "      <td>8.58333</td>\n",
       "      <td>50.0000</td>\n",
       "      <td>100</td>\n",
       "      <td>101</td>\n",
       "      <td>1050100</td>\n",
       "      <td>Alnus</td>\n",
       "      <td>Alnus glutinosa</td>\n",
       "      <td>60</td>\n",
       "      <td>2017</td>\n",
       "      <td>32</td>\n",
       "      <td>2017-02-01</td>\n",
       "      <td>DBL</td>\n",
       "      <td>POINT Z (470138.525 5538713.881 100.000)</td>\n",
       "    </tr>\n",
       "    <tr>\n",
       "      <th>63</th>\n",
       "      <td>1521</td>\n",
       "      <td>7.83333</td>\n",
       "      <td>51.7000</td>\n",
       "      <td>60</td>\n",
       "      <td>58</td>\n",
       "      <td>1050100</td>\n",
       "      <td>Alnus</td>\n",
       "      <td>Alnus glutinosa</td>\n",
       "      <td>60</td>\n",
       "      <td>2017</td>\n",
       "      <td>33</td>\n",
       "      <td>2017-02-02</td>\n",
       "      <td>DBL</td>\n",
       "      <td>POINT Z (419374.473 5728316.443 60.000)</td>\n",
       "    </tr>\n",
       "  </tbody>\n",
       "</table>\n",
       "</div>"
      ],
      "text/plain": [
       "    s_id       lon      lat  alt  alt_dem   gss_id  genus          species  \\\n",
       "23  5363  13.91670  54.0833    2        0  1050100  Alnus  Alnus glutinosa   \n",
       "30  1554   7.51667  51.7333   60       72  2210500  Salix     Salix caprea   \n",
       "42  3120   8.68333  49.5500  140      261  1050100  Alnus  Alnus glutinosa   \n",
       "53  2021   8.58333  50.0000  100      101  1050100  Alnus  Alnus glutinosa   \n",
       "63  1521   7.83333  51.7000   60       58  1050100  Alnus  Alnus glutinosa   \n",
       "\n",
       "    phase_id  year  day        date Label  \\\n",
       "23        60  2017   27  2017-01-27   DBL   \n",
       "30        60  2017   29  2017-01-29   DBL   \n",
       "42        60  2017   31  2017-01-31   DBL   \n",
       "53        60  2017   32  2017-02-01   DBL   \n",
       "63        60  2017   33  2017-02-02   DBL   \n",
       "\n",
       "                                    geometry  \n",
       "23    POINT Z (821520.468 6003973.720 2.000)  \n",
       "30   POINT Z (397567.206 5732416.903 60.000)  \n",
       "42  POINT Z (477094.080 5488647.767 140.000)  \n",
       "53  POINT Z (470138.525 5538713.881 100.000)  \n",
       "63   POINT Z (419374.473 5728316.443 60.000)  "
      ]
     },
     "execution_count": 28,
     "metadata": {},
     "output_type": "execute_result"
    }
   ],
   "source": [
    "combined_gdf.head()"
   ]
  },
  {
   "cell_type": "code",
   "execution_count": 29,
   "metadata": {},
   "outputs": [],
   "source": [
    "# Make a function for quick plotting\n",
    "# Load the lowres map of gpd\n",
    "world = gpd.read_file(gpd.datasets.get_path('naturalearth_lowres')).to_crs('EPSG:32632')\n",
    "\n",
    "def germany_plot(geodataframe, basemap):  \n",
    "    \n",
    "    # Restrict the boundary to germany\n",
    "    ax = basemap[basemap.name == 'Germany'].plot(color='gray', figsize=(10,10))\n",
    "    # Plot the data\n",
    "    geodataframe.plot(ax=ax, color='green')\n"
   ]
  },
  {
   "cell_type": "code",
   "execution_count": 30,
   "metadata": {},
   "outputs": [
    {
     "data": {
      "text/plain": [
       "<Geographic 2D CRS: GEOGCS[\"WGS 84\",DATUM[\"WGS_1984\",SPHEROID[\"WGS 84\" ...>\n",
       "Name: WGS 84\n",
       "Axis Info [ellipsoidal]:\n",
       "- lon[east]: Longitude (Degree)\n",
       "- lat[north]: Latitude (Degree)\n",
       "Area of Use:\n",
       "- undefined\n",
       "Datum: World Geodetic System 1984\n",
       "- Ellipsoid: WGS 84\n",
       "- Prime Meridian: Greenwich"
      ]
     },
     "execution_count": 30,
     "metadata": {},
     "output_type": "execute_result"
    }
   ],
   "source": [
    "gpd.read_file(gpd.datasets.get_path('naturalearth_lowres')).crs"
   ]
  },
  {
   "cell_type": "code",
   "execution_count": 31,
   "metadata": {
    "tags": [
     "plotting"
    ]
   },
   "outputs": [
    {
     "data": {
      "image/png": "[encoded data removed]",
      "text/plain": [
       "<Figure size 720x720 with 1 Axes>"
      ]
     },
     "metadata": {
      "needs_background": "light"
     },
     "output_type": "display_data"
    }
   ],
   "source": [
    "germany_plot(combined_gdf, world)"
   ]
  },
  {
   "cell_type": "code",
   "execution_count": 32,
   "metadata": {
    "tags": [
     "plotting"
    ]
   },
   "outputs": [
    {
     "data": {
      "image/png": "[encoded data removed]",
      "text/plain": [
       "<Figure size 720x720 with 1 Axes>"
      ]
     },
     "metadata": {
      "needs_background": "light"
     },
     "output_type": "display_data"
    }
   ],
   "source": [
    "# Check with 10 points to see the visualisation of the buffers\n",
    "germany_plot(combined_gdf.iloc[0:10].geometry.buffer(4000), world)\n"
   ]
  },
  {
   "cell_type": "code",
   "execution_count": 33,
   "metadata": {},
   "outputs": [],
   "source": [
    "# Get the buffers of all points with a radious of 4km\n",
    "buffers = combined_gdf.geometry.buffer(4000)"
   ]
  },
  {
   "cell_type": "code",
   "execution_count": 34,
   "metadata": {
    "tags": [
     "plotting"
    ]
   },
   "outputs": [
    {
     "data": {
      "image/png": "[encoded data removed]",
      "text/plain": [
       "<Figure size 720x720 with 1 Axes>"
      ]
     },
     "metadata": {
      "needs_background": "light"
     },
     "output_type": "display_data"
    }
   ],
   "source": [
    "germany_plot(buffers, world)"
   ]
  },
  {
   "cell_type": "code",
   "execution_count": 35,
   "metadata": {},
   "outputs": [
    {
     "data": {
      "text/plain": [
       "23    POLYGON ((825520.468 6003973.720, 825501.207 6...\n",
       "30    POLYGON ((401567.206 5732416.903, 401547.945 5...\n",
       "42    POLYGON ((481094.080 5488647.767, 481074.819 5...\n",
       "53    POLYGON ((474138.525 5538713.881, 474119.264 5...\n",
       "63    POLYGON ((423374.473 5728316.443, 423355.212 5...\n",
       "dtype: geometry"
      ]
     },
     "execution_count": 35,
     "metadata": {},
     "output_type": "execute_result"
    }
   ],
   "source": [
    "buffers.head()"
   ]
  },
  {
   "cell_type": "markdown",
   "metadata": {},
   "source": [
    "Now the buffers will be joined to the geodataframe\n",
    "\n",
    "Pandas will be used for this, because a normal and not a spatial join is needed, \\\n",
    "but the geometry column of the buffers will be renamed to avoid a mixup with the point geometry"
   ]
  },
  {
   "cell_type": "code",
   "execution_count": 36,
   "metadata": {},
   "outputs": [
    {
     "data": {
      "text/plain": [
       "23        POLYGON ((825520.468 6003973.720, 825501.207 6...\n",
       "30        POLYGON ((401567.206 5732416.903, 401547.945 5...\n",
       "42        POLYGON ((481094.080 5488647.767, 481074.819 5...\n",
       "53        POLYGON ((474138.525 5538713.881, 474119.264 5...\n",
       "63        POLYGON ((423374.473 5728316.443, 423355.212 5...\n",
       "                                ...                        \n",
       "325909    POLYGON ((839136.405 5630933.921, 839117.144 5...\n",
       "326955    POLYGON ((402795.749 5847373.189, 402776.488 5...\n",
       "327180    POLYGON ((467771.720 5479458.856, 467752.459 5...\n",
       "333225    POLYGON ((457306.954 5383184.811, 457287.692 5...\n",
       "334122    POLYGON ((651273.716 5344132.606, 651254.454 5...\n",
       "Name: buffer_geometry, Length: 129329, dtype: geometry"
      ]
     },
     "execution_count": 36,
     "metadata": {},
     "output_type": "execute_result"
    }
   ],
   "source": [
    "# Renaming the geometry column of the buffers. Inplace True is used to avoid creating a new object.\n",
    "# buffers is a GeoSeries and not a GeoDataFrame, so the pandas method rename is used.\n",
    "\n",
    "buffers.rename('buffer_geometry', inplace=True)"
   ]
  },
  {
   "cell_type": "code",
   "execution_count": 37,
   "metadata": {},
   "outputs": [],
   "source": [
    "# Merge the geodataframe with the buffer\n",
    "merged_gdf = combined_gdf.merge(buffers, left_index=True, right_index=True)"
   ]
  },
  {
   "cell_type": "code",
   "execution_count": 38,
   "metadata": {},
   "outputs": [
    {
     "name": "stdout",
     "output_type": "stream",
     "text": [
      "<class 'geopandas.geodataframe.GeoDataFrame'>\n",
      "Int64Index: 129329 entries, 23 to 334122\n",
      "Data columns (total 15 columns):\n",
      " #   Column           Non-Null Count   Dtype   \n",
      "---  ------           --------------   -----   \n",
      " 0   s_id             129329 non-null  int64   \n",
      " 1   lon              129329 non-null  float64 \n",
      " 2   lat              129329 non-null  float64 \n",
      " 3   alt              129329 non-null  int64   \n",
      " 4   alt_dem          129329 non-null  int64   \n",
      " 5   gss_id           129329 non-null  int64   \n",
      " 6   genus            129329 non-null  object  \n",
      " 7   species          117981 non-null  object  \n",
      " 8   phase_id         129329 non-null  int64   \n",
      " 9   year             129329 non-null  int64   \n",
      " 10  day              129329 non-null  int64   \n",
      " 11  date             129329 non-null  object  \n",
      " 12  Label            129329 non-null  object  \n",
      " 13  geometry         129329 non-null  geometry\n",
      " 14  buffer_geometry  129329 non-null  geometry\n",
      "dtypes: float64(2), geometry(2), int64(7), object(4)\n",
      "memory usage: 19.8+ MB\n"
     ]
    }
   ],
   "source": [
    "merged_gdf.info()"
   ]
  },
  {
   "cell_type": "code",
   "execution_count": 39,
   "metadata": {},
   "outputs": [
    {
     "data": {
      "text/html": [
       "<div>\n",
       "<style scoped>\n",
       "    .dataframe tbody tr th:only-of-type {\n",
       "        vertical-align: middle;\n",
       "    }\n",
       "\n",
       "    .dataframe tbody tr th {\n",
       "        vertical-align: top;\n",
       "    }\n",
       "\n",
       "    .dataframe thead th {\n",
       "        text-align: right;\n",
       "    }\n",
       "</style>\n",
       "<table border=\"1\" class=\"dataframe\">\n",
       "  <thead>\n",
       "    <tr style=\"text-align: right;\">\n",
       "      <th></th>\n",
       "      <th>s_id</th>\n",
       "      <th>lon</th>\n",
       "      <th>lat</th>\n",
       "      <th>alt</th>\n",
       "      <th>alt_dem</th>\n",
       "      <th>gss_id</th>\n",
       "      <th>genus</th>\n",
       "      <th>species</th>\n",
       "      <th>phase_id</th>\n",
       "      <th>year</th>\n",
       "      <th>day</th>\n",
       "      <th>date</th>\n",
       "      <th>Label</th>\n",
       "      <th>geometry</th>\n",
       "      <th>buffer_geometry</th>\n",
       "    </tr>\n",
       "  </thead>\n",
       "  <tbody>\n",
       "    <tr>\n",
       "      <th>23</th>\n",
       "      <td>5363</td>\n",
       "      <td>13.9167</td>\n",
       "      <td>54.0833</td>\n",
       "      <td>2</td>\n",
       "      <td>0</td>\n",
       "      <td>1050100</td>\n",
       "      <td>Alnus</td>\n",
       "      <td>Alnus glutinosa</td>\n",
       "      <td>60</td>\n",
       "      <td>2017</td>\n",
       "      <td>27</td>\n",
       "      <td>2017-01-27</td>\n",
       "      <td>DBL</td>\n",
       "      <td>POINT Z (821520.468 6003973.720 2.000)</td>\n",
       "      <td>POLYGON ((825520.468 6003973.720, 825501.207 6...</td>\n",
       "    </tr>\n",
       "  </tbody>\n",
       "</table>\n",
       "</div>"
      ],
      "text/plain": [
       "    s_id      lon      lat  alt  alt_dem   gss_id  genus          species  \\\n",
       "23  5363  13.9167  54.0833    2        0  1050100  Alnus  Alnus glutinosa   \n",
       "\n",
       "    phase_id  year  day        date Label  \\\n",
       "23        60  2017   27  2017-01-27   DBL   \n",
       "\n",
       "                                  geometry  \\\n",
       "23  POINT Z (821520.468 6003973.720 2.000)   \n",
       "\n",
       "                                      buffer_geometry  \n",
       "23  POLYGON ((825520.468 6003973.720, 825501.207 6...  "
      ]
     },
     "execution_count": 39,
     "metadata": {},
     "output_type": "execute_result"
    }
   ],
   "source": [
    "# Check a random record\n",
    "\n",
    "merged_gdf.head(1)"
   ]
  },
  {
   "cell_type": "code",
   "execution_count": null,
   "metadata": {
    "tags": [
     "plotting"
    ]
   },
   "outputs": [],
   "source": [
    "# This does not work, but I checked it with QGIS. I think that the zoom levels need to be adjusted, but it doesn't matter for now\n",
    "\n",
    "\n",
    "# # Plot the points and the buffers from the same gdf \n",
    "\n",
    "# ax = world[world.name == 'Germany'].plot(color='gray', figsize=(10,10), zorder=1)\n",
    "\n",
    "# merged_gdf.buffer_geometry.plot(ax=ax, color='red', zorder=2)\n",
    "# #merged_gdf.geometry.plot(ax=ax, color='blue', zorder=3)"
   ]
  },
  {
   "cell_type": "code",
   "execution_count": 40,
   "metadata": {},
   "outputs": [],
   "source": [
    "# Creating a geodataframe from the buffers because it is a GeoSeries and it cannot be exported\n",
    "\n",
    "buffers_gdf = merged_gdf.drop(['geometry'], axis=1).set_geometry('buffer_geometry').rename_geometry('geometry')"
   ]
  },
  {
   "cell_type": "code",
   "execution_count": 41,
   "metadata": {},
   "outputs": [
    {
     "data": {
      "text/html": [
       "<div>\n",
       "<style scoped>\n",
       "    .dataframe tbody tr th:only-of-type {\n",
       "        vertical-align: middle;\n",
       "    }\n",
       "\n",
       "    .dataframe tbody tr th {\n",
       "        vertical-align: top;\n",
       "    }\n",
       "\n",
       "    .dataframe thead th {\n",
       "        text-align: right;\n",
       "    }\n",
       "</style>\n",
       "<table border=\"1\" class=\"dataframe\">\n",
       "  <thead>\n",
       "    <tr style=\"text-align: right;\">\n",
       "      <th></th>\n",
       "      <th>s_id</th>\n",
       "      <th>lon</th>\n",
       "      <th>lat</th>\n",
       "      <th>alt</th>\n",
       "      <th>alt_dem</th>\n",
       "      <th>gss_id</th>\n",
       "      <th>genus</th>\n",
       "      <th>species</th>\n",
       "      <th>phase_id</th>\n",
       "      <th>year</th>\n",
       "      <th>day</th>\n",
       "      <th>date</th>\n",
       "      <th>Label</th>\n",
       "      <th>geometry</th>\n",
       "    </tr>\n",
       "  </thead>\n",
       "  <tbody>\n",
       "    <tr>\n",
       "      <th>23</th>\n",
       "      <td>5363</td>\n",
       "      <td>13.9167</td>\n",
       "      <td>54.0833</td>\n",
       "      <td>2</td>\n",
       "      <td>0</td>\n",
       "      <td>1050100</td>\n",
       "      <td>Alnus</td>\n",
       "      <td>Alnus glutinosa</td>\n",
       "      <td>60</td>\n",
       "      <td>2017</td>\n",
       "      <td>27</td>\n",
       "      <td>2017-01-27</td>\n",
       "      <td>DBL</td>\n",
       "      <td>POLYGON ((825520.468 6003973.720, 825501.207 6...</td>\n",
       "    </tr>\n",
       "  </tbody>\n",
       "</table>\n",
       "</div>"
      ],
      "text/plain": [
       "    s_id      lon      lat  alt  alt_dem   gss_id  genus          species  \\\n",
       "23  5363  13.9167  54.0833    2        0  1050100  Alnus  Alnus glutinosa   \n",
       "\n",
       "    phase_id  year  day        date Label  \\\n",
       "23        60  2017   27  2017-01-27   DBL   \n",
       "\n",
       "                                             geometry  \n",
       "23  POLYGON ((825520.468 6003973.720, 825501.207 6...  "
      ]
     },
     "execution_count": 41,
     "metadata": {},
     "output_type": "execute_result"
    }
   ],
   "source": [
    "buffers_gdf.head(1)"
   ]
  },
  {
   "cell_type": "markdown",
   "metadata": {},
   "source": [
    "## 5. Writing the data <a class=\"anchor\" id=\"writing\"></a>\n",
    "\n",
    "Note: the gdfs are still in UTM zone 32N"
   ]
  },
  {
   "cell_type": "code",
   "execution_count": 43,
   "metadata": {},
   "outputs": [],
   "source": [
    "# Create a folder in the data directory to output the files.\n",
    "output_folder = os.path.join(data_dir, \"pep725_outputs\")\n",
    "\n",
    "if not os.path.exists(output_folder):\n",
    "    os.mkdir(output_folder)"
   ]
  },
  {
   "cell_type": "code",
   "execution_count": 44,
   "metadata": {},
   "outputs": [],
   "source": [
    "buffers_gdf.to_file(os.path.join(output_folder, 'PEP725_buffers.geojson'), driver=\"GeoJSON\")"
   ]
  },
  {
   "cell_type": "code",
   "execution_count": 45,
   "metadata": {},
   "outputs": [],
   "source": [
    "combined_gdf.to_file(os.path.join(output_folder, 'PEP725_points.geojson'), driver=\"GeoJSON\")"
   ]
  },
  {
   "cell_type": "markdown",
   "metadata": {},
   "source": [
    "Export a sample of the points and the buffers to visualize them in a GIS"
   ]
  },
  {
   "cell_type": "code",
   "execution_count": 46,
   "metadata": {},
   "outputs": [],
   "source": [
    "buffers_gdf.set_geometry(\"geometry\", inplace=True)"
   ]
  },
  {
   "cell_type": "code",
   "execution_count": 50,
   "metadata": {},
   "outputs": [],
   "source": [
    "# Switching back to WGS84 to use for the STAC query in case it only accepts this one.\n",
    "\n",
    "buffers_gdf.iloc[0:10].to_crs(\"EPSG:4326\").to_file(os.path.join(output_folder, 'PEP725_10_buffers_WGS84.geojson'), driver=\"GeoJSON\")"
   ]
  },
  {
   "cell_type": "code",
   "execution_count": 48,
   "metadata": {},
   "outputs": [],
   "source": [
    "combined_gdf.iloc[0:50].to_file(os.path.join(output_folder, 'PEP725_50_points.geojson'), driver=\"GeoJSON\")"
   ]
  },
  {
   "cell_type": "code",
   "execution_count": 49,
   "metadata": {},
   "outputs": [],
   "source": [
    "buffers_gdf.iloc[0:50].to_file(os.path.join(output_folder, 'PEP725_50_buffers.geojson'), driver=\"GeoJSON\")"
   ]
  },
  {
   "cell_type": "markdown",
   "metadata": {},
   "source": [
    "## 6. GeoJSON problem <a class=\"anchor\" id=\"problemo\"></a>\n",
    "\n",
    "### Trying to find out why the geojson output cannot load in stac.\n",
    "\n",
    "After much searching, I believe that geopandas outputs an older geojson format \\\n",
    "that needs to be updated and the crs line needs to be deleted. \n",
    "\n",
    "This is mostly through digging and trial-and-error, so I don't know if it's the correct solution, but it works so i'm leaving it at that.\n",
    "\n",
    "There are 2 things to do to make it work:\n",
    "1. Delete the line that specifies the crs in the GeoJSON file\n",
    "2. As seen in the GeoJSON documentation *Polygons and MultiPolygons should follow the right-hand rule.*\n",
    "  which is apparently not the case with the output files above. \n",
    "  [This tool from mapster](https://mapstertech.github.io/mapster-right-hand-rule-fixer/) fixes exactly that\n",
    "  You can input a GeoJSON file and it applies the right hand rule.\n",
    "\n",
    "More info on this in this [link](https://gis.stackexchange.com/questions/259944/polygons-and-multipolygons-should-follow-the-right-hand-rule)"
   ]
  },
  {
   "cell_type": "code",
   "execution_count": null,
   "metadata": {},
   "outputs": [],
   "source": [
    "#gpd.show_versions()"
   ]
  },
  {
   "cell_type": "code",
   "execution_count": null,
   "metadata": {},
   "outputs": [],
   "source": [
    "#import pyproj\n",
    "#pyproj.show_versions()"
   ]
  },
  {
   "cell_type": "code",
   "execution_count": null,
   "metadata": {},
   "outputs": [],
   "source": [
    "#pyproj.datadir.get_data_dir()"
   ]
  }
 ],
 "metadata": {
  "kernelspec": {
   "display_name": "Python 3.10.6 ('pep725')",
   "language": "python",
   "name": "python3"
  },
  "language_info": {
   "codemirror_mode": {
    "name": "ipython",
    "version": 3
   },
   "file_extension": ".py",
   "mimetype": "text/x-python",
   "name": "python",
   "nbconvert_exporter": "python",
   "pygments_lexer": "ipython3",
   "version": "3.10.6"
  },
  "orig_nbformat": 4,
  "vscode": {
   "interpreter": {
    "hash": "87013bfe7793781dd931ded083f6d345173d317406dd371cb864879c5f49f73e"
   }
  }
 },
 "nbformat": 4,
 "nbformat_minor": 2
}
