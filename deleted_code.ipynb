{
 "cells": [
  {
   "attachments": {},
   "cell_type": "markdown",
   "metadata": {},
   "source": [
    "# Deleted code and functions\n",
    "\n",
    "### This document contains deleted code that was the first option, but is not needed anymore."
   ]
  },
  {
   "attachments": {},
   "cell_type": "markdown",
   "metadata": {},
   "source": [
    "This was used to find the extent of the raster file and clip the GeoDataFrame of the envelopes, avoiding to check if the envelopes touch the edges (e.g., are not fully contained within it).\n",
    "\n",
    "It was replaced by a code that:\n",
    "1. Checks if the polygons touch the edges of the raster\n",
    "2. Avoids clipping and stores the contained polygons in lists of float numbers instead of GeoDataFrame for quicker excecution. A GeoDataframe is quicker if a spatial operation is needed. In this case it was a simple grabbing of coordinates with a boolean comparison, which theoretically makes the operation slower with GeoPandas\n",
    "\n",
    "Deleted from: sentinel2_patch_extraction"
   ]
  },
  {
   "cell_type": "code",
   "execution_count": null,
   "metadata": {},
   "outputs": [],
   "source": [
    "\"\"\"\n",
    "Function to clip a GeoDataFrame to the extent of the raster. Can be used for each input image.\n",
    "\n",
    "It should be changed for something better for better operation. Instead of clipping it should just check if the \n",
    "polygon is inside the raster's bounds and just parse it for later processing4\n",
    "\n",
    "\"\"\"\n",
    "\n",
    "def clipGdfToRasterExtent (raster, envelope_gdf):\n",
    "    with rasterio.open(path, driver='JP2OpenJPEG') as src:\n",
    "        # Get the extent of the raster\n",
    "        minx, miny, maxx, maxy = src.bounds\n",
    "    # NEED TO ADD A CHECKING CLAUSE FOR THE POLYGONS INTERSECTING THE BBOX\n",
    "    # Clip the geodataframe to the raster's extent\n",
    "    clipped_gdf = envelope_gdf.cx[minx:maxx, miny:maxy]\n",
    "    return clipped_gdf"
   ]
  }
 ],
 "metadata": {
  "language_info": {
   "name": "python"
  },
  "orig_nbformat": 4
 },
 "nbformat": 4,
 "nbformat_minor": 2
}
