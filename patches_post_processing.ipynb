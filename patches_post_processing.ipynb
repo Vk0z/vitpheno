{
 "cells": [
  {
   "attachments": {},
   "cell_type": "markdown",
   "metadata": {},
   "source": [
    "# Removing bands and fixing dimensions from the Sentinel-2 patches."
   ]
  },
  {
   "attachments": {},
   "cell_type": "markdown",
   "metadata": {},
   "source": [
    "The dataset details regarding the bands can be found [in the GEE page](https://developers.google.com/earth-engine/datasets/catalog/COPERNICUS_S2_SR).\n",
    "\n",
    "Two functions are used: `remove_bands` and `fix_image_dimensions`\n",
    "\n",
    "Just enter the image parent directory to start"
   ]
  },
  {
   "cell_type": "code",
   "execution_count": 1,
   "metadata": {},
   "outputs": [],
   "source": [
    "import os\n",
    "import rasterio as rio\n",
    "import numpy as np\n",
    "\n",
    "image_directory = r\"C:\\Users\\Kostas\\Desktop\\GIMA\\Module_7\\Data\\filtered_patches_GEE\"\n"
   ]
  },
  {
   "attachments": {},
   "cell_type": "markdown",
   "metadata": {},
   "source": [
    "## Removing extra bands"
   ]
  },
  {
   "cell_type": "code",
   "execution_count": 2,
   "metadata": {},
   "outputs": [],
   "source": [
    "'''\n",
    "This function reads the GEE Sentinel-2 Image and removes the excess bands. The original images have 23 bands and only the first 12 are needed.\n",
    "'''\n",
    "\n",
    "def remove_bands(input_image, output_image):\n",
    "\n",
    "    # Open the input image\n",
    "    with rio.open(input_image) as src:\n",
    "        # Read all the available bands\n",
    "        bands = src.read()\n",
    "\n",
    "        # Select bands 1 to 12\n",
    "        bands_to_keep = bands[0:12]\n",
    "\n",
    "        # Copy the metadata from the source dataset\n",
    "        meta = src.meta\n",
    "\n",
    "        # Update the count of bands to 12\n",
    "        meta.update(count=12)\n",
    "\n",
    "    # Write the selected bands to the output image.\n",
    "    with rio.open(output_image, 'w', **meta) as dst:\n",
    "        dst.write(bands_to_keep)\n",
    "    src.close\n",
    "    dst.close"
   ]
  },
  {
   "cell_type": "code",
   "execution_count": 3,
   "metadata": {},
   "outputs": [],
   "source": [
    "# Read through the directory and its subfolders and find all the files and remove excess bands.\n",
    "for root, dirs, files in os.walk(image_directory):\n",
    "    for file in files:\n",
    "        if file.endswith('.tif'):\n",
    "            image = os.path.join(root, file)\n",
    "            remove_bands(image, image)"
   ]
  },
  {
   "cell_type": "code",
   "execution_count": 5,
   "metadata": {},
   "outputs": [],
   "source": [
    "# Check if the band count is 12\n",
    "for root, dirs, files in os.walk(image_directory):\n",
    "    for file in files:\n",
    "        if file.endswith('.tif'):\n",
    "            image = rio.open(os.path.join(root, file))\n",
    "            assert image.count == 12\n",
    "            image.close\n"
   ]
  },
  {
   "attachments": {},
   "cell_type": "markdown",
   "metadata": {},
   "source": [
    "## Removing excess pixels"
   ]
  },
  {
   "cell_type": "code",
   "execution_count": 6,
   "metadata": {},
   "outputs": [],
   "source": [
    "'''\n",
    "This function checks if the images have larger dimensions than the desired \n",
    "(they had 135 instead 134 pixels in some cases in either height or width) and cuts off the excess pixels.\n",
    "\n",
    "I have to use temfile and shutil if I want to replace the OG image. That's because a Permision denied error is thrown, since when cropping\n",
    "it has to read the input image and it cannot replace it because it has to close it first from the memory. It can't close it though\n",
    "since it has to read it in the last step. That's why a temp image is created and then it gets moved to replace the original one with shutil.\n",
    "'''\n",
    "\n",
    "import rasterio as rio\n",
    "from rasterio.plot import show\n",
    "from rasterio.windows import Window\n",
    "from pathlib import Path\n",
    "import os\n",
    "import shutil\n",
    "import tempfile\n",
    "\n",
    "def fix_image_dimensions(input_image, output_image, target_size):\n",
    "    with rio.open(input_image, driver='GTiff') as src:\n",
    "        height, width = src.height, src.width\n",
    "\n",
    "        # Clause to check if dimensions are okay\n",
    "        if height <= target_size and width <= target_size:\n",
    "            return\n",
    "        \n",
    "        # Calculate the coordinates for cropping\n",
    "        crop_width = min(width, target_size)\n",
    "        crop_height = min(height, target_size)\n",
    "        x = (width - crop_width) // 2\n",
    "        y = (height - crop_height) // 2\n",
    "\n",
    "        window = Window(x, y, crop_width, crop_height)\n",
    "\n",
    "        # Create a temporary output file\n",
    "        with tempfile.NamedTemporaryFile(suffix='.tif', delete=False) as temp_output:\n",
    "            temp_output_image = temp_output.name\n",
    "\n",
    "            # Out profile\n",
    "            profile = src.profile\n",
    "            profile.update(width=crop_width, height=crop_height)\n",
    "            \n",
    "            # Crop excess pixels and save to an output\n",
    "            with rio.open(temp_output_image, 'w', **profile) as dst:\n",
    "                cropped_data = src.read(window=window)\n",
    "                dst.write(cropped_data)\n",
    "        \n",
    "        shutil.move(temp_output_image, input_image)\n",
    "        src.close\n",
    "        dst.close"
   ]
  },
  {
   "cell_type": "code",
   "execution_count": 7,
   "metadata": {},
   "outputs": [],
   "source": [
    "# Read through the directory and its subfolders and find all the files and remove excess pixels if they have more.\n",
    "target_size = 134\n",
    "for root, dirs, files in os.walk(image_directory):\n",
    "    for file in files:\n",
    "        if file.endswith('.tif'):\n",
    "            image = os.path.join(root, file)\n",
    "            fix_image_dimensions(image, image, target_size)"
   ]
  },
  {
   "cell_type": "code",
   "execution_count": 8,
   "metadata": {},
   "outputs": [],
   "source": [
    "# Check if the resulting images have correct dimensions\n",
    "for root, dirs, files in os.walk(image_directory):\n",
    "    for file in files:\n",
    "        if file.endswith('.tif'):\n",
    "            image = rio.open(os.path.join(root, file))\n",
    "            assert image.height == 134 and image.width == 134\n",
    "            image.close"
   ]
  },
  {
   "attachments": {},
   "cell_type": "markdown",
   "metadata": {},
   "source": [
    "### Depecated part.\n",
    "Will not go for `.png`, so this is not needed"
   ]
  },
  {
   "cell_type": "code",
   "execution_count": null,
   "metadata": {},
   "outputs": [],
   "source": [
    "# Keeping 3 bands and png output\n",
    "\n",
    "import os\n",
    "import rasterio\n",
    "import numpy as np\n",
    "\n",
    "# Input directory containing subfolders with TIFF images\n",
    "input_directory = r\"C:\\Users\\Kostas\\Desktop\\GIMA\\Module_7\\Data\\filtered_patches_GEE\"\n",
    "\n",
    "# Output directory to save the 3 band PNG images\n",
    "output_directory = r\"C:\\Users\\Kostas\\Desktop\\GIMA\\Module_7\\Data\\filtered_patches_GEE_3_bands\"\n",
    "\n",
    "# Iterate over the subfolders and files in the input directory\n",
    "for root, dirs, files in os.walk(input_directory):\n",
    "    for file in files:\n",
    "        if file.endswith('.tif'):\n",
    "            # Construct the input and output file paths\n",
    "            input_path = os.path.join(root, file)\n",
    "            output_path = os.path.join(output_directory, os.path.relpath(root, input_directory), os.path.splitext(file)[0] + '.png')\n",
    "            \n",
    "            # Create the output directory if it doesn't exist\n",
    "            os.makedirs(os.path.dirname(output_path), exist_ok=True)\n",
    "            \n",
    "            # Open the input TIFF file\n",
    "            with rasterio.open(input_path) as src:\n",
    "                # Read the desired bands (RGB, which are 2, 3 and 4 based on https://developers.google.com/earth-engine/datasets/catalog/COPERNICUS_S2_SR)\n",
    "                bands = src.read([2, 3, 4])\n",
    "                \n",
    "                # Copy the metadata from the source dataset\n",
    "                meta = src.meta\n",
    "                \n",
    "                # Normalize the pixel values between 0 and 255 because PNG uses this scale instead of float, like TIFF\n",
    "                bands = np.interp(bands, (bands.min(), bands.max()), (0, 255)).astype(np.uint8)\n",
    "                \n",
    "                # Write the modified bands to the output PNG file\n",
    "                with rasterio.open(output_path, 'w', driver='PNG', count=3, width=bands.shape[2], height=bands.shape[1], dtype='uint8',) as dst:\n",
    "                    dst.write(bands)"
   ]
  },
  {
   "cell_type": "code",
   "execution_count": null,
   "metadata": {},
   "outputs": [],
   "source": [
    "im = r\"C:\\Users\\Kostas\\Desktop\\GIMA\\Module_7\\Data\\filtered_patches_GEE_necessary_bands\\11\\sentinel2_images_mean_2019-04-01_to_2019-05-01-0000000000-0000000000index_49410_station_110_label_DBL_phase_id_11.tif\"\n",
    "from rasterio.plot import show\n"
   ]
  },
  {
   "cell_type": "code",
   "execution_count": null,
   "metadata": {},
   "outputs": [],
   "source": [
    "with rasterio.open(im) as src:\n",
    "    print(src.count)\n",
    "    show(src)\n",
    "    print(src.shape)\n",
    "    "
   ]
  },
  {
   "attachments": {},
   "cell_type": "markdown",
   "metadata": {},
   "source": [
    "Just some other part. Irrelevant"
   ]
  },
  {
   "cell_type": "code",
   "execution_count": null,
   "metadata": {},
   "outputs": [],
   "source": [
    "import time \n",
    "import datetime\n",
    "def clock(): \n",
    "    while True: \n",
    "        print(datetime.datetime.now().strftime(\"%H:%M:%S\"), end=\"\\r\") \n",
    "        time.sleep(1) "
   ]
  },
  {
   "cell_type": "code",
   "execution_count": null,
   "metadata": {},
   "outputs": [],
   "source": [
    "for i in range(0,10):\n",
    "    print(i, end='\\r')\n",
    "    time.sleep(0.5)"
   ]
  }
 ],
 "metadata": {
  "kernelspec": {
   "display_name": "pep725",
   "language": "python",
   "name": "python3"
  },
  "language_info": {
   "codemirror_mode": {
    "name": "ipython",
    "version": 3
   },
   "file_extension": ".py",
   "mimetype": "text/x-python",
   "name": "python",
   "nbconvert_exporter": "python",
   "pygments_lexer": "ipython3",
   "version": "3.10.6"
  },
  "orig_nbformat": 4
 },
 "nbformat": 4,
 "nbformat_minor": 2
}
