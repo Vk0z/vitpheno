{
 "cells": [
  {
   "cell_type": "code",
   "execution_count": 1,
   "metadata": {},
   "outputs": [],
   "source": [
    "import pandas as pd\n",
    "import os.path\n",
    "import geopandas as gpd\n",
    "import numpy as np\n",
    "\n",
    "# For visualization\n",
    "import seaborn as sns\n",
    "import matplotlib.pyplot as plt"
   ]
  },
  {
   "cell_type": "code",
   "execution_count": 2,
   "metadata": {},
   "outputs": [
    {
     "data": {
      "text/plain": [
       "(129329, 14)"
      ]
     },
     "execution_count": 2,
     "metadata": {},
     "output_type": "execute_result"
    }
   ],
   "source": [
    "# Read the PEP725 dataset\n",
    "\n",
    "data_dir = r\"C:\\Users\\Kostas\\Desktop\\GIMA\\Module_7\\Data\\PEP725\\After_2016_sent_from_PEP725\\pep725_outputs\"\n",
    "dataset = os.path.join(data_dir, 'PEP725_buffers.geojson')\n",
    "gdf = gpd.read_file(dataset)\n",
    "\n",
    "# Check the dimensions of the dataframe\n",
    "gdf.shape"
   ]
  },
  {
   "attachments": {},
   "cell_type": "markdown",
   "metadata": {},
   "source": [
    "## Setting CRS\n",
    "\n",
    "When importing a GeoJSON in GeoPandas, by default, the it is set to WGS84. \n",
    "The buffers file that is trying to be loaded is in WGS84/UTM32N.\n",
    "\n",
    "For this reason the geometry is set to EPSG:32632 in the next step.\n",
    "The parameters `inplace` and `allow_override` are set to True to allow replacing the loaded GeoDataFrame and overriding the assumed WGS84 CRS"
   ]
  },
  {
   "cell_type": "code",
   "execution_count": 3,
   "metadata": {},
   "outputs": [
    {
     "data": {
      "text/html": [
       "<div>\n",
       "<style scoped>\n",
       "    .dataframe tbody tr th:only-of-type {\n",
       "        vertical-align: middle;\n",
       "    }\n",
       "\n",
       "    .dataframe tbody tr th {\n",
       "        vertical-align: top;\n",
       "    }\n",
       "\n",
       "    .dataframe thead th {\n",
       "        text-align: right;\n",
       "    }\n",
       "</style>\n",
       "<table border=\"1\" class=\"dataframe\">\n",
       "  <thead>\n",
       "    <tr style=\"text-align: right;\">\n",
       "      <th></th>\n",
       "      <th>s_id</th>\n",
       "      <th>lon</th>\n",
       "      <th>lat</th>\n",
       "      <th>alt</th>\n",
       "      <th>alt_dem</th>\n",
       "      <th>gss_id</th>\n",
       "      <th>genus</th>\n",
       "      <th>species</th>\n",
       "      <th>phase_id</th>\n",
       "      <th>year</th>\n",
       "      <th>day</th>\n",
       "      <th>date</th>\n",
       "      <th>Label</th>\n",
       "      <th>geometry</th>\n",
       "    </tr>\n",
       "  </thead>\n",
       "  <tbody>\n",
       "    <tr>\n",
       "      <th>0</th>\n",
       "      <td>5363</td>\n",
       "      <td>13.91670</td>\n",
       "      <td>54.0833</td>\n",
       "      <td>2</td>\n",
       "      <td>0</td>\n",
       "      <td>1050100</td>\n",
       "      <td>Alnus</td>\n",
       "      <td>Alnus glutinosa</td>\n",
       "      <td>60</td>\n",
       "      <td>2017</td>\n",
       "      <td>27</td>\n",
       "      <td>2017-01-27</td>\n",
       "      <td>DBL</td>\n",
       "      <td>POLYGON ((825520.468 6003973.720, 825501.207 6...</td>\n",
       "    </tr>\n",
       "    <tr>\n",
       "      <th>1</th>\n",
       "      <td>1554</td>\n",
       "      <td>7.51667</td>\n",
       "      <td>51.7333</td>\n",
       "      <td>60</td>\n",
       "      <td>72</td>\n",
       "      <td>2210500</td>\n",
       "      <td>Salix</td>\n",
       "      <td>Salix caprea</td>\n",
       "      <td>60</td>\n",
       "      <td>2017</td>\n",
       "      <td>29</td>\n",
       "      <td>2017-01-29</td>\n",
       "      <td>DBL</td>\n",
       "      <td>POLYGON ((401567.206 5732416.903, 401547.945 5...</td>\n",
       "    </tr>\n",
       "    <tr>\n",
       "      <th>2</th>\n",
       "      <td>3120</td>\n",
       "      <td>8.68333</td>\n",
       "      <td>49.5500</td>\n",
       "      <td>140</td>\n",
       "      <td>261</td>\n",
       "      <td>1050100</td>\n",
       "      <td>Alnus</td>\n",
       "      <td>Alnus glutinosa</td>\n",
       "      <td>60</td>\n",
       "      <td>2017</td>\n",
       "      <td>31</td>\n",
       "      <td>2017-01-31</td>\n",
       "      <td>DBL</td>\n",
       "      <td>POLYGON ((481094.080 5488647.767, 481074.819 5...</td>\n",
       "    </tr>\n",
       "    <tr>\n",
       "      <th>3</th>\n",
       "      <td>2021</td>\n",
       "      <td>8.58333</td>\n",
       "      <td>50.0000</td>\n",
       "      <td>100</td>\n",
       "      <td>101</td>\n",
       "      <td>1050100</td>\n",
       "      <td>Alnus</td>\n",
       "      <td>Alnus glutinosa</td>\n",
       "      <td>60</td>\n",
       "      <td>2017</td>\n",
       "      <td>32</td>\n",
       "      <td>2017-02-01</td>\n",
       "      <td>DBL</td>\n",
       "      <td>POLYGON ((474138.525 5538713.881, 474119.264 5...</td>\n",
       "    </tr>\n",
       "    <tr>\n",
       "      <th>4</th>\n",
       "      <td>1521</td>\n",
       "      <td>7.83333</td>\n",
       "      <td>51.7000</td>\n",
       "      <td>60</td>\n",
       "      <td>58</td>\n",
       "      <td>1050100</td>\n",
       "      <td>Alnus</td>\n",
       "      <td>Alnus glutinosa</td>\n",
       "      <td>60</td>\n",
       "      <td>2017</td>\n",
       "      <td>33</td>\n",
       "      <td>2017-02-02</td>\n",
       "      <td>DBL</td>\n",
       "      <td>POLYGON ((423374.473 5728316.443, 423355.212 5...</td>\n",
       "    </tr>\n",
       "    <tr>\n",
       "      <th>...</th>\n",
       "      <td>...</td>\n",
       "      <td>...</td>\n",
       "      <td>...</td>\n",
       "      <td>...</td>\n",
       "      <td>...</td>\n",
       "      <td>...</td>\n",
       "      <td>...</td>\n",
       "      <td>...</td>\n",
       "      <td>...</td>\n",
       "      <td>...</td>\n",
       "      <td>...</td>\n",
       "      <td>...</td>\n",
       "      <td>...</td>\n",
       "      <td>...</td>\n",
       "    </tr>\n",
       "    <tr>\n",
       "      <th>129324</th>\n",
       "      <td>5456</td>\n",
       "      <td>13.75000</td>\n",
       "      <td>50.7333</td>\n",
       "      <td>875</td>\n",
       "      <td>864</td>\n",
       "      <td>10000</td>\n",
       "      <td>perm_grass</td>\n",
       "      <td>None</td>\n",
       "      <td>131</td>\n",
       "      <td>2021</td>\n",
       "      <td>244</td>\n",
       "      <td>2021-09-01</td>\n",
       "      <td>M</td>\n",
       "      <td>POLYGON ((839136.405 5630933.921, 839117.144 5...</td>\n",
       "    </tr>\n",
       "    <tr>\n",
       "      <th>129325</th>\n",
       "      <td>961</td>\n",
       "      <td>7.50000</td>\n",
       "      <td>52.7667</td>\n",
       "      <td>30</td>\n",
       "      <td>33</td>\n",
       "      <td>10000</td>\n",
       "      <td>perm_grass</td>\n",
       "      <td>None</td>\n",
       "      <td>111</td>\n",
       "      <td>2021</td>\n",
       "      <td>257</td>\n",
       "      <td>2021-09-14</td>\n",
       "      <td>M</td>\n",
       "      <td>POLYGON ((402795.749 5847373.189, 402776.488 5...</td>\n",
       "    </tr>\n",
       "    <tr>\n",
       "      <th>129326</th>\n",
       "      <td>20595</td>\n",
       "      <td>8.50000</td>\n",
       "      <td>49.4667</td>\n",
       "      <td>95</td>\n",
       "      <td>86</td>\n",
       "      <td>10000</td>\n",
       "      <td>perm_grass</td>\n",
       "      <td>None</td>\n",
       "      <td>131</td>\n",
       "      <td>2021</td>\n",
       "      <td>258</td>\n",
       "      <td>2021-09-15</td>\n",
       "      <td>M</td>\n",
       "      <td>POLYGON ((467771.720 5479458.856, 467752.459 5...</td>\n",
       "    </tr>\n",
       "    <tr>\n",
       "      <th>129327</th>\n",
       "      <td>19312</td>\n",
       "      <td>8.36667</td>\n",
       "      <td>48.6000</td>\n",
       "      <td>490</td>\n",
       "      <td>622</td>\n",
       "      <td>10000</td>\n",
       "      <td>perm_grass</td>\n",
       "      <td>None</td>\n",
       "      <td>131</td>\n",
       "      <td>2021</td>\n",
       "      <td>285</td>\n",
       "      <td>2021-10-12</td>\n",
       "      <td>M</td>\n",
       "      <td>POLYGON ((457306.954 5383184.811, 457287.692 5...</td>\n",
       "    </tr>\n",
       "    <tr>\n",
       "      <th>129328</th>\n",
       "      <td>8197</td>\n",
       "      <td>10.98330</td>\n",
       "      <td>48.2333</td>\n",
       "      <td>525</td>\n",
       "      <td>504</td>\n",
       "      <td>10000</td>\n",
       "      <td>perm_grass</td>\n",
       "      <td>None</td>\n",
       "      <td>111</td>\n",
       "      <td>2021</td>\n",
       "      <td>289</td>\n",
       "      <td>2021-10-16</td>\n",
       "      <td>M</td>\n",
       "      <td>POLYGON ((651273.716 5344132.606, 651254.454 5...</td>\n",
       "    </tr>\n",
       "  </tbody>\n",
       "</table>\n",
       "<p>129329 rows × 14 columns</p>\n",
       "</div>"
      ],
      "text/plain": [
       "         s_id       lon      lat  alt  alt_dem   gss_id       genus  \\\n",
       "0        5363  13.91670  54.0833    2        0  1050100       Alnus   \n",
       "1        1554   7.51667  51.7333   60       72  2210500       Salix   \n",
       "2        3120   8.68333  49.5500  140      261  1050100       Alnus   \n",
       "3        2021   8.58333  50.0000  100      101  1050100       Alnus   \n",
       "4        1521   7.83333  51.7000   60       58  1050100       Alnus   \n",
       "...       ...       ...      ...  ...      ...      ...         ...   \n",
       "129324   5456  13.75000  50.7333  875      864    10000  perm_grass   \n",
       "129325    961   7.50000  52.7667   30       33    10000  perm_grass   \n",
       "129326  20595   8.50000  49.4667   95       86    10000  perm_grass   \n",
       "129327  19312   8.36667  48.6000  490      622    10000  perm_grass   \n",
       "129328   8197  10.98330  48.2333  525      504    10000  perm_grass   \n",
       "\n",
       "                species  phase_id  year  day        date Label  \\\n",
       "0       Alnus glutinosa        60  2017   27  2017-01-27   DBL   \n",
       "1          Salix caprea        60  2017   29  2017-01-29   DBL   \n",
       "2       Alnus glutinosa        60  2017   31  2017-01-31   DBL   \n",
       "3       Alnus glutinosa        60  2017   32  2017-02-01   DBL   \n",
       "4       Alnus glutinosa        60  2017   33  2017-02-02   DBL   \n",
       "...                 ...       ...   ...  ...         ...   ...   \n",
       "129324             None       131  2021  244  2021-09-01     M   \n",
       "129325             None       111  2021  257  2021-09-14     M   \n",
       "129326             None       131  2021  258  2021-09-15     M   \n",
       "129327             None       131  2021  285  2021-10-12     M   \n",
       "129328             None       111  2021  289  2021-10-16     M   \n",
       "\n",
       "                                                 geometry  \n",
       "0       POLYGON ((825520.468 6003973.720, 825501.207 6...  \n",
       "1       POLYGON ((401567.206 5732416.903, 401547.945 5...  \n",
       "2       POLYGON ((481094.080 5488647.767, 481074.819 5...  \n",
       "3       POLYGON ((474138.525 5538713.881, 474119.264 5...  \n",
       "4       POLYGON ((423374.473 5728316.443, 423355.212 5...  \n",
       "...                                                   ...  \n",
       "129324  POLYGON ((839136.405 5630933.921, 839117.144 5...  \n",
       "129325  POLYGON ((402795.749 5847373.189, 402776.488 5...  \n",
       "129326  POLYGON ((467771.720 5479458.856, 467752.459 5...  \n",
       "129327  POLYGON ((457306.954 5383184.811, 457287.692 5...  \n",
       "129328  POLYGON ((651273.716 5344132.606, 651254.454 5...  \n",
       "\n",
       "[129329 rows x 14 columns]"
      ]
     },
     "execution_count": 3,
     "metadata": {},
     "output_type": "execute_result"
    }
   ],
   "source": [
    "gdf.set_crs(32632, inplace=True, allow_override=True)"
   ]
  },
  {
   "cell_type": "code",
   "execution_count": 4,
   "metadata": {},
   "outputs": [],
   "source": [
    "gdf_2017 = gdf.loc[gdf.year == 2017].sort_values(by='day', ascending=False)\n",
    "gdf_2018 = gdf.loc[gdf.year == 2018].sort_values(by='day', ascending=False)\n",
    "gdf_2019 = gdf.loc[gdf.year == 2019].sort_values(by='day', ascending=False)\n",
    "gdf_2020 = gdf.loc[gdf.year == 2020].sort_values(by='day', ascending=False)\n",
    "gdf_2021 = gdf.loc[gdf.year == 2021].sort_values(by='day', ascending=False)"
   ]
  },
  {
   "cell_type": "code",
   "execution_count": 36,
   "metadata": {},
   "outputs": [
    {
     "ename": "KeyError",
     "evalue": "False",
     "output_type": "error",
     "traceback": [
      "\u001b[1;31m---------------------------------------------------------------------------\u001b[0m",
      "\u001b[1;31mKeyError\u001b[0m                                  Traceback (most recent call last)",
      "File \u001b[1;32mc:\\Users\\Kostas\\anaconda3\\envs\\pep725\\lib\\site-packages\\pandas\\core\\indexes\\base.py:3803\u001b[0m, in \u001b[0;36mIndex.get_loc\u001b[1;34m(self, key, method, tolerance)\u001b[0m\n\u001b[0;32m   3802\u001b[0m \u001b[39mtry\u001b[39;00m:\n\u001b[1;32m-> 3803\u001b[0m     \u001b[39mreturn\u001b[39;00m \u001b[39mself\u001b[39;49m\u001b[39m.\u001b[39;49m_engine\u001b[39m.\u001b[39;49mget_loc(casted_key)\n\u001b[0;32m   3804\u001b[0m \u001b[39mexcept\u001b[39;00m \u001b[39mKeyError\u001b[39;00m \u001b[39mas\u001b[39;00m err:\n",
      "File \u001b[1;32mc:\\Users\\Kostas\\anaconda3\\envs\\pep725\\lib\\site-packages\\pandas\\_libs\\index.pyx:138\u001b[0m, in \u001b[0;36mpandas._libs.index.IndexEngine.get_loc\u001b[1;34m()\u001b[0m\n",
      "File \u001b[1;32mc:\\Users\\Kostas\\anaconda3\\envs\\pep725\\lib\\site-packages\\pandas\\_libs\\index.pyx:146\u001b[0m, in \u001b[0;36mpandas._libs.index.IndexEngine.get_loc\u001b[1;34m()\u001b[0m\n",
      "File \u001b[1;32mpandas\\_libs\\index_class_helper.pxi:49\u001b[0m, in \u001b[0;36mpandas._libs.index.Int64Engine._check_type\u001b[1;34m()\u001b[0m\n",
      "\u001b[1;31mKeyError\u001b[0m: False",
      "\nThe above exception was the direct cause of the following exception:\n",
      "\u001b[1;31mKeyError\u001b[0m                                  Traceback (most recent call last)",
      "\u001b[1;32mc:\\Users\\Kostas\\Documents\\GitHub\\vitpheno\\pep725_2017.ipynb Cell 6\u001b[0m in \u001b[0;36m<cell line: 2>\u001b[1;34m()\u001b[0m\n\u001b[0;32m      <a href='vscode-notebook-cell:/c%3A/Users/Kostas/Documents/GitHub/vitpheno/pep725_2017.ipynb#X42sZmlsZQ%3D%3D?line=0'>1</a>\u001b[0m check \u001b[39m=\u001b[39m gdf_2017\u001b[39m.\u001b[39mgroupby(\u001b[39m'\u001b[39m\u001b[39mday\u001b[39m\u001b[39m'\u001b[39m)\u001b[39m.\u001b[39msize()\n\u001b[1;32m----> <a href='vscode-notebook-cell:/c%3A/Users/Kostas/Documents/GitHub/vitpheno/pep725_2017.ipynb#X42sZmlsZQ%3D%3D?line=1'>2</a>\u001b[0m check[\u001b[39m'\u001b[39;49m\u001b[39mday\u001b[39;49m\u001b[39m'\u001b[39;49m \u001b[39m==\u001b[39;49m \u001b[39m100\u001b[39;49m]\n",
      "File \u001b[1;32mc:\\Users\\Kostas\\anaconda3\\envs\\pep725\\lib\\site-packages\\pandas\\core\\series.py:981\u001b[0m, in \u001b[0;36mSeries.__getitem__\u001b[1;34m(self, key)\u001b[0m\n\u001b[0;32m    978\u001b[0m     \u001b[39mreturn\u001b[39;00m \u001b[39mself\u001b[39m\u001b[39m.\u001b[39m_values[key]\n\u001b[0;32m    980\u001b[0m \u001b[39melif\u001b[39;00m key_is_scalar:\n\u001b[1;32m--> 981\u001b[0m     \u001b[39mreturn\u001b[39;00m \u001b[39mself\u001b[39;49m\u001b[39m.\u001b[39;49m_get_value(key)\n\u001b[0;32m    983\u001b[0m \u001b[39mif\u001b[39;00m is_hashable(key):\n\u001b[0;32m    984\u001b[0m     \u001b[39m# Otherwise index.get_value will raise InvalidIndexError\u001b[39;00m\n\u001b[0;32m    985\u001b[0m     \u001b[39mtry\u001b[39;00m:\n\u001b[0;32m    986\u001b[0m         \u001b[39m# For labels that don't resolve as scalars like tuples and frozensets\u001b[39;00m\n",
      "File \u001b[1;32mc:\\Users\\Kostas\\anaconda3\\envs\\pep725\\lib\\site-packages\\pandas\\core\\series.py:1089\u001b[0m, in \u001b[0;36mSeries._get_value\u001b[1;34m(self, label, takeable)\u001b[0m\n\u001b[0;32m   1086\u001b[0m     \u001b[39mreturn\u001b[39;00m \u001b[39mself\u001b[39m\u001b[39m.\u001b[39m_values[label]\n\u001b[0;32m   1088\u001b[0m \u001b[39m# Similar to Index.get_value, but we do not fall back to positional\u001b[39;00m\n\u001b[1;32m-> 1089\u001b[0m loc \u001b[39m=\u001b[39m \u001b[39mself\u001b[39;49m\u001b[39m.\u001b[39;49mindex\u001b[39m.\u001b[39;49mget_loc(label)\n\u001b[0;32m   1090\u001b[0m \u001b[39mreturn\u001b[39;00m \u001b[39mself\u001b[39m\u001b[39m.\u001b[39mindex\u001b[39m.\u001b[39m_get_values_for_loc(\u001b[39mself\u001b[39m, loc, label)\n",
      "File \u001b[1;32mc:\\Users\\Kostas\\anaconda3\\envs\\pep725\\lib\\site-packages\\pandas\\core\\indexes\\base.py:3805\u001b[0m, in \u001b[0;36mIndex.get_loc\u001b[1;34m(self, key, method, tolerance)\u001b[0m\n\u001b[0;32m   3803\u001b[0m     \u001b[39mreturn\u001b[39;00m \u001b[39mself\u001b[39m\u001b[39m.\u001b[39m_engine\u001b[39m.\u001b[39mget_loc(casted_key)\n\u001b[0;32m   3804\u001b[0m \u001b[39mexcept\u001b[39;00m \u001b[39mKeyError\u001b[39;00m \u001b[39mas\u001b[39;00m err:\n\u001b[1;32m-> 3805\u001b[0m     \u001b[39mraise\u001b[39;00m \u001b[39mKeyError\u001b[39;00m(key) \u001b[39mfrom\u001b[39;00m \u001b[39merr\u001b[39;00m\n\u001b[0;32m   3806\u001b[0m \u001b[39mexcept\u001b[39;00m \u001b[39mTypeError\u001b[39;00m:\n\u001b[0;32m   3807\u001b[0m     \u001b[39m# If we have a listlike key, _check_indexing_error will raise\u001b[39;00m\n\u001b[0;32m   3808\u001b[0m     \u001b[39m#  InvalidIndexError. Otherwise we fall through and re-raise\u001b[39;00m\n\u001b[0;32m   3809\u001b[0m     \u001b[39m#  the TypeError.\u001b[39;00m\n\u001b[0;32m   3810\u001b[0m     \u001b[39mself\u001b[39m\u001b[39m.\u001b[39m_check_indexing_error(key)\n",
      "\u001b[1;31mKeyError\u001b[0m: False"
     ]
    }
   ],
   "source": [
    "check = gdf_2017.groupby('day').size()\n",
    "gdf_2017_over_500 = day_counts[day_counts > 500].index\n",
    "\n"
   ]
  },
  {
   "cell_type": "code",
   "execution_count": 28,
   "metadata": {},
   "outputs": [
    {
     "name": "stdout",
     "output_type": "stream",
     "text": [
      "<bound method IndexOpsMixin.value_counts of 23591     345\n",
      "23589     339\n",
      "23590     339\n",
      "23586     338\n",
      "23587     338\n",
      "         ... \n",
      "3          32\n",
      "2          31\n",
      "1          29\n",
      "0          27\n",
      "117981      9\n",
      "Name: day, Length: 26932, dtype: int64>\n"
     ]
    }
   ],
   "source": [
    "\n",
    "print(gdf_2017_over_500)"
   ]
  },
  {
   "cell_type": "code",
   "execution_count": 29,
   "metadata": {},
   "outputs": [
    {
     "ename": "AttributeError",
     "evalue": "'function' object has no attribute 'gt'",
     "output_type": "error",
     "traceback": [
      "\u001b[1;31m---------------------------------------------------------------------------\u001b[0m",
      "\u001b[1;31mAttributeError\u001b[0m                            Traceback (most recent call last)",
      "\u001b[1;32mc:\\Users\\Kostas\\Documents\\GitHub\\vitpheno\\pep725_2017.ipynb Cell 8\u001b[0m in \u001b[0;36m<cell line: 1>\u001b[1;34m()\u001b[0m\n\u001b[1;32m----> <a href='vscode-notebook-cell:/c%3A/Users/Kostas/Documents/GitHub/vitpheno/pep725_2017.ipynb#X44sZmlsZQ%3D%3D?line=0'>1</a>\u001b[0m result \u001b[39m=\u001b[39m gdf_2017_over_500\u001b[39m.\u001b[39;49mgt(\u001b[39m500\u001b[39m)\n",
      "\u001b[1;31mAttributeError\u001b[0m: 'function' object has no attribute 'gt'"
     ]
    }
   ],
   "source": [
    "result = gdf_2017_over_500.gt(500)"
   ]
  },
  {
   "cell_type": "code",
   "execution_count": 15,
   "metadata": {},
   "outputs": [
    {
     "data": {
      "image/png": "[encoded data removed]",
      "text/plain": [
       "<Figure size 432x288 with 1 Axes>"
      ]
     },
     "metadata": {
      "needs_background": "light"
     },
     "output_type": "display_data"
    },
    {
     "data": {
      "image/png": "[encoded data removed]",
      "text/plain": [
       "<Figure size 432x288 with 1 Axes>"
      ]
     },
     "metadata": {
      "needs_background": "light"
     },
     "output_type": "display_data"
    },
    {
     "data": {
      "image/png": "[encoded data removed]",
      "text/plain": [
       "<Figure size 432x288 with 1 Axes>"
      ]
     },
     "metadata": {
      "needs_background": "light"
     },
     "output_type": "display_data"
    },
    {
     "data": {
      "image/png": "[encoded data removed]",
      "text/plain": [
       "<Figure size 432x288 with 1 Axes>"
      ]
     },
     "metadata": {
      "needs_background": "light"
     },
     "output_type": "display_data"
    },
    {
     "data": {
      "image/png": "[encoded data removed]",
      "text/plain": [
       "<Figure size 432x288 with 1 Axes>"
      ]
     },
     "metadata": {
      "needs_background": "light"
     },
     "output_type": "display_data"
    }
   ],
   "source": [
    "# Individual plots\n",
    "gdf_2017.hist(column='day', bins=30, grid=True)\n",
    "plt.title('2017')\n",
    "\n",
    "gdf_2018.hist(column='day', bins=30, grid=True)\n",
    "plt.title('2018')\n",
    "gdf_2019.hist(column='day', bins=30, grid=True)\n",
    "plt.title('2019')\n",
    "gdf_2020.hist(column='day', bins=30, grid=True)\n",
    "plt.title('2020')\n",
    "gdf_2021.hist(column='day', bins=30, grid=True)\n",
    "plt.title('2021')\n",
    "plt.style.use('bmh')\n",
    "plt.show()"
   ]
  },
  {
   "cell_type": "code",
   "execution_count": 16,
   "metadata": {},
   "outputs": [
    {
     "data": {
      "image/png": "[encoded data removed]",
      "text/plain": [
       "<Figure size 1440x720 with 5 Axes>"
      ]
     },
     "metadata": {
      "needs_background": "light"
     },
     "output_type": "display_data"
    }
   ],
   "source": [
    "# All plots together\n",
    "plt.style.use('bmh')\n",
    "fig, ax = plt.subplots(2,3, figsize=(20,10))\n",
    "#ax[0,0].set_xlabel('Day of the year')\n",
    "gdf_2017.hist(column='day', bins=30, grid=True, ax=ax[0,0])\n",
    "ax[0,0].set_title('2017')\n",
    "gdf_2018.hist(column='day', bins=30, grid=True, ax=ax[0,1])\n",
    "ax[0,1].set_title('2018')\n",
    "gdf_2019.hist(column='day', bins=30, grid=True, ax=ax[0,2])\n",
    "ax[0,2].set_title('2019')\n",
    "gdf_2020.hist(column='day', bins=30, grid=True, ax=ax[1,0])\n",
    "ax[1,0].set_title('2020')\n",
    "gdf_2021.hist(column='day', bins=30, grid=True, ax=ax[1,1])\n",
    "ax[1,1].set_title('2021')\n",
    "fig.delaxes(ax[1,2])\n",
    "for ax in ax.flat:\n",
    "    ax.set(xlabel='Day of the year', ylabel='Observations')\n",
    "plt.suptitle('Distribution of daily PEP725 observations', fontsize=28)\n",
    "\n",
    "plt.show()"
   ]
  },
  {
   "cell_type": "code",
   "execution_count": 18,
   "metadata": {},
   "outputs": [
    {
     "data": {
      "text/html": [
       "<div>\n",
       "<style scoped>\n",
       "    .dataframe tbody tr th:only-of-type {\n",
       "        vertical-align: middle;\n",
       "    }\n",
       "\n",
       "    .dataframe tbody tr th {\n",
       "        vertical-align: top;\n",
       "    }\n",
       "\n",
       "    .dataframe thead th {\n",
       "        text-align: right;\n",
       "    }\n",
       "</style>\n",
       "<table border=\"1\" class=\"dataframe\">\n",
       "  <thead>\n",
       "    <tr style=\"text-align: right;\">\n",
       "      <th></th>\n",
       "      <th>s_id</th>\n",
       "      <th>lon</th>\n",
       "      <th>lat</th>\n",
       "      <th>alt</th>\n",
       "      <th>alt_dem</th>\n",
       "      <th>gss_id</th>\n",
       "      <th>genus</th>\n",
       "      <th>species</th>\n",
       "      <th>phase_id</th>\n",
       "      <th>year</th>\n",
       "      <th>day</th>\n",
       "      <th>date</th>\n",
       "      <th>Label</th>\n",
       "      <th>geometry</th>\n",
       "    </tr>\n",
       "  </thead>\n",
       "  <tbody>\n",
       "  </tbody>\n",
       "</table>\n",
       "</div>"
      ],
      "text/plain": [
       "Empty GeoDataFrame\n",
       "Columns: [s_id, lon, lat, alt, alt_dem, gss_id, genus, species, phase_id, year, day, date, Label, geometry]\n",
       "Index: []"
      ]
     },
     "execution_count": 18,
     "metadata": {},
     "output_type": "execute_result"
    }
   ],
   "source": [
    "gdf = gdf.loc[gdf.year == 2017].sort_values(by='day', ascending=False)\n",
    "gdf.head()"
   ]
  },
  {
   "cell_type": "code",
   "execution_count": 14,
   "metadata": {},
   "outputs": [
    {
     "data": {
      "text/plain": [
       "array([[<AxesSubplot: title={'center': 'day'}>]], dtype=object)"
      ]
     },
     "execution_count": 14,
     "metadata": {},
     "output_type": "execute_result"
    },
    {
     "data": {
      "image/png": "[encoded data removed]",
      "text/plain": [
       "<Figure size 432x288 with 1 Axes>"
      ]
     },
     "metadata": {
      "needs_background": "light"
     },
     "output_type": "display_data"
    }
   ],
   "source": [
    "gdf.hist(column='day', bins=30, grid=True)"
   ]
  },
  {
   "cell_type": "code",
   "execution_count": 58,
   "metadata": {},
   "outputs": [
    {
     "data": {
      "text/plain": [
       "92     454\n",
       "91     449\n",
       "93     439\n",
       "100    403\n",
       "94     400\n",
       "      ... \n",
       "345      1\n",
       "33       1\n",
       "34       1\n",
       "35       1\n",
       "9        1\n",
       "Name: day, Length: 311, dtype: int64"
      ]
     },
     "execution_count": 58,
     "metadata": {},
     "output_type": "execute_result"
    }
   ],
   "source": [
    "gdf['day'].value_counts()"
   ]
  },
  {
   "cell_type": "code",
   "execution_count": 59,
   "metadata": {},
   "outputs": [
    {
     "data": {
      "text/plain": [
       "(454, 14)"
      ]
     },
     "execution_count": 59,
     "metadata": {},
     "output_type": "execute_result"
    }
   ],
   "source": [
    "buffers_day_92 = gdf.loc[gdf.day == 92]\n",
    "buffers_day_92.shape"
   ]
  },
  {
   "cell_type": "code",
   "execution_count": 60,
   "metadata": {},
   "outputs": [],
   "source": [
    "# Make a function for quick plotting\n",
    "# Load the lowres map of gpd\n",
    "world = gpd.read_file(gpd.datasets.get_path('naturalearth_lowres')).to_crs('EPSG:32632')\n",
    "\n",
    "def germany_plot(geodataframe, basemap):  \n",
    "    \n",
    "    # Restrict the boundary to germany\n",
    "    ax = basemap[basemap.name == 'Germany'].plot(color='gray', figsize=(10,10))\n",
    "    # Plot the data\n",
    "    geodataframe.plot(ax=ax, color='green')"
   ]
  },
  {
   "cell_type": "code",
   "execution_count": 61,
   "metadata": {},
   "outputs": [
    {
     "data": {
      "image/png": "[encoded data removed]",
      "text/plain": [
       "<Figure size 720x720 with 1 Axes>"
      ]
     },
     "metadata": {
      "needs_background": "light"
     },
     "output_type": "display_data"
    }
   ],
   "source": [
    "germany_plot(gdf.loc[gdf.day == 92], world)"
   ]
  },
  {
   "attachments": {},
   "cell_type": "markdown",
   "metadata": {},
   "source": [
    "2017\n",
    "\n",
    "High Count\n",
    "- Day 92: April 2\n",
    "- Day 91: April 1\n",
    "- Day 93: April 3\n",
    "- Day 100: April 10\n",
    "\n",
    "Low Count\n",
    "- Day 33: February 2\n",
    "- Day 34: February 3\n",
    "- Day 345: December 11"
   ]
  },
  {
   "cell_type": "code",
   "execution_count": 62,
   "metadata": {},
   "outputs": [],
   "source": [
    "output_folder = os.path.join(data_dir, \"pep725_high_count_days\")\n",
    "\n",
    "if not os.path.exists(output_folder):\n",
    "    os.mkdir(output_folder)\n",
    "\n",
    "buffers_day_92.to_file(os.path.join(output_folder, \"buffers_day_92.geojson\"), driver='GeoJSON')\n"
   ]
  },
  {
   "cell_type": "code",
   "execution_count": 63,
   "metadata": {},
   "outputs": [
    {
     "data": {
      "text/html": [
       "<div>\n",
       "<style scoped>\n",
       "    .dataframe tbody tr th:only-of-type {\n",
       "        vertical-align: middle;\n",
       "    }\n",
       "\n",
       "    .dataframe tbody tr th {\n",
       "        vertical-align: top;\n",
       "    }\n",
       "\n",
       "    .dataframe thead th {\n",
       "        text-align: right;\n",
       "    }\n",
       "</style>\n",
       "<table border=\"1\" class=\"dataframe\">\n",
       "  <thead>\n",
       "    <tr style=\"text-align: right;\">\n",
       "      <th></th>\n",
       "      <th>s_id</th>\n",
       "      <th>lon</th>\n",
       "      <th>lat</th>\n",
       "      <th>alt</th>\n",
       "      <th>alt_dem</th>\n",
       "      <th>gss_id</th>\n",
       "      <th>genus</th>\n",
       "      <th>species</th>\n",
       "      <th>phase_id</th>\n",
       "      <th>year</th>\n",
       "      <th>day</th>\n",
       "      <th>date</th>\n",
       "      <th>Label</th>\n",
       "      <th>geometry</th>\n",
       "    </tr>\n",
       "  </thead>\n",
       "  <tbody>\n",
       "    <tr>\n",
       "      <th>3861</th>\n",
       "      <td>21405</td>\n",
       "      <td>11.81670</td>\n",
       "      <td>53.5833</td>\n",
       "      <td>55</td>\n",
       "      <td>56</td>\n",
       "      <td>1010300</td>\n",
       "      <td>Acer</td>\n",
       "      <td>Acer platanoides</td>\n",
       "      <td>60</td>\n",
       "      <td>2017</td>\n",
       "      <td>92</td>\n",
       "      <td>2017-04-02</td>\n",
       "      <td>DBL</td>\n",
       "      <td>POLYGON ((690450.224 5940850.354, 690430.963 5...</td>\n",
       "    </tr>\n",
       "    <tr>\n",
       "      <th>118778</th>\n",
       "      <td>5054</td>\n",
       "      <td>12.55000</td>\n",
       "      <td>53.0667</td>\n",
       "      <td>50</td>\n",
       "      <td>57</td>\n",
       "      <td>10000</td>\n",
       "      <td>perm_grass</td>\n",
       "      <td>None</td>\n",
       "      <td>182</td>\n",
       "      <td>2017</td>\n",
       "      <td>92</td>\n",
       "      <td>2017-04-02</td>\n",
       "      <td>M</td>\n",
       "      <td>POLYGON ((741832.253 5885583.114, 741812.992 5...</td>\n",
       "    </tr>\n",
       "    <tr>\n",
       "      <th>113484</th>\n",
       "      <td>19310</td>\n",
       "      <td>6.93333</td>\n",
       "      <td>51.1500</td>\n",
       "      <td>40</td>\n",
       "      <td>42</td>\n",
       "      <td>2030100</td>\n",
       "      <td>Picea</td>\n",
       "      <td>Picea abies</td>\n",
       "      <td>10</td>\n",
       "      <td>2017</td>\n",
       "      <td>92</td>\n",
       "      <td>2017-04-02</td>\n",
       "      <td>EC</td>\n",
       "      <td>POLYGON ((359457.334 5668536.249, 359438.073 5...</td>\n",
       "    </tr>\n",
       "    <tr>\n",
       "      <th>3851</th>\n",
       "      <td>20640</td>\n",
       "      <td>12.23330</td>\n",
       "      <td>47.9667</td>\n",
       "      <td>475</td>\n",
       "      <td>472</td>\n",
       "      <td>1050100</td>\n",
       "      <td>Alnus</td>\n",
       "      <td>Alnus glutinosa</td>\n",
       "      <td>11</td>\n",
       "      <td>2017</td>\n",
       "      <td>92</td>\n",
       "      <td>2017-04-02</td>\n",
       "      <td>DBL</td>\n",
       "      <td>POLYGON ((745331.682 5317659.346, 745312.421 5...</td>\n",
       "    </tr>\n",
       "    <tr>\n",
       "      <th>3852</th>\n",
       "      <td>21391</td>\n",
       "      <td>7.13333</td>\n",
       "      <td>50.6333</td>\n",
       "      <td>220</td>\n",
       "      <td>185</td>\n",
       "      <td>1580100</td>\n",
       "      <td>Fraxinus</td>\n",
       "      <td>Fraxinus excelsior</td>\n",
       "      <td>60</td>\n",
       "      <td>2017</td>\n",
       "      <td>92</td>\n",
       "      <td>2017-04-02</td>\n",
       "      <td>DBL</td>\n",
       "      <td>POLYGON ((371991.300 5610710.490, 371972.039 5...</td>\n",
       "    </tr>\n",
       "  </tbody>\n",
       "</table>\n",
       "</div>"
      ],
      "text/plain": [
       "         s_id       lon      lat  alt  alt_dem   gss_id       genus  \\\n",
       "3861    21405  11.81670  53.5833   55       56  1010300        Acer   \n",
       "118778   5054  12.55000  53.0667   50       57    10000  perm_grass   \n",
       "113484  19310   6.93333  51.1500   40       42  2030100       Picea   \n",
       "3851    20640  12.23330  47.9667  475      472  1050100       Alnus   \n",
       "3852    21391   7.13333  50.6333  220      185  1580100    Fraxinus   \n",
       "\n",
       "                   species  phase_id  year  day        date Label  \\\n",
       "3861      Acer platanoides        60  2017   92  2017-04-02   DBL   \n",
       "118778                None       182  2017   92  2017-04-02     M   \n",
       "113484         Picea abies        10  2017   92  2017-04-02    EC   \n",
       "3851       Alnus glutinosa        11  2017   92  2017-04-02   DBL   \n",
       "3852    Fraxinus excelsior        60  2017   92  2017-04-02   DBL   \n",
       "\n",
       "                                                 geometry  \n",
       "3861    POLYGON ((690450.224 5940850.354, 690430.963 5...  \n",
       "118778  POLYGON ((741832.253 5885583.114, 741812.992 5...  \n",
       "113484  POLYGON ((359457.334 5668536.249, 359438.073 5...  \n",
       "3851    POLYGON ((745331.682 5317659.346, 745312.421 5...  \n",
       "3852    POLYGON ((371991.300 5610710.490, 371972.039 5...  "
      ]
     },
     "execution_count": 63,
     "metadata": {},
     "output_type": "execute_result"
    }
   ],
   "source": [
    "buffers_day_92.head()"
   ]
  },
  {
   "cell_type": "code",
   "execution_count": 20,
   "metadata": {},
   "outputs": [],
   "source": [
    "buffers_day_92 = buffers_day_92_WGS84.to_crs(epsg='32632')"
   ]
  },
  {
   "cell_type": "code",
   "execution_count": 49,
   "metadata": {},
   "outputs": [],
   "source": [
    "buffers_day_92_WGS84_subset = buffers_day_92_WGS84.iloc[:10]\n",
    "buffers_day_92_WGS84_subset.set_crs(32632, allow_override=True).to_file(os.path.join(output_folder, \"buffers_day_92_WGS84_subset.geojson\"),driver='GeoJSON')"
   ]
  },
  {
   "cell_type": "code",
   "execution_count": 32,
   "metadata": {},
   "outputs": [
    {
     "data": {
      "text/plain": [
       "3861    False\n",
       "dtype: bool"
      ]
     },
     "execution_count": 32,
     "metadata": {},
     "output_type": "execute_result"
    }
   ],
   "source": [
    "buffers_day_92_WGS84_subset.to_crs(32632).geometry.is_valid"
   ]
  },
  {
   "cell_type": "code",
   "execution_count": 26,
   "metadata": {},
   "outputs": [
    {
     "data": {
      "text/plain": [
       "<Derived Projected CRS: EPSG:32632>\n",
       "Name: WGS 84 / UTM zone 32N\n",
       "Axis Info [cartesian]:\n",
       "- E[east]: Easting (metre)\n",
       "- N[north]: Northing (metre)\n",
       "Area of Use:\n",
       "- name: Between 6°E and 12°E, northern hemisphere between equator and 84°N, onshore and offshore. Algeria. Austria. Cameroon. Denmark. Equatorial Guinea. France. Gabon. Germany. Italy. Libya. Liechtenstein. Monaco. Netherlands. Niger. Nigeria. Norway. Sao Tome and Principe. Svalbard. Sweden. Switzerland. Tunisia. Vatican City State.\n",
       "- bounds: (6.0, 0.0, 12.0, 84.0)\n",
       "Coordinate Operation:\n",
       "- name: UTM zone 32N\n",
       "- method: Transverse Mercator\n",
       "Datum: World Geodetic System 1984 ensemble\n",
       "- Ellipsoid: WGS 84\n",
       "- Prime Meridian: Greenwich"
      ]
     },
     "execution_count": 26,
     "metadata": {},
     "output_type": "execute_result"
    }
   ],
   "source": [
    "buffers_day_92.crs"
   ]
  },
  {
   "cell_type": "code",
   "execution_count": 22,
   "metadata": {},
   "outputs": [
    {
     "data": {
      "text/html": [
       "<div>\n",
       "<style scoped>\n",
       "    .dataframe tbody tr th:only-of-type {\n",
       "        vertical-align: middle;\n",
       "    }\n",
       "\n",
       "    .dataframe tbody tr th {\n",
       "        vertical-align: top;\n",
       "    }\n",
       "\n",
       "    .dataframe thead th {\n",
       "        text-align: right;\n",
       "    }\n",
       "</style>\n",
       "<table border=\"1\" class=\"dataframe\">\n",
       "  <thead>\n",
       "    <tr style=\"text-align: right;\">\n",
       "      <th></th>\n",
       "      <th>s_id</th>\n",
       "      <th>lon</th>\n",
       "      <th>lat</th>\n",
       "      <th>alt</th>\n",
       "      <th>alt_dem</th>\n",
       "      <th>gss_id</th>\n",
       "      <th>genus</th>\n",
       "      <th>species</th>\n",
       "      <th>phase_id</th>\n",
       "      <th>year</th>\n",
       "      <th>day</th>\n",
       "      <th>date</th>\n",
       "      <th>Label</th>\n",
       "      <th>geometry</th>\n",
       "    </tr>\n",
       "  </thead>\n",
       "  <tbody>\n",
       "    <tr>\n",
       "      <th>3861</th>\n",
       "      <td>21405</td>\n",
       "      <td>11.81670</td>\n",
       "      <td>53.5833</td>\n",
       "      <td>55</td>\n",
       "      <td>56</td>\n",
       "      <td>1010300</td>\n",
       "      <td>Acer</td>\n",
       "      <td>Acer platanoides</td>\n",
       "      <td>60</td>\n",
       "      <td>2017</td>\n",
       "      <td>92</td>\n",
       "      <td>2017-04-02</td>\n",
       "      <td>DBL</td>\n",
       "      <td>POLYGON ((inf inf, inf inf, inf inf, inf inf, ...</td>\n",
       "    </tr>\n",
       "    <tr>\n",
       "      <th>118778</th>\n",
       "      <td>5054</td>\n",
       "      <td>12.55000</td>\n",
       "      <td>53.0667</td>\n",
       "      <td>50</td>\n",
       "      <td>57</td>\n",
       "      <td>10000</td>\n",
       "      <td>perm_grass</td>\n",
       "      <td>None</td>\n",
       "      <td>182</td>\n",
       "      <td>2017</td>\n",
       "      <td>92</td>\n",
       "      <td>2017-04-02</td>\n",
       "      <td>M</td>\n",
       "      <td>POLYGON ((inf inf, inf inf, inf inf, inf inf, ...</td>\n",
       "    </tr>\n",
       "    <tr>\n",
       "      <th>113484</th>\n",
       "      <td>19310</td>\n",
       "      <td>6.93333</td>\n",
       "      <td>51.1500</td>\n",
       "      <td>40</td>\n",
       "      <td>42</td>\n",
       "      <td>2030100</td>\n",
       "      <td>Picea</td>\n",
       "      <td>Picea abies</td>\n",
       "      <td>10</td>\n",
       "      <td>2017</td>\n",
       "      <td>92</td>\n",
       "      <td>2017-04-02</td>\n",
       "      <td>EC</td>\n",
       "      <td>POLYGON ((inf inf, inf inf, inf inf, inf inf, ...</td>\n",
       "    </tr>\n",
       "    <tr>\n",
       "      <th>3851</th>\n",
       "      <td>20640</td>\n",
       "      <td>12.23330</td>\n",
       "      <td>47.9667</td>\n",
       "      <td>475</td>\n",
       "      <td>472</td>\n",
       "      <td>1050100</td>\n",
       "      <td>Alnus</td>\n",
       "      <td>Alnus glutinosa</td>\n",
       "      <td>11</td>\n",
       "      <td>2017</td>\n",
       "      <td>92</td>\n",
       "      <td>2017-04-02</td>\n",
       "      <td>DBL</td>\n",
       "      <td>POLYGON ((inf inf, inf inf, inf inf, inf inf, ...</td>\n",
       "    </tr>\n",
       "    <tr>\n",
       "      <th>3852</th>\n",
       "      <td>21391</td>\n",
       "      <td>7.13333</td>\n",
       "      <td>50.6333</td>\n",
       "      <td>220</td>\n",
       "      <td>185</td>\n",
       "      <td>1580100</td>\n",
       "      <td>Fraxinus</td>\n",
       "      <td>Fraxinus excelsior</td>\n",
       "      <td>60</td>\n",
       "      <td>2017</td>\n",
       "      <td>92</td>\n",
       "      <td>2017-04-02</td>\n",
       "      <td>DBL</td>\n",
       "      <td>POLYGON ((inf inf, inf inf, inf inf, inf inf, ...</td>\n",
       "    </tr>\n",
       "  </tbody>\n",
       "</table>\n",
       "</div>"
      ],
      "text/plain": [
       "         s_id       lon      lat  alt  alt_dem   gss_id       genus  \\\n",
       "3861    21405  11.81670  53.5833   55       56  1010300        Acer   \n",
       "118778   5054  12.55000  53.0667   50       57    10000  perm_grass   \n",
       "113484  19310   6.93333  51.1500   40       42  2030100       Picea   \n",
       "3851    20640  12.23330  47.9667  475      472  1050100       Alnus   \n",
       "3852    21391   7.13333  50.6333  220      185  1580100    Fraxinus   \n",
       "\n",
       "                   species  phase_id  year  day        date Label  \\\n",
       "3861      Acer platanoides        60  2017   92  2017-04-02   DBL   \n",
       "118778                None       182  2017   92  2017-04-02     M   \n",
       "113484         Picea abies        10  2017   92  2017-04-02    EC   \n",
       "3851       Alnus glutinosa        11  2017   92  2017-04-02   DBL   \n",
       "3852    Fraxinus excelsior        60  2017   92  2017-04-02   DBL   \n",
       "\n",
       "                                                 geometry  \n",
       "3861    POLYGON ((inf inf, inf inf, inf inf, inf inf, ...  \n",
       "118778  POLYGON ((inf inf, inf inf, inf inf, inf inf, ...  \n",
       "113484  POLYGON ((inf inf, inf inf, inf inf, inf inf, ...  \n",
       "3851    POLYGON ((inf inf, inf inf, inf inf, inf inf, ...  \n",
       "3852    POLYGON ((inf inf, inf inf, inf inf, inf inf, ...  "
      ]
     },
     "execution_count": 22,
     "metadata": {},
     "output_type": "execute_result"
    }
   ],
   "source": [
    "buffers_day_92.head()"
   ]
  },
  {
   "cell_type": "code",
   "execution_count": 19,
   "metadata": {},
   "outputs": [
    {
     "data": {
      "text/plain": [
       "<Derived Projected CRS: EPSG:32632>\n",
       "Name: WGS 84 / UTM zone 32N\n",
       "Axis Info [cartesian]:\n",
       "- E[east]: Easting (metre)\n",
       "- N[north]: Northing (metre)\n",
       "Area of Use:\n",
       "- name: Between 6°E and 12°E, northern hemisphere between equator and 84°N, onshore and offshore. Algeria. Austria. Cameroon. Denmark. Equatorial Guinea. France. Gabon. Germany. Italy. Libya. Liechtenstein. Monaco. Netherlands. Niger. Nigeria. Norway. Sao Tome and Principe. Svalbard. Sweden. Switzerland. Tunisia. Vatican City State.\n",
       "- bounds: (6.0, 0.0, 12.0, 84.0)\n",
       "Coordinate Operation:\n",
       "- name: UTM zone 32N\n",
       "- method: Transverse Mercator\n",
       "Datum: World Geodetic System 1984 ensemble\n",
       "- Ellipsoid: WGS 84\n",
       "- Prime Meridian: Greenwich"
      ]
     },
     "execution_count": 19,
     "metadata": {},
     "output_type": "execute_result"
    }
   ],
   "source": [
    "buffers_day_92.crs"
   ]
  },
  {
   "attachments": {},
   "cell_type": "markdown",
   "metadata": {},
   "source": [
    "Exporting the buffers and stations in WGS84/UTM zone 32N"
   ]
  },
  {
   "cell_type": "code",
   "execution_count": 65,
   "metadata": {},
   "outputs": [
    {
     "ename": "PermissionError",
     "evalue": "[WinError 32] The process cannot access the file because it is being used by another process: 'C:\\\\Users\\\\Kostas\\\\Desktop\\\\GIMA\\\\Module_7\\\\Data\\\\PEP725\\\\After_2016_sent_from_PEP725\\\\pep725_outputs\\\\pep725_high_count_days\\\\buffers_day_92.geojson'",
     "output_type": "error",
     "traceback": [
      "\u001b[1;31m---------------------------------------------------------------------------\u001b[0m",
      "\u001b[1;31mPermissionError\u001b[0m                           Traceback (most recent call last)",
      "\u001b[1;32mc:\\Users\\Kostas\\Documents\\GitHub\\vitpheno\\pep725_2017.ipynb Cell 21\u001b[0m in \u001b[0;36m<cell line: 1>\u001b[1;34m()\u001b[0m\n\u001b[1;32m----> <a href='vscode-notebook-cell:/c%3A/Users/Kostas/Documents/GitHub/vitpheno/pep725_2017.ipynb#X20sZmlsZQ%3D%3D?line=0'>1</a>\u001b[0m buffers_day_92\u001b[39m.\u001b[39;49mto_file(os\u001b[39m.\u001b[39;49mpath\u001b[39m.\u001b[39;49mjoin(output_folder, \u001b[39m\"\u001b[39;49m\u001b[39mbuffers_day_92.geojson\u001b[39;49m\u001b[39m\"\u001b[39;49m), driver\u001b[39m=\u001b[39;49m\u001b[39m'\u001b[39;49m\u001b[39mGeoJSON\u001b[39;49m\u001b[39m'\u001b[39;49m)\n",
      "File \u001b[1;32mc:\\Users\\Kostas\\anaconda3\\envs\\pep725\\lib\\site-packages\\geopandas\\geodataframe.py:1203\u001b[0m, in \u001b[0;36mGeoDataFrame.to_file\u001b[1;34m(self, filename, driver, schema, index, **kwargs)\u001b[0m\n\u001b[0;32m   1120\u001b[0m \u001b[39m\"\"\"Write the ``GeoDataFrame`` to a file.\u001b[39;00m\n\u001b[0;32m   1121\u001b[0m \n\u001b[0;32m   1122\u001b[0m \u001b[39mBy default, an ESRI shapefile is written, but any OGR data source\u001b[39;00m\n\u001b[1;32m   (...)\u001b[0m\n\u001b[0;32m   1199\u001b[0m \u001b[39m>>> gdf.to_file('dataframe.shp', mode=\"a\")  # doctest: +SKIP\u001b[39;00m\n\u001b[0;32m   1200\u001b[0m \u001b[39m\"\"\"\u001b[39;00m\n\u001b[0;32m   1201\u001b[0m \u001b[39mfrom\u001b[39;00m \u001b[39mgeopandas\u001b[39;00m\u001b[39m.\u001b[39;00m\u001b[39mio\u001b[39;00m\u001b[39m.\u001b[39;00m\u001b[39mfile\u001b[39;00m \u001b[39mimport\u001b[39;00m _to_file\n\u001b[1;32m-> 1203\u001b[0m _to_file(\u001b[39mself\u001b[39m, filename, driver, schema, index, \u001b[39m*\u001b[39m\u001b[39m*\u001b[39mkwargs)\n",
      "File \u001b[1;32mc:\\Users\\Kostas\\anaconda3\\envs\\pep725\\lib\\site-packages\\geopandas\\io\\file.py:545\u001b[0m, in \u001b[0;36m_to_file\u001b[1;34m(df, filename, driver, schema, index, mode, crs, engine, **kwargs)\u001b[0m\n\u001b[0;32m    538\u001b[0m     warnings\u001b[39m.\u001b[39mwarn(\n\u001b[0;32m    539\u001b[0m         \u001b[39m\"\u001b[39m\u001b[39mColumn names longer than 10 characters will be truncated when saved to \u001b[39m\u001b[39m\"\u001b[39m\n\u001b[0;32m    540\u001b[0m         \u001b[39m\"\u001b[39m\u001b[39mESRI Shapefile.\u001b[39m\u001b[39m\"\u001b[39m,\n\u001b[0;32m    541\u001b[0m         stacklevel\u001b[39m=\u001b[39m\u001b[39m3\u001b[39m,\n\u001b[0;32m    542\u001b[0m     )\n\u001b[0;32m    544\u001b[0m \u001b[39mif\u001b[39;00m engine \u001b[39m==\u001b[39m \u001b[39m\"\u001b[39m\u001b[39mfiona\u001b[39m\u001b[39m\"\u001b[39m:\n\u001b[1;32m--> 545\u001b[0m     _to_file_fiona(df, filename, driver, schema, crs, mode, \u001b[39m*\u001b[39m\u001b[39m*\u001b[39mkwargs)\n\u001b[0;32m    546\u001b[0m \u001b[39melif\u001b[39;00m engine \u001b[39m==\u001b[39m \u001b[39m\"\u001b[39m\u001b[39mpyogrio\u001b[39m\u001b[39m\"\u001b[39m:\n\u001b[0;32m    547\u001b[0m     _to_file_pyogrio(df, filename, driver, schema, crs, mode, \u001b[39m*\u001b[39m\u001b[39m*\u001b[39mkwargs)\n",
      "File \u001b[1;32mc:\\Users\\Kostas\\anaconda3\\envs\\pep725\\lib\\site-packages\\geopandas\\io\\file.py:572\u001b[0m, in \u001b[0;36m_to_file_fiona\u001b[1;34m(df, filename, driver, schema, crs, mode, **kwargs)\u001b[0m\n\u001b[0;32m    570\u001b[0m \u001b[39melif\u001b[39;00m crs:\n\u001b[0;32m    571\u001b[0m     crs_wkt \u001b[39m=\u001b[39m crs\u001b[39m.\u001b[39mto_wkt(\u001b[39m\"\u001b[39m\u001b[39mWKT1_GDAL\u001b[39m\u001b[39m\"\u001b[39m)\n\u001b[1;32m--> 572\u001b[0m \u001b[39mwith\u001b[39;00m fiona\u001b[39m.\u001b[39mopen(\n\u001b[0;32m    573\u001b[0m     filename, mode\u001b[39m=\u001b[39mmode, driver\u001b[39m=\u001b[39mdriver, crs_wkt\u001b[39m=\u001b[39mcrs_wkt, schema\u001b[39m=\u001b[39mschema, \u001b[39m*\u001b[39m\u001b[39m*\u001b[39mkwargs\n\u001b[0;32m    574\u001b[0m ) \u001b[39mas\u001b[39;00m colxn:\n\u001b[0;32m    575\u001b[0m     colxn\u001b[39m.\u001b[39mwriterecords(df\u001b[39m.\u001b[39miterfeatures())\n",
      "File \u001b[1;32mc:\\Users\\Kostas\\anaconda3\\envs\\pep725\\lib\\site-packages\\fiona\\env.py:408\u001b[0m, in \u001b[0;36mensure_env_with_credentials.<locals>.wrapper\u001b[1;34m(*args, **kwargs)\u001b[0m\n\u001b[0;32m    405\u001b[0m \u001b[39m@wraps\u001b[39m(f)\n\u001b[0;32m    406\u001b[0m \u001b[39mdef\u001b[39;00m \u001b[39mwrapper\u001b[39m(\u001b[39m*\u001b[39margs, \u001b[39m*\u001b[39m\u001b[39m*\u001b[39mkwargs):\n\u001b[0;32m    407\u001b[0m     \u001b[39mif\u001b[39;00m local\u001b[39m.\u001b[39m_env:\n\u001b[1;32m--> 408\u001b[0m         \u001b[39mreturn\u001b[39;00m f(\u001b[39m*\u001b[39margs, \u001b[39m*\u001b[39m\u001b[39m*\u001b[39mkwargs)\n\u001b[0;32m    409\u001b[0m     \u001b[39melse\u001b[39;00m:\n\u001b[0;32m    410\u001b[0m         \u001b[39mif\u001b[39;00m \u001b[39misinstance\u001b[39m(args[\u001b[39m0\u001b[39m], \u001b[39mstr\u001b[39m):\n",
      "File \u001b[1;32mc:\\Users\\Kostas\\anaconda3\\envs\\pep725\\lib\\site-packages\\fiona\\__init__.py:280\u001b[0m, in \u001b[0;36mopen\u001b[1;34m(fp, mode, driver, schema, crs, encoding, layer, vfs, enabled_drivers, crs_wkt, **kwargs)\u001b[0m\n\u001b[0;32m    278\u001b[0m     \u001b[39melse\u001b[39;00m:\n\u001b[0;32m    279\u001b[0m         this_schema \u001b[39m=\u001b[39m \u001b[39mNone\u001b[39;00m\n\u001b[1;32m--> 280\u001b[0m     c \u001b[39m=\u001b[39m Collection(path, mode, crs\u001b[39m=\u001b[39mcrs, driver\u001b[39m=\u001b[39mdriver, schema\u001b[39m=\u001b[39mthis_schema,\n\u001b[0;32m    281\u001b[0m                    encoding\u001b[39m=\u001b[39mencoding, layer\u001b[39m=\u001b[39mlayer, enabled_drivers\u001b[39m=\u001b[39menabled_drivers, crs_wkt\u001b[39m=\u001b[39mcrs_wkt,\n\u001b[0;32m    282\u001b[0m                    \u001b[39m*\u001b[39m\u001b[39m*\u001b[39mkwargs)\n\u001b[0;32m    283\u001b[0m \u001b[39melse\u001b[39;00m:\n\u001b[0;32m    284\u001b[0m     \u001b[39mraise\u001b[39;00m \u001b[39mValueError\u001b[39;00m(\n\u001b[0;32m    285\u001b[0m         \u001b[39m\"\u001b[39m\u001b[39mmode string must be one of \u001b[39m\u001b[39m'\u001b[39m\u001b[39mr\u001b[39m\u001b[39m'\u001b[39m\u001b[39m, \u001b[39m\u001b[39m'\u001b[39m\u001b[39mw\u001b[39m\u001b[39m'\u001b[39m\u001b[39m, or \u001b[39m\u001b[39m'\u001b[39m\u001b[39ma\u001b[39m\u001b[39m'\u001b[39m\u001b[39m, not \u001b[39m\u001b[39m%s\u001b[39;00m\u001b[39m\"\u001b[39m \u001b[39m%\u001b[39m mode)\n",
      "File \u001b[1;32mc:\\Users\\Kostas\\anaconda3\\envs\\pep725\\lib\\site-packages\\fiona\\collection.py:165\u001b[0m, in \u001b[0;36mCollection.__init__\u001b[1;34m(self, path, mode, driver, schema, crs, encoding, layer, vsi, archive, enabled_drivers, crs_wkt, ignore_fields, ignore_geometry, **kwargs)\u001b[0m\n\u001b[0;32m    163\u001b[0m     \u001b[39melif\u001b[39;00m \u001b[39mself\u001b[39m\u001b[39m.\u001b[39mmode \u001b[39min\u001b[39;00m (\u001b[39m'\u001b[39m\u001b[39ma\u001b[39m\u001b[39m'\u001b[39m, \u001b[39m'\u001b[39m\u001b[39mw\u001b[39m\u001b[39m'\u001b[39m):\n\u001b[0;32m    164\u001b[0m         \u001b[39mself\u001b[39m\u001b[39m.\u001b[39msession \u001b[39m=\u001b[39m WritingSession()\n\u001b[1;32m--> 165\u001b[0m         \u001b[39mself\u001b[39m\u001b[39m.\u001b[39msession\u001b[39m.\u001b[39mstart(\u001b[39mself\u001b[39m, \u001b[39m*\u001b[39m\u001b[39m*\u001b[39mkwargs)\n\u001b[0;32m    166\u001b[0m \u001b[39mexcept\u001b[39;00m \u001b[39mIOError\u001b[39;00m:\n\u001b[0;32m    167\u001b[0m     \u001b[39mself\u001b[39m\u001b[39m.\u001b[39msession \u001b[39m=\u001b[39m \u001b[39mNone\u001b[39;00m\n",
      "File \u001b[1;32mfiona\\ogrext.pyx:1020\u001b[0m, in \u001b[0;36mfiona.ogrext.WritingSession.start\u001b[1;34m()\u001b[0m\n",
      "\u001b[1;31mPermissionError\u001b[0m: [WinError 32] The process cannot access the file because it is being used by another process: 'C:\\\\Users\\\\Kostas\\\\Desktop\\\\GIMA\\\\Module_7\\\\Data\\\\PEP725\\\\After_2016_sent_from_PEP725\\\\pep725_outputs\\\\pep725_high_count_days\\\\buffers_day_92.geojson'"
     ]
    }
   ],
   "source": [
    "buffers_day_92.to_file(os.path.join(output_folder, \"buffers_day_92.geojson\"), driver='GeoJSON')"
   ]
  },
  {
   "cell_type": "code",
   "execution_count": 70,
   "metadata": {},
   "outputs": [],
   "source": [
    "# Exporting buffers dissolved\n",
    "buffers_day_92.dissolve(by='s_id').to_file(os.path.join(output_folder, \"buffers_day_92_dissolved.geojson\"), driver='GeoJSON')"
   ]
  },
  {
   "attachments": {},
   "cell_type": "markdown",
   "metadata": {},
   "source": [
    "## Exporting the stations for the same day to do some analysis"
   ]
  },
  {
   "cell_type": "code",
   "execution_count": 66,
   "metadata": {},
   "outputs": [
    {
     "data": {
      "text/html": [
       "<div>\n",
       "<style scoped>\n",
       "    .dataframe tbody tr th:only-of-type {\n",
       "        vertical-align: middle;\n",
       "    }\n",
       "\n",
       "    .dataframe tbody tr th {\n",
       "        vertical-align: top;\n",
       "    }\n",
       "\n",
       "    .dataframe thead th {\n",
       "        text-align: right;\n",
       "    }\n",
       "</style>\n",
       "<table border=\"1\" class=\"dataframe\">\n",
       "  <thead>\n",
       "    <tr style=\"text-align: right;\">\n",
       "      <th></th>\n",
       "      <th>s_id</th>\n",
       "      <th>lon</th>\n",
       "      <th>lat</th>\n",
       "      <th>alt</th>\n",
       "      <th>alt_dem</th>\n",
       "      <th>gss_id</th>\n",
       "      <th>genus</th>\n",
       "      <th>species</th>\n",
       "      <th>phase_id</th>\n",
       "      <th>year</th>\n",
       "      <th>day</th>\n",
       "      <th>date</th>\n",
       "      <th>Label</th>\n",
       "      <th>geometry</th>\n",
       "    </tr>\n",
       "  </thead>\n",
       "  <tbody>\n",
       "    <tr>\n",
       "      <th>0</th>\n",
       "      <td>5363</td>\n",
       "      <td>13.91670</td>\n",
       "      <td>54.0833</td>\n",
       "      <td>2</td>\n",
       "      <td>0</td>\n",
       "      <td>1050100</td>\n",
       "      <td>Alnus</td>\n",
       "      <td>Alnus glutinosa</td>\n",
       "      <td>60</td>\n",
       "      <td>2017</td>\n",
       "      <td>27</td>\n",
       "      <td>2017-01-27</td>\n",
       "      <td>DBL</td>\n",
       "      <td>POINT Z (821520.468 6003973.720 2.000)</td>\n",
       "    </tr>\n",
       "    <tr>\n",
       "      <th>1</th>\n",
       "      <td>1554</td>\n",
       "      <td>7.51667</td>\n",
       "      <td>51.7333</td>\n",
       "      <td>60</td>\n",
       "      <td>72</td>\n",
       "      <td>2210500</td>\n",
       "      <td>Salix</td>\n",
       "      <td>Salix caprea</td>\n",
       "      <td>60</td>\n",
       "      <td>2017</td>\n",
       "      <td>29</td>\n",
       "      <td>2017-01-29</td>\n",
       "      <td>DBL</td>\n",
       "      <td>POINT Z (397567.206 5732416.903 60.000)</td>\n",
       "    </tr>\n",
       "    <tr>\n",
       "      <th>2</th>\n",
       "      <td>3120</td>\n",
       "      <td>8.68333</td>\n",
       "      <td>49.5500</td>\n",
       "      <td>140</td>\n",
       "      <td>261</td>\n",
       "      <td>1050100</td>\n",
       "      <td>Alnus</td>\n",
       "      <td>Alnus glutinosa</td>\n",
       "      <td>60</td>\n",
       "      <td>2017</td>\n",
       "      <td>31</td>\n",
       "      <td>2017-01-31</td>\n",
       "      <td>DBL</td>\n",
       "      <td>POINT Z (477094.080 5488647.767 140.000)</td>\n",
       "    </tr>\n",
       "    <tr>\n",
       "      <th>3</th>\n",
       "      <td>2021</td>\n",
       "      <td>8.58333</td>\n",
       "      <td>50.0000</td>\n",
       "      <td>100</td>\n",
       "      <td>101</td>\n",
       "      <td>1050100</td>\n",
       "      <td>Alnus</td>\n",
       "      <td>Alnus glutinosa</td>\n",
       "      <td>60</td>\n",
       "      <td>2017</td>\n",
       "      <td>32</td>\n",
       "      <td>2017-02-01</td>\n",
       "      <td>DBL</td>\n",
       "      <td>POINT Z (470138.525 5538713.881 100.000)</td>\n",
       "    </tr>\n",
       "    <tr>\n",
       "      <th>4</th>\n",
       "      <td>1521</td>\n",
       "      <td>7.83333</td>\n",
       "      <td>51.7000</td>\n",
       "      <td>60</td>\n",
       "      <td>58</td>\n",
       "      <td>1050100</td>\n",
       "      <td>Alnus</td>\n",
       "      <td>Alnus glutinosa</td>\n",
       "      <td>60</td>\n",
       "      <td>2017</td>\n",
       "      <td>33</td>\n",
       "      <td>2017-02-02</td>\n",
       "      <td>DBL</td>\n",
       "      <td>POINT Z (419374.473 5728316.443 60.000)</td>\n",
       "    </tr>\n",
       "    <tr>\n",
       "      <th>...</th>\n",
       "      <td>...</td>\n",
       "      <td>...</td>\n",
       "      <td>...</td>\n",
       "      <td>...</td>\n",
       "      <td>...</td>\n",
       "      <td>...</td>\n",
       "      <td>...</td>\n",
       "      <td>...</td>\n",
       "      <td>...</td>\n",
       "      <td>...</td>\n",
       "      <td>...</td>\n",
       "      <td>...</td>\n",
       "      <td>...</td>\n",
       "      <td>...</td>\n",
       "    </tr>\n",
       "    <tr>\n",
       "      <th>129324</th>\n",
       "      <td>5456</td>\n",
       "      <td>13.75000</td>\n",
       "      <td>50.7333</td>\n",
       "      <td>875</td>\n",
       "      <td>864</td>\n",
       "      <td>10000</td>\n",
       "      <td>perm_grass</td>\n",
       "      <td>None</td>\n",
       "      <td>131</td>\n",
       "      <td>2021</td>\n",
       "      <td>244</td>\n",
       "      <td>2021-09-01</td>\n",
       "      <td>M</td>\n",
       "      <td>POINT Z (835136.405 5630933.921 875.000)</td>\n",
       "    </tr>\n",
       "    <tr>\n",
       "      <th>129325</th>\n",
       "      <td>961</td>\n",
       "      <td>7.50000</td>\n",
       "      <td>52.7667</td>\n",
       "      <td>30</td>\n",
       "      <td>33</td>\n",
       "      <td>10000</td>\n",
       "      <td>perm_grass</td>\n",
       "      <td>None</td>\n",
       "      <td>111</td>\n",
       "      <td>2021</td>\n",
       "      <td>257</td>\n",
       "      <td>2021-09-14</td>\n",
       "      <td>M</td>\n",
       "      <td>POINT Z (398795.749 5847373.189 30.000)</td>\n",
       "    </tr>\n",
       "    <tr>\n",
       "      <th>129326</th>\n",
       "      <td>20595</td>\n",
       "      <td>8.50000</td>\n",
       "      <td>49.4667</td>\n",
       "      <td>95</td>\n",
       "      <td>86</td>\n",
       "      <td>10000</td>\n",
       "      <td>perm_grass</td>\n",
       "      <td>None</td>\n",
       "      <td>131</td>\n",
       "      <td>2021</td>\n",
       "      <td>258</td>\n",
       "      <td>2021-09-15</td>\n",
       "      <td>M</td>\n",
       "      <td>POINT Z (463771.720 5479458.856 95.000)</td>\n",
       "    </tr>\n",
       "    <tr>\n",
       "      <th>129327</th>\n",
       "      <td>19312</td>\n",
       "      <td>8.36667</td>\n",
       "      <td>48.6000</td>\n",
       "      <td>490</td>\n",
       "      <td>622</td>\n",
       "      <td>10000</td>\n",
       "      <td>perm_grass</td>\n",
       "      <td>None</td>\n",
       "      <td>131</td>\n",
       "      <td>2021</td>\n",
       "      <td>285</td>\n",
       "      <td>2021-10-12</td>\n",
       "      <td>M</td>\n",
       "      <td>POINT Z (453306.954 5383184.811 490.000)</td>\n",
       "    </tr>\n",
       "    <tr>\n",
       "      <th>129328</th>\n",
       "      <td>8197</td>\n",
       "      <td>10.98330</td>\n",
       "      <td>48.2333</td>\n",
       "      <td>525</td>\n",
       "      <td>504</td>\n",
       "      <td>10000</td>\n",
       "      <td>perm_grass</td>\n",
       "      <td>None</td>\n",
       "      <td>111</td>\n",
       "      <td>2021</td>\n",
       "      <td>289</td>\n",
       "      <td>2021-10-16</td>\n",
       "      <td>M</td>\n",
       "      <td>POINT Z (647273.716 5344132.606 525.000)</td>\n",
       "    </tr>\n",
       "  </tbody>\n",
       "</table>\n",
       "<p>129329 rows × 14 columns</p>\n",
       "</div>"
      ],
      "text/plain": [
       "         s_id       lon      lat  alt  alt_dem   gss_id       genus  \\\n",
       "0        5363  13.91670  54.0833    2        0  1050100       Alnus   \n",
       "1        1554   7.51667  51.7333   60       72  2210500       Salix   \n",
       "2        3120   8.68333  49.5500  140      261  1050100       Alnus   \n",
       "3        2021   8.58333  50.0000  100      101  1050100       Alnus   \n",
       "4        1521   7.83333  51.7000   60       58  1050100       Alnus   \n",
       "...       ...       ...      ...  ...      ...      ...         ...   \n",
       "129324   5456  13.75000  50.7333  875      864    10000  perm_grass   \n",
       "129325    961   7.50000  52.7667   30       33    10000  perm_grass   \n",
       "129326  20595   8.50000  49.4667   95       86    10000  perm_grass   \n",
       "129327  19312   8.36667  48.6000  490      622    10000  perm_grass   \n",
       "129328   8197  10.98330  48.2333  525      504    10000  perm_grass   \n",
       "\n",
       "                species  phase_id  year  day        date Label  \\\n",
       "0       Alnus glutinosa        60  2017   27  2017-01-27   DBL   \n",
       "1          Salix caprea        60  2017   29  2017-01-29   DBL   \n",
       "2       Alnus glutinosa        60  2017   31  2017-01-31   DBL   \n",
       "3       Alnus glutinosa        60  2017   32  2017-02-01   DBL   \n",
       "4       Alnus glutinosa        60  2017   33  2017-02-02   DBL   \n",
       "...                 ...       ...   ...  ...         ...   ...   \n",
       "129324             None       131  2021  244  2021-09-01     M   \n",
       "129325             None       111  2021  257  2021-09-14     M   \n",
       "129326             None       131  2021  258  2021-09-15     M   \n",
       "129327             None       131  2021  285  2021-10-12     M   \n",
       "129328             None       111  2021  289  2021-10-16     M   \n",
       "\n",
       "                                        geometry  \n",
       "0         POINT Z (821520.468 6003973.720 2.000)  \n",
       "1        POINT Z (397567.206 5732416.903 60.000)  \n",
       "2       POINT Z (477094.080 5488647.767 140.000)  \n",
       "3       POINT Z (470138.525 5538713.881 100.000)  \n",
       "4        POINT Z (419374.473 5728316.443 60.000)  \n",
       "...                                          ...  \n",
       "129324  POINT Z (835136.405 5630933.921 875.000)  \n",
       "129325   POINT Z (398795.749 5847373.189 30.000)  \n",
       "129326   POINT Z (463771.720 5479458.856 95.000)  \n",
       "129327  POINT Z (453306.954 5383184.811 490.000)  \n",
       "129328  POINT Z (647273.716 5344132.606 525.000)  \n",
       "\n",
       "[129329 rows x 14 columns]"
      ]
     },
     "execution_count": 66,
     "metadata": {},
     "output_type": "execute_result"
    }
   ],
   "source": [
    "stations = gpd.read_file(os.path.join(data_dir, \"PEP725_stations.geojson\"))\n",
    "stations.set_crs(32632, inplace=True, allow_override=True)"
   ]
  },
  {
   "cell_type": "code",
   "execution_count": 67,
   "metadata": {},
   "outputs": [
    {
     "data": {
      "text/html": [
       "<div>\n",
       "<style scoped>\n",
       "    .dataframe tbody tr th:only-of-type {\n",
       "        vertical-align: middle;\n",
       "    }\n",
       "\n",
       "    .dataframe tbody tr th {\n",
       "        vertical-align: top;\n",
       "    }\n",
       "\n",
       "    .dataframe thead th {\n",
       "        text-align: right;\n",
       "    }\n",
       "</style>\n",
       "<table border=\"1\" class=\"dataframe\">\n",
       "  <thead>\n",
       "    <tr style=\"text-align: right;\">\n",
       "      <th></th>\n",
       "      <th>s_id</th>\n",
       "      <th>lon</th>\n",
       "      <th>lat</th>\n",
       "      <th>alt</th>\n",
       "      <th>alt_dem</th>\n",
       "      <th>gss_id</th>\n",
       "      <th>genus</th>\n",
       "      <th>species</th>\n",
       "      <th>phase_id</th>\n",
       "      <th>year</th>\n",
       "      <th>day</th>\n",
       "      <th>date</th>\n",
       "      <th>Label</th>\n",
       "      <th>geometry</th>\n",
       "    </tr>\n",
       "  </thead>\n",
       "  <tbody>\n",
       "    <tr>\n",
       "      <th>0</th>\n",
       "      <td>5363</td>\n",
       "      <td>13.91670</td>\n",
       "      <td>54.0833</td>\n",
       "      <td>2</td>\n",
       "      <td>0</td>\n",
       "      <td>1050100</td>\n",
       "      <td>Alnus</td>\n",
       "      <td>Alnus glutinosa</td>\n",
       "      <td>60</td>\n",
       "      <td>2017</td>\n",
       "      <td>27</td>\n",
       "      <td>2017-01-27</td>\n",
       "      <td>DBL</td>\n",
       "      <td>POINT Z (821520.468 6003973.720 2.000)</td>\n",
       "    </tr>\n",
       "    <tr>\n",
       "      <th>1</th>\n",
       "      <td>1554</td>\n",
       "      <td>7.51667</td>\n",
       "      <td>51.7333</td>\n",
       "      <td>60</td>\n",
       "      <td>72</td>\n",
       "      <td>2210500</td>\n",
       "      <td>Salix</td>\n",
       "      <td>Salix caprea</td>\n",
       "      <td>60</td>\n",
       "      <td>2017</td>\n",
       "      <td>29</td>\n",
       "      <td>2017-01-29</td>\n",
       "      <td>DBL</td>\n",
       "      <td>POINT Z (397567.206 5732416.903 60.000)</td>\n",
       "    </tr>\n",
       "    <tr>\n",
       "      <th>2</th>\n",
       "      <td>3120</td>\n",
       "      <td>8.68333</td>\n",
       "      <td>49.5500</td>\n",
       "      <td>140</td>\n",
       "      <td>261</td>\n",
       "      <td>1050100</td>\n",
       "      <td>Alnus</td>\n",
       "      <td>Alnus glutinosa</td>\n",
       "      <td>60</td>\n",
       "      <td>2017</td>\n",
       "      <td>31</td>\n",
       "      <td>2017-01-31</td>\n",
       "      <td>DBL</td>\n",
       "      <td>POINT Z (477094.080 5488647.767 140.000)</td>\n",
       "    </tr>\n",
       "    <tr>\n",
       "      <th>3</th>\n",
       "      <td>2021</td>\n",
       "      <td>8.58333</td>\n",
       "      <td>50.0000</td>\n",
       "      <td>100</td>\n",
       "      <td>101</td>\n",
       "      <td>1050100</td>\n",
       "      <td>Alnus</td>\n",
       "      <td>Alnus glutinosa</td>\n",
       "      <td>60</td>\n",
       "      <td>2017</td>\n",
       "      <td>32</td>\n",
       "      <td>2017-02-01</td>\n",
       "      <td>DBL</td>\n",
       "      <td>POINT Z (470138.525 5538713.881 100.000)</td>\n",
       "    </tr>\n",
       "    <tr>\n",
       "      <th>4</th>\n",
       "      <td>1521</td>\n",
       "      <td>7.83333</td>\n",
       "      <td>51.7000</td>\n",
       "      <td>60</td>\n",
       "      <td>58</td>\n",
       "      <td>1050100</td>\n",
       "      <td>Alnus</td>\n",
       "      <td>Alnus glutinosa</td>\n",
       "      <td>60</td>\n",
       "      <td>2017</td>\n",
       "      <td>33</td>\n",
       "      <td>2017-02-02</td>\n",
       "      <td>DBL</td>\n",
       "      <td>POINT Z (419374.473 5728316.443 60.000)</td>\n",
       "    </tr>\n",
       "  </tbody>\n",
       "</table>\n",
       "</div>"
      ],
      "text/plain": [
       "   s_id       lon      lat  alt  alt_dem   gss_id  genus          species  \\\n",
       "0  5363  13.91670  54.0833    2        0  1050100  Alnus  Alnus glutinosa   \n",
       "1  1554   7.51667  51.7333   60       72  2210500  Salix     Salix caprea   \n",
       "2  3120   8.68333  49.5500  140      261  1050100  Alnus  Alnus glutinosa   \n",
       "3  2021   8.58333  50.0000  100      101  1050100  Alnus  Alnus glutinosa   \n",
       "4  1521   7.83333  51.7000   60       58  1050100  Alnus  Alnus glutinosa   \n",
       "\n",
       "   phase_id  year  day        date Label  \\\n",
       "0        60  2017   27  2017-01-27   DBL   \n",
       "1        60  2017   29  2017-01-29   DBL   \n",
       "2        60  2017   31  2017-01-31   DBL   \n",
       "3        60  2017   32  2017-02-01   DBL   \n",
       "4        60  2017   33  2017-02-02   DBL   \n",
       "\n",
       "                                   geometry  \n",
       "0    POINT Z (821520.468 6003973.720 2.000)  \n",
       "1   POINT Z (397567.206 5732416.903 60.000)  \n",
       "2  POINT Z (477094.080 5488647.767 140.000)  \n",
       "3  POINT Z (470138.525 5538713.881 100.000)  \n",
       "4   POINT Z (419374.473 5728316.443 60.000)  "
      ]
     },
     "execution_count": 67,
     "metadata": {},
     "output_type": "execute_result"
    }
   ],
   "source": [
    "stations_2017 = stations.loc[stations.year == 2017]\n",
    "stations_2017.head()"
   ]
  },
  {
   "cell_type": "code",
   "execution_count": 68,
   "metadata": {},
   "outputs": [
    {
     "data": {
      "text/plain": [
       "<Derived Projected CRS: EPSG:32632>\n",
       "Name: WGS 84 / UTM zone 32N\n",
       "Axis Info [cartesian]:\n",
       "- E[east]: Easting (metre)\n",
       "- N[north]: Northing (metre)\n",
       "Area of Use:\n",
       "- name: Between 6°E and 12°E, northern hemisphere between equator and 84°N, onshore and offshore. Algeria. Austria. Cameroon. Denmark. Equatorial Guinea. France. Gabon. Germany. Italy. Libya. Liechtenstein. Monaco. Netherlands. Niger. Nigeria. Norway. Sao Tome and Principe. Svalbard. Sweden. Switzerland. Tunisia. Vatican City State.\n",
       "- bounds: (6.0, 0.0, 12.0, 84.0)\n",
       "Coordinate Operation:\n",
       "- name: UTM zone 32N\n",
       "- method: Transverse Mercator\n",
       "Datum: World Geodetic System 1984 ensemble\n",
       "- Ellipsoid: WGS 84\n",
       "- Prime Meridian: Greenwich"
      ]
     },
     "execution_count": 68,
     "metadata": {},
     "output_type": "execute_result"
    }
   ],
   "source": [
    "stations_2017.crs"
   ]
  },
  {
   "cell_type": "code",
   "execution_count": 69,
   "metadata": {},
   "outputs": [],
   "source": [
    "# A station can have many observations, therefore many different points on top of eachother for the same station\n",
    "# This can be used to create a heatmap that shows where most observations are made\n",
    "stations_2017.loc[stations_2017.day == 92].to_file(os.path.join(output_folder, \"stations_day_92.geojson\"), driver='GeoJSON')"
   ]
  }
 ],
 "metadata": {
  "kernelspec": {
   "display_name": "pep725",
   "language": "python",
   "name": "python3"
  },
  "language_info": {
   "codemirror_mode": {
    "name": "ipython",
    "version": 3
   },
   "file_extension": ".py",
   "mimetype": "text/x-python",
   "name": "python",
   "nbconvert_exporter": "python",
   "pygments_lexer": "ipython3",
   "version": "3.10.6"
  },
  "orig_nbformat": 4,
  "vscode": {
   "interpreter": {
    "hash": "87013bfe7793781dd931ded083f6d345173d317406dd371cb864879c5f49f73e"
   }
  }
 },
 "nbformat": 4,
 "nbformat_minor": 2
}
