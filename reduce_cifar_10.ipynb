{
 "cells": [
  {
   "cell_type": "code",
   "execution_count": null,
   "metadata": {},
   "outputs": [],
   "source": [
    "# Reducing dataset for quicker testing\n",
    "\n",
    "# Shuffle first (optional)\n",
    "idx_train = np.arange(len(x_train))\n",
    "idx_test = np.arange(len(x_test))\n",
    "np.random.shuffle(idx)\n",
    "\n",
    "# Perc adds the percentage of the samples from the full dataset\n",
    "perc = .10\n",
    "subset_x_train = x_train[:int(perc*len(idx_train))]\n",
    "subset_y_train = y_train[:int(perc*len(idx_train))]\n",
    "\n",
    "subset_x_test = x_test[:int(perc*len(idx_test))]\n",
    "subset_y_test = y_test[:int(perc*len(idx_test))]\n",
    "\n",
    "print(f\"subset_x_train shape: {subset_x_train.shape} - subset_y_train shape: {subset_y_train.shape}\")\n",
    "print(f\"subset_x_test shape: {subset_x_test.shape} - subset_y_test shape: {subset_y_test.shape}\")"
   ]
  }
 ],
 "metadata": {
  "language_info": {
   "name": "python"
  },
  "orig_nbformat": 4
 },
 "nbformat": 4,
 "nbformat_minor": 2
}
