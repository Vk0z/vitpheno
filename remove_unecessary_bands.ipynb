{
 "cells": [
  {
   "cell_type": "code",
   "execution_count": 19,
   "metadata": {},
   "outputs": [],
   "source": [
    "import os\n",
    "import rasterio\n",
    "import numpy as np\n",
    "\n",
    "# Input directory containing subfolders with TIFF images\n",
    "input_directory = r\"C:\\Users\\Kostas\\Desktop\\GIMA\\Module_7\\Data\\filtered_patches_GEE\"\n",
    "\n",
    "# Output directory to save the modified TIFF images\n",
    "output_directory = r\"C:\\Users\\Kostas\\Desktop\\GIMA\\Module_7\\Data\\filtered_patches_GEE_3_bands\"\n",
    "\n",
    "# Iterate over the subfolders and files in the input directory\n",
    "for root, dirs, files in os.walk(input_directory):\n",
    "    for file in files:\n",
    "        if file.endswith('.tif'):\n",
    "            # Construct the input and output file paths\n",
    "            input_path = os.path.join(root, file)\n",
    "            output_path = os.path.join(output_directory, os.path.relpath(root, input_directory), os.path.splitext(file)[0] + '.png')\n",
    "            \n",
    "            # Create the output directory if it doesn't exist\n",
    "            os.makedirs(os.path.dirname(output_path), exist_ok=True)\n",
    "            \n",
    "            # Open the input TIFF file\n",
    "            with rasterio.open(input_path) as src:\n",
    "                # Read the desired bands (e.g., bands 1, 2, and 3)\n",
    "                bands = src.read([2, 3, 4])\n",
    "                \n",
    "                # Copy the metadata from the source dataset\n",
    "                meta = src.meta\n",
    "                \n",
    "                # Normalize the pixel values between 0 and 255\n",
    "                bands = np.interp(bands, (bands.min(), bands.max()), (0, 255)).astype(np.uint8)\n",
    "                \n",
    "                # Write the modified bands to the output TIFF file\n",
    "                with rasterio.open(output_path, 'w', driver='PNG', count=3, width=bands.shape[2], height=bands.shape[1], dtype='uint8',) as dst:\n",
    "                    dst.write(bands)"
   ]
  },
  {
   "cell_type": "code",
   "execution_count": 6,
   "metadata": {},
   "outputs": [],
   "source": [
    "im = r\"C:\\Users\\Kostas\\Desktop\\GIMA\\Module_7\\Data\\filtered_patches_GEE_3_bands\\11\\sentinel2_images_mean_2019-04-01_to_2019-05-01-0000000000-0000000000index_49410_station_110_label_DBL_phase_id_11.png\"\n",
    "from rasterio.plot import show\n"
   ]
  },
  {
   "cell_type": "code",
   "execution_count": 8,
   "metadata": {},
   "outputs": [
    {
     "name": "stdout",
     "output_type": "stream",
     "text": [
      "3\n"
     ]
    },
    {
     "data": {
      "image/png": "[encoded data removed]",
      "text/plain": [
       "<Figure size 432x288 with 1 Axes>"
      ]
     },
     "metadata": {
      "needs_background": "light"
     },
     "output_type": "display_data"
    }
   ],
   "source": [
    "with rasterio.open(im) as src:\n",
    "    print(src.count)\n",
    "    show(src)"
   ]
  }
 ],
 "metadata": {
  "kernelspec": {
   "display_name": "pep725",
   "language": "python",
   "name": "python3"
  },
  "language_info": {
   "codemirror_mode": {
    "name": "ipython",
    "version": 3
   },
   "file_extension": ".py",
   "mimetype": "text/x-python",
   "name": "python",
   "nbconvert_exporter": "python",
   "pygments_lexer": "ipython3",
   "version": "3.10.6"
  },
  "orig_nbformat": 4
 },
 "nbformat": 4,
 "nbformat_minor": 2
}
