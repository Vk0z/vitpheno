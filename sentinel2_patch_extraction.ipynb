{
 "cells": [
  {
   "attachments": {},
   "cell_type": "markdown",
   "metadata": {},
   "source": [
    "## Cleaning up the code\n",
    "\n",
    "**Inputs**\n",
    "- parent directory of a S2 image (.SAFE folder)\n",
    "- `envelope_gdf` (for now I will also include the code to go from buffer to envelope here)"
   ]
  },
  {
   "cell_type": "code",
   "execution_count": 70,
   "metadata": {},
   "outputs": [],
   "source": [
    "# Imports. To be cleaned as well\n",
    "\n",
    "import pandas as pd\n",
    "from matplotlib import pyplot as plt\n",
    "from shapely.geometry import box\n",
    "import rasterio\n",
    "from rasterio.plot import show\n",
    "from rasterio.mask import mask\n",
    "from rasterio.coords import BoundingBox\n",
    "from rasterio.features import geometry_mask\n",
    "import json\n",
    "import geopandas as gpd\n",
    "import numpy as np\n",
    "import glob\n",
    "path = r'C:\\Users\\Kostas\\Downloads\\S2A_MSIL2A_20170420T103021_N0204_R108_T32UNB_20170420T103454.SAFE\\GRANULE\\L2A_T32UNB_A009543_20170420T103454\\IMG_DATA\\R10m\\L2A_T32UNB_20170420T103021_B02_10m.jp2'"
   ]
  },
  {
   "cell_type": "markdown",
   "metadata": {},
   "source": [
    "### ------------ Buffer to envelope -----------------"
   ]
  },
  {
   "cell_type": "code",
   "execution_count": 2,
   "metadata": {},
   "outputs": [],
   "source": [
    "# Read buffer file\n",
    "buffers = gpd.read_file(r'C:\\Users\\Kostas\\Desktop\\GIMA\\Module_7\\Data\\PEP725\\After_2016_sent_from_PEP725\\pep725_outputs\\pep725_high_count_days\\buffers_day_92.geojson')\n",
    "# Set crs because by default GeoPandas loads it in 4326, whereas it is actually 32632\n",
    "buffers.set_crs(32632, inplace=True, allow_override=True)\n",
    "\n",
    "# Create envelopes for the buffers\n",
    "envelope_series = buffers.geometry.envelope\n",
    "envelope_series.rename('envelope_geometry', inplace=True)\n",
    "envelope_gdf = buffers.merge(envelope_series, left_index=True, right_index=True)\n",
    "envelope_gdf = envelope_gdf.drop(['geometry'], axis=1).set_geometry('envelope_geometry').rename_geometry('geometry')\n"
   ]
  },
  {
   "attachments": {},
   "cell_type": "markdown",
   "metadata": {},
   "source": [
    "## Define functions to be used"
   ]
  },
  {
   "cell_type": "code",
   "execution_count": 3,
   "metadata": {},
   "outputs": [],
   "source": [
    "\"\"\"Function to parse features from GeoDataFrame in such a manner that rasterio wants them\"\"\"\n",
    "\n",
    "def getFeatures(gdf):\n",
    "        return [json.loads(gdf.to_json())['features'][0]['geometry']]"
   ]
  },
  {
   "cell_type": "code",
   "execution_count": 4,
   "metadata": {},
   "outputs": [],
   "source": [
    "\"\"\"\n",
    "Function to clip a GeoDataFrame to the extent of the raster. Can be used for each input image.\n",
    "\n",
    "It should be changed for something better for better operation. Instead of clipping it should just check if the \n",
    "polygon is inside the raster's bounds and just parse it for later processing4\n",
    "\n",
    "\"\"\"\n",
    "\n",
    "def clipGdfToRasterExtent (raster, envelope_gdf):\n",
    "    with rasterio.open(path, driver='JP2OpenJPEG') as src:\n",
    "        # Get the extent of the raster\n",
    "        minx, miny, maxx, maxy = src.bounds\n",
    "    # NEED TO ADD A CHECKING CLAUSE FOR THE POLYGONS INTERSECTING THE BBOX\n",
    "    # Clip the geodataframe to the raster's extent\n",
    "    clipped_gdf = envelope_gdf.cx[minx:maxx, miny:maxy]\n",
    "    return clipped_gdf"
   ]
  },
  {
   "cell_type": "code",
   "execution_count": 23,
   "metadata": {},
   "outputs": [],
   "source": [
    "envelope_list = envelope_gdf.geometry.tolist()\n",
    "# This function returns 4 lists with the boundary coordinates for all the envelopes that are fully contained inside the raster\n",
    "def getContainedEnvelopeCoords (raster, envelope_list):\n",
    "    with rasterio.open(raster, driver='JP2OpenJPEG') as src:\n",
    "        raster_extent = src.bounds\n",
    "        \n",
    "        # List initialization\n",
    "        minx_list = []\n",
    "        miny_list = []\n",
    "        maxx_list = []\n",
    "        maxy_list = []\n",
    "\n",
    "        for poly in envelope_list:\n",
    "            poly_extent = poly.bounds\n",
    "\n",
    "            # Check if the polygon is fully inside the raster's extent\n",
    "            if (poly_extent[0] >= raster_extent[0] and poly_extent[2] <= raster_extent[2] and\n",
    "                poly_extent[1] >= raster_extent[1] and poly_extent[3] <= raster_extent[3]):\n",
    "                    minx_list.append(poly_extent[0])\n",
    "                    miny_list.append(poly_extent[1])\n",
    "                    maxx_list.append(poly_extent[2])\n",
    "                    maxy_list.append(poly_extent[3])\n",
    "    return minx_list, miny_list, maxx_list, maxy_list\n",
    "        "
   ]
  },
  {
   "cell_type": "code",
   "execution_count": 71,
   "metadata": {},
   "outputs": [
    {
     "data": {
      "text/plain": [
       "([520620.88516150205,\n",
       "  508887.20875286614,\n",
       "  520620.88516150205,\n",
       "  567007.8019472725,\n",
       "  567007.8019472725,\n",
       "  567007.8019472725,\n",
       "  567007.8019472725,\n",
       "  524047.6961643037,\n",
       "  524047.6961643037,\n",
       "  545259.0800683108,\n",
       "  537844.6872455521,\n",
       "  531954.8913185342,\n",
       "  533342.9367736209,\n",
       "  561467.27803387,\n",
       "  561467.27803387,\n",
       "  567007.8019472725,\n",
       "  574048.1890862663,\n",
       "  574048.1890862663,\n",
       "  571197.1618716692,\n",
       "  597613.292462825,\n",
       "  589219.6919495184,\n",
       "  591235.3631517714,\n",
       "  594549.8695369575,\n",
       "  588849.6587444162],\n",
       " [5632905.883139743,\n",
       "  5636577.684090835,\n",
       "  5632905.883139743,\n",
       "  5670414.32356202,\n",
       "  5670414.32356202,\n",
       "  5670414.32356202,\n",
       "  5670414.32356202,\n",
       "  5649604.107434307,\n",
       "  5649604.107434307,\n",
       "  5631235.007194815,\n",
       "  5677500.639855889,\n",
       "  5688577.367889653,\n",
       "  5657080.622760171,\n",
       "  5648096.4984890465,\n",
       "  5648096.4984890465,\n",
       "  5670414.32356202,\n",
       "  5666801.50816187,\n",
       "  5666801.50816187,\n",
       "  5622269.831121929,\n",
       "  5593063.380033754,\n",
       "  5665207.792951369,\n",
       "  5618893.456633982,\n",
       "  5691260.201474799,\n",
       "  5685591.159687021],\n",
       " [528620.885161502,\n",
       "  516887.20875286614,\n",
       "  528620.885161502,\n",
       "  575007.8019472725,\n",
       "  575007.8019472725,\n",
       "  575007.8019472725,\n",
       "  575007.8019472725,\n",
       "  532047.6961643037,\n",
       "  532047.6961643037,\n",
       "  553259.0800683108,\n",
       "  545844.6872455521,\n",
       "  539954.8913185342,\n",
       "  541342.9367736209,\n",
       "  569467.27803387,\n",
       "  569467.27803387,\n",
       "  575007.8019472725,\n",
       "  582048.1890862663,\n",
       "  582048.1890862663,\n",
       "  579197.1618716692,\n",
       "  605613.292462825,\n",
       "  597219.6919495184,\n",
       "  599235.3631517714,\n",
       "  602549.8695369575,\n",
       "  596849.6587444162],\n",
       " [5640905.883139743,\n",
       "  5644577.684090835,\n",
       "  5640905.883139743,\n",
       "  5678414.32356202,\n",
       "  5678414.32356202,\n",
       "  5678414.32356202,\n",
       "  5678414.32356202,\n",
       "  5657604.107434307,\n",
       "  5657604.107434307,\n",
       "  5639235.007194815,\n",
       "  5685500.639855889,\n",
       "  5696577.367889653,\n",
       "  5665080.622760171,\n",
       "  5656096.4984890465,\n",
       "  5656096.4984890465,\n",
       "  5678414.32356202,\n",
       "  5674801.50816187,\n",
       "  5674801.50816187,\n",
       "  5630269.831121929,\n",
       "  5601063.380033754,\n",
       "  5673207.792951369,\n",
       "  5626893.456633982,\n",
       "  5699260.201474799,\n",
       "  5693591.159687021])"
      ]
     },
     "execution_count": 71,
     "metadata": {},
     "output_type": "execute_result"
    }
   ],
   "source": [
    "getContainedEnvelopeCoords(path, envelope_list)"
   ]
  },
  {
   "cell_type": "code",
   "execution_count": 5,
   "metadata": {},
   "outputs": [],
   "source": [
    "def export_image(raster, output_path, minx, miny, maxx, maxy):\n",
    "    # open the raster file (Single Band)\n",
    "    data = rasterio.open(raster, driver='JP2OpenJPEG')\n",
    "\n",
    "    # Create a bounding box from the polygon min-max coordinates    \n",
    "    bbox = box(minx, miny, maxx, maxy)\n",
    "    # Create a geodataframe with a single polygon so that it can be used with rasterio\n",
    "    geo = gpd.GeoDataFrame({'geometry': bbox}, index=[0], crs='32632')\n",
    "    # Transform the geodataframe to a GeoJSON-like object that can be used as an input in the rasterio mask function\n",
    "    coords = getFeatures(geo)\n",
    "    #print(coords)\n",
    "    \n",
    "    # Mask and crop the raster AOI where polygon overlaps the whole raster\n",
    "    out_img, out_transform = mask(data, shapes=coords, crop=True)\n",
    "    # Define resolution and more\n",
    "    out_profile = data.profile.copy()\n",
    "    \n",
    "    out_profile.update({'width': out_img.shape[2],'height': out_img.shape[1], 'transform': out_transform})\n",
    "    # Write the extracted raster patch to a file\n",
    "    with rasterio.open(output_path, 'w', **out_profile) as dst:\n",
    "        dst.write(out_img)\n",
    "    \n",
    "    data.close()\n",
    "    data = None"
   ]
  },
  {
   "attachments": {},
   "cell_type": "markdown",
   "metadata": {},
   "source": [
    "## Getting a list of all the band rasters"
   ]
  },
  {
   "cell_type": "code",
   "execution_count": 6,
   "metadata": {},
   "outputs": [
    {
     "name": "stdout",
     "output_type": "stream",
     "text": [
      "['C:\\\\Users\\\\Kostas\\\\Downloads\\\\S2A_MSIL2A_20170420T103021_N0204_R108_T32UNB_20170420T103454.SAFE\\\\GRANULE\\\\L2A_T32UNB_A009543_20170420T103454\\\\IMG_DATA\\\\R10m\\\\L2A_T32UNB_20170420T103021_B02_10m.jp2', 'C:\\\\Users\\\\Kostas\\\\Downloads\\\\S2A_MSIL2A_20170420T103021_N0204_R108_T32UNB_20170420T103454.SAFE\\\\GRANULE\\\\L2A_T32UNB_A009543_20170420T103454\\\\IMG_DATA\\\\R10m\\\\L2A_T32UNB_20170420T103021_B03_10m.jp2', 'C:\\\\Users\\\\Kostas\\\\Downloads\\\\S2A_MSIL2A_20170420T103021_N0204_R108_T32UNB_20170420T103454.SAFE\\\\GRANULE\\\\L2A_T32UNB_A009543_20170420T103454\\\\IMG_DATA\\\\R10m\\\\L2A_T32UNB_20170420T103021_B04_10m.jp2', 'C:\\\\Users\\\\Kostas\\\\Downloads\\\\S2A_MSIL2A_20170420T103021_N0204_R108_T32UNB_20170420T103454.SAFE\\\\GRANULE\\\\L2A_T32UNB_A009543_20170420T103454\\\\IMG_DATA\\\\R10m\\\\L2A_T32UNB_20170420T103021_B08_10m.jp2', 'C:\\\\Users\\\\Kostas\\\\Downloads\\\\S2A_MSIL2A_20170420T103021_N0204_R108_T32UNB_20170420T103454.SAFE\\\\GRANULE\\\\L2A_T32UNB_A009543_20170420T103454\\\\IMG_DATA\\\\R20m\\\\L2A_T32UNB_20170420T103021_B02_20m.jp2', 'C:\\\\Users\\\\Kostas\\\\Downloads\\\\S2A_MSIL2A_20170420T103021_N0204_R108_T32UNB_20170420T103454.SAFE\\\\GRANULE\\\\L2A_T32UNB_A009543_20170420T103454\\\\IMG_DATA\\\\R20m\\\\L2A_T32UNB_20170420T103021_B03_20m.jp2', 'C:\\\\Users\\\\Kostas\\\\Downloads\\\\S2A_MSIL2A_20170420T103021_N0204_R108_T32UNB_20170420T103454.SAFE\\\\GRANULE\\\\L2A_T32UNB_A009543_20170420T103454\\\\IMG_DATA\\\\R20m\\\\L2A_T32UNB_20170420T103021_B04_20m.jp2', 'C:\\\\Users\\\\Kostas\\\\Downloads\\\\S2A_MSIL2A_20170420T103021_N0204_R108_T32UNB_20170420T103454.SAFE\\\\GRANULE\\\\L2A_T32UNB_A009543_20170420T103454\\\\IMG_DATA\\\\R20m\\\\L2A_T32UNB_20170420T103021_B05_20m.jp2', 'C:\\\\Users\\\\Kostas\\\\Downloads\\\\S2A_MSIL2A_20170420T103021_N0204_R108_T32UNB_20170420T103454.SAFE\\\\GRANULE\\\\L2A_T32UNB_A009543_20170420T103454\\\\IMG_DATA\\\\R20m\\\\L2A_T32UNB_20170420T103021_B06_20m.jp2', 'C:\\\\Users\\\\Kostas\\\\Downloads\\\\S2A_MSIL2A_20170420T103021_N0204_R108_T32UNB_20170420T103454.SAFE\\\\GRANULE\\\\L2A_T32UNB_A009543_20170420T103454\\\\IMG_DATA\\\\R20m\\\\L2A_T32UNB_20170420T103021_B07_20m.jp2', 'C:\\\\Users\\\\Kostas\\\\Downloads\\\\S2A_MSIL2A_20170420T103021_N0204_R108_T32UNB_20170420T103454.SAFE\\\\GRANULE\\\\L2A_T32UNB_A009543_20170420T103454\\\\IMG_DATA\\\\R20m\\\\L2A_T32UNB_20170420T103021_B11_20m.jp2', 'C:\\\\Users\\\\Kostas\\\\Downloads\\\\S2A_MSIL2A_20170420T103021_N0204_R108_T32UNB_20170420T103454.SAFE\\\\GRANULE\\\\L2A_T32UNB_A009543_20170420T103454\\\\IMG_DATA\\\\R20m\\\\L2A_T32UNB_20170420T103021_B12_20m.jp2', 'C:\\\\Users\\\\Kostas\\\\Downloads\\\\S2A_MSIL2A_20170420T103021_N0204_R108_T32UNB_20170420T103454.SAFE\\\\GRANULE\\\\L2A_T32UNB_A009543_20170420T103454\\\\IMG_DATA\\\\R20m\\\\L2A_T32UNB_20170420T103021_B8A_20m.jp2', 'C:\\\\Users\\\\Kostas\\\\Downloads\\\\S2A_MSIL2A_20170420T103021_N0204_R108_T32UNB_20170420T103454.SAFE\\\\GRANULE\\\\L2A_T32UNB_A009543_20170420T103454\\\\IMG_DATA\\\\R60m\\\\L2A_T32UNB_20170420T103021_B01_60m.jp2', 'C:\\\\Users\\\\Kostas\\\\Downloads\\\\S2A_MSIL2A_20170420T103021_N0204_R108_T32UNB_20170420T103454.SAFE\\\\GRANULE\\\\L2A_T32UNB_A009543_20170420T103454\\\\IMG_DATA\\\\R60m\\\\L2A_T32UNB_20170420T103021_B02_60m.jp2', 'C:\\\\Users\\\\Kostas\\\\Downloads\\\\S2A_MSIL2A_20170420T103021_N0204_R108_T32UNB_20170420T103454.SAFE\\\\GRANULE\\\\L2A_T32UNB_A009543_20170420T103454\\\\IMG_DATA\\\\R60m\\\\L2A_T32UNB_20170420T103021_B03_60m.jp2', 'C:\\\\Users\\\\Kostas\\\\Downloads\\\\S2A_MSIL2A_20170420T103021_N0204_R108_T32UNB_20170420T103454.SAFE\\\\GRANULE\\\\L2A_T32UNB_A009543_20170420T103454\\\\IMG_DATA\\\\R60m\\\\L2A_T32UNB_20170420T103021_B04_60m.jp2', 'C:\\\\Users\\\\Kostas\\\\Downloads\\\\S2A_MSIL2A_20170420T103021_N0204_R108_T32UNB_20170420T103454.SAFE\\\\GRANULE\\\\L2A_T32UNB_A009543_20170420T103454\\\\IMG_DATA\\\\R60m\\\\L2A_T32UNB_20170420T103021_B05_60m.jp2', 'C:\\\\Users\\\\Kostas\\\\Downloads\\\\S2A_MSIL2A_20170420T103021_N0204_R108_T32UNB_20170420T103454.SAFE\\\\GRANULE\\\\L2A_T32UNB_A009543_20170420T103454\\\\IMG_DATA\\\\R60m\\\\L2A_T32UNB_20170420T103021_B06_60m.jp2', 'C:\\\\Users\\\\Kostas\\\\Downloads\\\\S2A_MSIL2A_20170420T103021_N0204_R108_T32UNB_20170420T103454.SAFE\\\\GRANULE\\\\L2A_T32UNB_A009543_20170420T103454\\\\IMG_DATA\\\\R60m\\\\L2A_T32UNB_20170420T103021_B07_60m.jp2', 'C:\\\\Users\\\\Kostas\\\\Downloads\\\\S2A_MSIL2A_20170420T103021_N0204_R108_T32UNB_20170420T103454.SAFE\\\\GRANULE\\\\L2A_T32UNB_A009543_20170420T103454\\\\IMG_DATA\\\\R60m\\\\L2A_T32UNB_20170420T103021_B09_60m.jp2', 'C:\\\\Users\\\\Kostas\\\\Downloads\\\\S2A_MSIL2A_20170420T103021_N0204_R108_T32UNB_20170420T103454.SAFE\\\\GRANULE\\\\L2A_T32UNB_A009543_20170420T103454\\\\IMG_DATA\\\\R60m\\\\L2A_T32UNB_20170420T103021_B11_60m.jp2', 'C:\\\\Users\\\\Kostas\\\\Downloads\\\\S2A_MSIL2A_20170420T103021_N0204_R108_T32UNB_20170420T103454.SAFE\\\\GRANULE\\\\L2A_T32UNB_A009543_20170420T103454\\\\IMG_DATA\\\\R60m\\\\L2A_T32UNB_20170420T103021_B12_60m.jp2', 'C:\\\\Users\\\\Kostas\\\\Downloads\\\\S2A_MSIL2A_20170420T103021_N0204_R108_T32UNB_20170420T103454.SAFE\\\\GRANULE\\\\L2A_T32UNB_A009543_20170420T103454\\\\IMG_DATA\\\\R60m\\\\L2A_T32UNB_20170420T103021_B8A_60m.jp2']\n"
     ]
    }
   ],
   "source": [
    "# Make a list of all .jp2 files\n",
    "# Maybe this has an error. will check later\n",
    "\n",
    "dirr = r'C:\\Users\\Kostas\\Downloads\\S2A_MSIL2A_20170420T103021_N0204_R108_T32UNB_20170420T103454.SAFE'\n",
    "# This will provide all .jp2 files in every subfolder of the dirr\n",
    "#jp2_files = glob.glob(dirr+\"/**/*.jp2\", recursive=True) \n",
    "\n",
    "# This will do it for just the bands 01-12. Other products are omitted\n",
    "jp2_files = glob.glob(dirr+'/**/IMG_DATA/**/R??m/*B??_??m.jp2', recursive=True)\n",
    "print(jp2_files)"
   ]
  },
  {
   "attachments": {},
   "cell_type": "markdown",
   "metadata": {},
   "source": [
    "## Patch extraction. One band only."
   ]
  },
  {
   "cell_type": "code",
   "execution_count": null,
   "metadata": {},
   "outputs": [],
   "source": [
    "clipped_gdf = clipGdfToRasterExtent(path, envelope_gdf)\n",
    "#clipped_gdf.plot()"
   ]
  },
  {
   "attachments": {},
   "cell_type": "markdown",
   "metadata": {},
   "source": [
    "Using string methods for naming the patches"
   ]
  },
  {
   "cell_type": "code",
   "execution_count": 79,
   "metadata": {},
   "outputs": [],
   "source": [
    "# Using the split() method. It splits the string wherever an underscore appears and then accesses the second-to-last element.\n",
    "\n",
    "# Consider adding a checking clause to check if it is in b02, b03 etc....\n",
    "def imageNaming(raster_path):\n",
    "    string_parts = raster_path.split(\"_\")\n",
    "    band_string = string_parts[-3]+ \"_\" + string_parts[-2]\n",
    "    return band_string"
   ]
  },
  {
   "cell_type": "code",
   "execution_count": null,
   "metadata": {},
   "outputs": [],
   "source": [
    "# CORRECT\n",
    "for i in range(0, len(jp2_files)):\n",
    "    string_parts = jp2_files[i].split(\"_\")\n",
    "    band_string = string_parts[-3]+ \"_\" + string_parts[-2]+ \"_\" + string_parts[-1]\n",
    "    print(band_string)"
   ]
  },
  {
   "cell_type": "code",
   "execution_count": 54,
   "metadata": {},
   "outputs": [
    {
     "name": "stdout",
     "output_type": "stream",
     "text": [
      "20170420T103021_B02_10m.jp2\n",
      "20170420T103021_B03_10m.jp2\n",
      "20170420T103021_B04_10m.jp2\n",
      "20170420T103021_B08_10m.jp2\n",
      "20170420T103021_B02_20m.jp2\n",
      "20170420T103021_B03_20m.jp2\n",
      "20170420T103021_B04_20m.jp2\n",
      "20170420T103021_B05_20m.jp2\n",
      "20170420T103021_B06_20m.jp2\n",
      "20170420T103021_B07_20m.jp2\n",
      "20170420T103021_B11_20m.jp2\n",
      "20170420T103021_B12_20m.jp2\n",
      "20170420T103021_B8A_20m.jp2\n",
      "20170420T103021_B01_60m.jp2\n",
      "20170420T103021_B02_60m.jp2\n",
      "20170420T103021_B03_60m.jp2\n",
      "20170420T103021_B04_60m.jp2\n",
      "20170420T103021_B05_60m.jp2\n",
      "20170420T103021_B06_60m.jp2\n",
      "20170420T103021_B07_60m.jp2\n",
      "20170420T103021_B09_60m.jp2\n",
      "20170420T103021_B11_60m.jp2\n",
      "20170420T103021_B12_60m.jp2\n",
      "20170420T103021_B8A_60m.jp2\n"
     ]
    }
   ],
   "source": [
    "for i in range(0, len(jp2_files)):\n",
    "        string_parts = jp2_files[i].split(\"_\")\n",
    "        band_string = string_parts[-3] + \"_\" + string_parts[-2] + \"_\" + string_parts[-1]\n",
    "        print(band_string)"
   ]
  },
  {
   "cell_type": "code",
   "execution_count": 21,
   "metadata": {},
   "outputs": [
    {
     "ename": "NameError",
     "evalue": "name 'clipped_gdf' is not defined",
     "output_type": "error",
     "traceback": [
      "\u001b[1;31m---------------------------------------------------------------------------\u001b[0m",
      "\u001b[1;31mNameError\u001b[0m                                 Traceback (most recent call last)",
      "\u001b[1;32mc:\\Users\\Kostas\\Documents\\GitHub\\vitpheno\\sentinel2_patch_extraction.ipynb Cell 16\u001b[0m in \u001b[0;36m<cell line: 4>\u001b[1;34m()\u001b[0m\n\u001b[0;32m      <a href='vscode-notebook-cell:/c%3A/Users/Kostas/Documents/GitHub/vitpheno/sentinel2_patch_extraction.ipynb#X21sZmlsZQ%3D%3D?line=0'>1</a>\u001b[0m output_path \u001b[39m=\u001b[39m \u001b[39mr\u001b[39m\u001b[39m'\u001b[39m\u001b[39mC:\u001b[39m\u001b[39m\\\u001b[39m\u001b[39mUsers\u001b[39m\u001b[39m\\\u001b[39m\u001b[39mKostas\u001b[39m\u001b[39m\\\u001b[39m\u001b[39mDesktop\u001b[39m\u001b[39m\\\u001b[39m\u001b[39mGIMA\u001b[39m\u001b[39m\\\u001b[39m\u001b[39mModule_7\u001b[39m\u001b[39m\\\u001b[39m\u001b[39mData\u001b[39m\u001b[39m\\\u001b[39m\u001b[39mPEP725\u001b[39m\u001b[39m\\\u001b[39m\u001b[39mAfter_2016_sent_from_PEP725\u001b[39m\u001b[39m\\\u001b[39m\u001b[39mpep725_outputs\u001b[39m\u001b[39m\\\u001b[39m\u001b[39mpep725_high_count_days\u001b[39m\u001b[39m\\\u001b[39m\u001b[39mrasters\u001b[39m\u001b[39m'\u001b[39m\n\u001b[0;32m      <a href='vscode-notebook-cell:/c%3A/Users/Kostas/Documents/GitHub/vitpheno/sentinel2_patch_extraction.ipynb#X21sZmlsZQ%3D%3D?line=2'>3</a>\u001b[0m \u001b[39m# Get the boundaries in minx, miny, maxx, maxy and convert them to a list\u001b[39;00m\n\u001b[1;32m----> <a href='vscode-notebook-cell:/c%3A/Users/Kostas/Documents/GitHub/vitpheno/sentinel2_patch_extraction.ipynb#X21sZmlsZQ%3D%3D?line=3'>4</a>\u001b[0m bounds \u001b[39m=\u001b[39m clipped_gdf\u001b[39m.\u001b[39mgeometry\u001b[39m.\u001b[39mapply(\u001b[39mlambda\u001b[39;00m x : x\u001b[39m.\u001b[39mbounds)\u001b[39m.\u001b[39mtolist()\n",
      "\u001b[1;31mNameError\u001b[0m: name 'clipped_gdf' is not defined"
     ]
    }
   ],
   "source": [
    "output_path = r'C:\\Users\\Kostas\\Desktop\\GIMA\\Module_7\\Data\\PEP725\\After_2016_sent_from_PEP725\\pep725_outputs\\pep725_high_count_days\\rasters'\n",
    "\n",
    "# Get the boundaries in minx, miny, maxx, maxy and convert them to a list\n",
    "# bounds = clipped_gdf.geometry.apply(lambda x : x.bounds).tolist()"
   ]
  },
  {
   "cell_type": "code",
   "execution_count": 85,
   "metadata": {},
   "outputs": [
    {
     "name": "stdout",
     "output_type": "stream",
     "text": [
      "Polygons to be extracted: 454 \n",
      "\n",
      "Creating images around PEP725 stations for the file: 20170420T103021_B02.jp2\n"
     ]
    }
   ],
   "source": [
    "# Need to add a print statement that shows how many polygons are contained\n",
    "\n",
    "# Read each raster file from the jp2_files list\n",
    "for raster in range(0, len(jp2_files)):\n",
    "\n",
    "    # Get the 4 lists of the minx, miny, maxx, maxy for the polygons fully contained in the raster\n",
    "    minx_list, miny_list, maxx_list, maxy_list = getContainedEnvelopeCoords(jp2_files[raster], envelope_list)\n",
    "    \n",
    "    # Get just the name of the raster (Date_Time_Band) to use it in naming the extracted images\n",
    "    raster_name = imageNaming(jp2_files[raster])\n",
    "    print(\"Creating images around PEP725 stations for the file:\", raster_name + \".jp2\")\n",
    "\n",
    "    # Now, for the raster at hand, iterate over each polygon and call the export_image function to extract a patch for each polygon\n",
    "    for i in range(0, len(minx_list)):\n",
    "        # Name the patch\n",
    "        output_file_name = os.path.join(output_path, raster_name + f\"_Patch_{i+1}.jp2\")\n",
    "        # Extract it\n",
    "        export_image(jp2_files[raster], output_file_name, minx_list[i], miny_list[i], maxx_list[i], maxy_list[i])"
   ]
  }
 ],
 "metadata": {
  "kernelspec": {
   "display_name": "pep725",
   "language": "python",
   "name": "python3"
  },
  "language_info": {
   "codemirror_mode": {
    "name": "ipython",
    "version": 3
   },
   "file_extension": ".py",
   "mimetype": "text/x-python",
   "name": "python",
   "nbconvert_exporter": "python",
   "pygments_lexer": "ipython3",
   "version": "3.10.6"
  },
  "orig_nbformat": 4,
  "vscode": {
   "interpreter": {
    "hash": "87013bfe7793781dd931ded083f6d345173d317406dd371cb864879c5f49f73e"
   }
  }
 },
 "nbformat": 4,
 "nbformat_minor": 2
}
