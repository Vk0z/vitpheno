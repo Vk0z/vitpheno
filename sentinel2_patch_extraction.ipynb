{
 "cells": [
  {
   "attachments": {},
   "cell_type": "markdown",
   "metadata": {},
   "source": [
    "# Sentinel-2 Data Preprocessing\n",
    "## Clipping Sentinel-2 Images around PEP725 Stations\n",
    "\n",
    "**Inputs**\n",
    "- parent directory of a S2 image (.SAFE folder)\n",
    "- `envelope_gdf` (for now I will also include the code to go from buffer to envelope here)\n",
    "\n",
    "## TODO\n",
    "- Make the code iterate over different folders. Currently it accesses just a single satellite image\n",
    "- Look into making the code work without extracting the .zip file of the satellite image. If not, try Extract .zip folder --> Clip patches --> Delete extracted folder.\n",
    "- Think about converting the extracted patches to another format, as .jp2 may not be suitable for a training dataset\n",
    "- Find a way to link elements of the GeoDataFrame with the extracted patch to include them as labels such as the class DBL, EC, M"
   ]
  },
  {
   "cell_type": "code",
   "execution_count": 1,
   "metadata": {},
   "outputs": [],
   "source": [
    "# Imports. To be cleaned as well\n",
    "\n",
    "import pandas as pd\n",
    "import geopandas as gpd\n",
    "from matplotlib import pyplot as plt\n",
    "from shapely.geometry import box\n",
    "import rasterio\n",
    "from rasterio.plot import show\n",
    "from rasterio.mask import mask\n",
    "from rasterio.coords import BoundingBox\n",
    "from rasterio.features import geometry_mask\n",
    "import json\n",
    "import numpy as np\n",
    "import glob\n",
    "import os\n",
    "from rasterio.windows import from_bounds\n",
    "import pathlib\n",
    "path = r'C:\\Users\\Kostas\\Downloads\\S2A_MSIL2A_20170420T103021_N0204_R108_T32UNB_20170420T103454.SAFE\\GRANULE\\L2A_T32UNB_A009543_20170420T103454\\IMG_DATA\\R10m\\L2A_T32UNB_20170420T103021_B02_10m.jp2'"
   ]
  },
  {
   "cell_type": "markdown",
   "metadata": {},
   "source": [
    "### ------------ Buffer to envelope -----------------"
   ]
  },
  {
   "cell_type": "code",
   "execution_count": 20,
   "metadata": {},
   "outputs": [],
   "source": [
    "# Read buffer file\n",
    "buffers = gpd.read_file(r'C:\\Users\\Kostas\\Desktop\\GIMA\\Module_7\\Data\\PEP725\\After_2016_sent_from_PEP725\\pep725_outputs\\pep725_high_count_days\\buffers_day_92.geojson')\n",
    "# Set crs because by default GeoPandas loads it in 4326, whereas it is actually 32632\n",
    "buffers.set_crs(32632, inplace=True, allow_override=True)\n",
    "\n",
    "# Create envelopes for the buffers\n",
    "envelope_series = buffers.geometry.envelope\n",
    "envelope_series.rename('envelope_geometry', inplace=True)\n",
    "envelope_gdf = buffers.merge(envelope_series, left_index=True, right_index=True)\n",
    "envelope_gdf = envelope_gdf.drop(['geometry'], axis=1).set_geometry('envelope_geometry').rename_geometry('geometry')\n",
    "\n",
    "# Change the envelope to a list to use it later\n",
    "envelope_list = envelope_gdf.geometry.tolist()\n",
    "# Creating a list of tuples that will be used to preserve the indexing information of the GeoDataFrame.\n",
    "# This may be of use later, to get information from the GeoDataFrame and put it in the image, e.g., a label such as the class (DBL, EC, M).\n",
    "envelope_list_with_index = []\n",
    "for index, row in envelope_gdf.iterrows():\n",
    "    envelope_list_with_index.append((index, row['geometry']))\n"
   ]
  },
  {
   "attachments": {},
   "cell_type": "markdown",
   "metadata": {},
   "source": [
    "## Define functions to be used"
   ]
  },
  {
   "cell_type": "code",
   "execution_count": 33,
   "metadata": {},
   "outputs": [],
   "source": [
    "\"\"\"Function to parse features from GeoDataFrame in such a manner that rasterio wants them\"\"\"\n",
    "\n",
    "def getFeatures(gdf):\n",
    "        return [json.loads(gdf.to_json())['features'][0]['geometry']]"
   ]
  },
  {
   "cell_type": "code",
   "execution_count": 17,
   "metadata": {},
   "outputs": [],
   "source": [
    "'''\n",
    "This function reads the envelope list and a raster, checks if the polygons are fully contained in the raster \n",
    "and returns 4 lists with the boundary coordinates for all the envelopes that are fully contained in the raster.\n",
    "'''\n",
    "\n",
    "def getContainedEnvelopeCoords (raster, envelope_list):\n",
    "    with rasterio.open(raster, driver='JP2OpenJPEG') as src:\n",
    "        raster_extent = src.bounds\n",
    "        \n",
    "        # List initialization\n",
    "        minx_list = []\n",
    "        miny_list = []\n",
    "        maxx_list = []\n",
    "        maxy_list = []\n",
    "\n",
    "        for poly in envelope_list:\n",
    "            poly_extent = poly.bounds\n",
    "\n",
    "            # Check if the polygon is fully inside the raster's extent\n",
    "            if (poly_extent[0] >= raster_extent[0] and poly_extent[2] <= raster_extent[2] and\n",
    "                poly_extent[1] >= raster_extent[1] and poly_extent[3] <= raster_extent[3]):\n",
    "                    minx_list.append(poly_extent[0])\n",
    "                    miny_list.append(poly_extent[1])\n",
    "                    maxx_list.append(poly_extent[2])\n",
    "                    maxy_list.append(poly_extent[3])\n",
    "    return minx_list, miny_list, maxx_list, maxy_list"
   ]
  },
  {
   "cell_type": "code",
   "execution_count": 29,
   "metadata": {},
   "outputs": [],
   "source": [
    "'''\n",
    "This function receives a raster file (.jp2) and the boundary coordinates for a polygon. \n",
    "It then clips the raster to the extent of the polygon. \n",
    "The polygon has to intersect the raster for the operation to be completed\n",
    "'''\n",
    "\n",
    "def exportImage(raster, output_path, minx, miny, maxx, maxy):\n",
    "    # open the raster file (Single Band)\n",
    "    data = rasterio.open(raster, driver='JP2OpenJPEG')\n",
    "\n",
    "    # Create a bounding box from the polygon min-max coordinates    \n",
    "    bbox = box(minx, miny, maxx, maxy)\n",
    "    # Create a geodataframe with a single polygon so that it can be used with rasterio\n",
    "    geo = gpd.GeoDataFrame({'geometry': bbox}, index=[0], crs='32632')\n",
    "    # Transform the geodataframe to a GeoJSON-like object that can be used as an input in the rasterio mask function\n",
    "    coords = getFeatures(geo)\n",
    "    #print(coords)\n",
    "    \n",
    "    # Mask and crop the raster AOI where polygon overlaps the whole raster\n",
    "    out_img, out_transform = mask(data, shapes=coords, crop=True)\n",
    "    # Define resolution and more\n",
    "    out_profile = data.profile.copy()\n",
    "    \n",
    "    out_profile.update({'driver':'PNG', 'width': out_img.shape[2],'height': out_img.shape[1], 'transform': out_transform})\n",
    "    \n",
    "    # Write the extracted raster patch to a file\n",
    "    with rasterio.open(output_path, 'w', **out_profile) as dst:\n",
    "        dst.write(out_img)\n",
    "    \n",
    "    # data.close()\n",
    "    # data = None"
   ]
  },
  {
   "cell_type": "code",
   "execution_count": 36,
   "metadata": {},
   "outputs": [],
   "source": [
    "'''\n",
    "This function is used to receive a string from the raster file's name\n",
    "using the split() method. It splits the string wherever an underscore appears and then accesses the second-to-last element.\n",
    "'''\n",
    "def imageNaming(raster_path):\n",
    "    string_parts = raster_path.split(\"_\")\n",
    "    band_string = string_parts[-3]+ \"_\" + string_parts[-2] + \"_\" + string_parts[-1]\n",
    "    band_string = band_string.replace('.jp2','.png')\n",
    "    return band_string\n",
    "\n",
    "# Example output: 20170420T103021_B02_10m"
   ]
  },
  {
   "cell_type": "code",
   "execution_count": 31,
   "metadata": {},
   "outputs": [],
   "source": [
    "def pixelMasking(patch_path, clc_path, clc_pixel_values, output_path):\n",
    "    # Read the patch and its boundaries\n",
    "    with rasterio.open(patch_path) as patch:\n",
    "        patchdata = patch.read()\n",
    "        profile = patch.profile.copy()\n",
    "        bounds = patch.bounds\n",
    "\n",
    "    # Read clc in the boundaries of the patch\n",
    "    with rasterio.open(clc_path) as clc:\n",
    "        window = from_bounds(*bounds, clc.transform)\n",
    "        clcdata = clc.read(window=window)\n",
    "\n",
    "    # Create bool array mask where clc is not in list of values\n",
    "    mask = np.isin(clcdata, clc_pixel_values, invert=True)\n",
    "\n",
    "    # Replace \"None\" values with integer. In this case 0\n",
    "    if profile[\"nodata\"] is None:\n",
    "        profile[\"nodata\"] = 0\n",
    "        \n",
    "    # set everything where mask is True to NoData\n",
    "    patchdata[mask] = profile[\"nodata\"]\n",
    "\n",
    "    # Save the new patch with the patch values where clc has specific values\n",
    "    with rasterio.open(output_path, \"w\", **profile) as output:\n",
    "        output.write(patchdata)\n",
    "   "
   ]
  },
  {
   "attachments": {},
   "cell_type": "markdown",
   "metadata": {},
   "source": [
    "## Getting a list of all the band rasters"
   ]
  },
  {
   "cell_type": "code",
   "execution_count": null,
   "metadata": {},
   "outputs": [],
   "source": [
    "# Make a list of all bands in an S2 image from the images' .SAFE folder (.jp2 files)\n",
    "\n",
    "dirr = r'C:\\Users\\Kostas\\Downloads\\S2A_MSIL2A_20170420T103021_N0204_R108_T32UNB_20170420T103454.SAFE'\n",
    "\n",
    "# This will do it for just the bands 01-12. Other products are omitted.\n",
    "jp2_files = glob.glob(dirr + '/**/IMG_DATA/**/R60m/*B??_??m.jp2', recursive=True)\n",
    "print(jp2_files)\n",
    "\n",
    "# This will provide all .jp2 files in every subfolder of the dirr\n",
    "#jp2_files = glob.glob(dirr+\"/**/*.jp2\", recursive=True) "
   ]
  },
  {
   "cell_type": "code",
   "execution_count": 2,
   "metadata": {},
   "outputs": [
    {
     "name": "stdout",
     "output_type": "stream",
     "text": [
      "['S2A_MSIL2A_20200921T103031_N0214_R108_T32UNB_20200921T151006.SAFE/GRANULE/L2A_T32UNB_A027418_20200921T103107/IMG_DATA/R60m/T32UNB_20200921T103031_B01_60m.jp2', 'S2A_MSIL2A_20200921T103031_N0214_R108_T32UNB_20200921T151006.SAFE/GRANULE/L2A_T32UNB_A027418_20200921T103107/IMG_DATA/R60m/T32UNB_20200921T103031_B02_60m.jp2', 'S2A_MSIL2A_20200921T103031_N0214_R108_T32UNB_20200921T151006.SAFE/GRANULE/L2A_T32UNB_A027418_20200921T103107/IMG_DATA/R60m/T32UNB_20200921T103031_B03_60m.jp2', 'S2A_MSIL2A_20200921T103031_N0214_R108_T32UNB_20200921T151006.SAFE/GRANULE/L2A_T32UNB_A027418_20200921T103107/IMG_DATA/R60m/T32UNB_20200921T103031_B04_60m.jp2', 'S2A_MSIL2A_20200921T103031_N0214_R108_T32UNB_20200921T151006.SAFE/GRANULE/L2A_T32UNB_A027418_20200921T103107/IMG_DATA/R60m/T32UNB_20200921T103031_B05_60m.jp2', 'S2A_MSIL2A_20200921T103031_N0214_R108_T32UNB_20200921T151006.SAFE/GRANULE/L2A_T32UNB_A027418_20200921T103107/IMG_DATA/R60m/T32UNB_20200921T103031_B06_60m.jp2', 'S2A_MSIL2A_20200921T103031_N0214_R108_T32UNB_20200921T151006.SAFE/GRANULE/L2A_T32UNB_A027418_20200921T103107/IMG_DATA/R60m/T32UNB_20200921T103031_B07_60m.jp2', 'S2A_MSIL2A_20200921T103031_N0214_R108_T32UNB_20200921T151006.SAFE/GRANULE/L2A_T32UNB_A027418_20200921T103107/IMG_DATA/R60m/T32UNB_20200921T103031_B09_60m.jp2', 'S2A_MSIL2A_20200921T103031_N0214_R108_T32UNB_20200921T151006.SAFE/GRANULE/L2A_T32UNB_A027418_20200921T103107/IMG_DATA/R60m/T32UNB_20200921T103031_B11_60m.jp2', 'S2A_MSIL2A_20200921T103031_N0214_R108_T32UNB_20200921T151006.SAFE/GRANULE/L2A_T32UNB_A027418_20200921T103107/IMG_DATA/R60m/T32UNB_20200921T103031_B12_60m.jp2', 'S2A_MSIL2A_20200921T103031_N0214_R108_T32UNB_20200921T151006.SAFE/GRANULE/L2A_T32UNB_A027418_20200921T103107/IMG_DATA/R60m/T32UNB_20200921T103031_B8A_60m.jp2']\n"
     ]
    }
   ],
   "source": [
    "# Reading the appropriate .jp2 images from a zip file\n",
    "\n",
    "from zipfile import ZipFile\n",
    "import fnmatch\n",
    "zipaki = r\"C:\\Users\\Kostas\\Downloads\\S2A_MSIL2A_20200921T103031_N0214_R108_T32UNB_20200921T151006.zip\"\n",
    "\n",
    "with ZipFile(zipaki, 'r') as zipObj:\n",
    "    file_list = zipObj.namelist()\n",
    "    pattern = '*/R60m/*B???60m.jp2'\n",
    "\n",
    "    filtered_list = []\n",
    "    for file in file_list:\n",
    "        if fnmatch.fnmatch(file, pattern):\n",
    "            filtered_list.append(file)\n",
    "    print(filtered_list)\n"
   ]
  },
  {
   "cell_type": "code",
   "execution_count": null,
   "metadata": {},
   "outputs": [],
   "source": [
    "# Reading the zipped image\n",
    "\n",
    "for raster in filtered_list:\n",
    "    zipped_image = pathlib.Path(\"zip+file:\" + zipaki + '!/' + raster)\n",
    "    with rasterio.open(zipped_image, driver='JP2OpenJPEG') as src:\n",
    "        show(src)"
   ]
  },
  {
   "cell_type": "code",
   "execution_count": 44,
   "metadata": {},
   "outputs": [],
   "source": [
    "# Trying the whole process with one image. It works\n",
    "\n",
    "zipped_image = pathlib.Path(\"zip+file:\" + zipaki + '!/' + filtered_list[3])\n",
    "minx_list, miny_list, maxx_list, maxy_list = getContainedEnvelopeCoords(zipped_image, envelope_list)\n",
    "raster_name = imageNaming(filtered_list[3])\n",
    "output_path = r'C:\\Users\\Kostas\\Desktop\\GIMA\\Module_7\\Data\\filtered_patches'\n",
    "\n",
    "# Read clc related info\n",
    "clc_pixel_values = [10, 23, 25, 29, 24, 18, 26]\n",
    "clc_path = pathlib.Path(r\"C:\\Users\\Kostas\\Desktop\\GIMA\\Module_7\\Data\\CLC2018\\CLC2018_GER_WGS84UTM32N_60m_ArcPro.tif\")\n",
    "\n",
    "for i in range(0, len(minx_list)):\n",
    "    output_file_name = os.path.join(output_path, raster_name)\n",
    "    exportImage(zipped_image, output_file_name, minx_list[i], miny_list[i], maxx_list[i], maxy_list[i])\n",
    "    pixelMasking(output_file_name, clc_path, clc_pixel_values, output_file_name)\n"
   ]
  },
  {
   "attachments": {},
   "cell_type": "markdown",
   "metadata": {},
   "source": [
    "## Patch extraction. All bands."
   ]
  },
  {
   "cell_type": "code",
   "execution_count": null,
   "metadata": {},
   "outputs": [],
   "source": [
    "output_path = r'C:\\Users\\Kostas\\Desktop\\GIMA\\Module_7\\Data\\PEP725\\After_2016_sent_from_PEP725\\pep725_outputs\\pep725_high_count_days\\rasters'\n",
    "\n",
    "# Get the boundaries in minx, miny, maxx, maxy and convert them to a list\n",
    "# bounds = clipped_gdf.geometry.apply(lambda x : x.bounds).tolist()"
   ]
  },
  {
   "cell_type": "code",
   "execution_count": null,
   "metadata": {},
   "outputs": [],
   "source": [
    "clc_pixel_values = [10, 23, 25, 29, 24, 18, 26]\n",
    "clc_path = pathlib.Path(r\"C:\\Users\\Kostas\\Desktop\\GIMA\\Module_7\\Data\\CLC2018\\CLC2018_GER_WGS84UTM32N_60m_ArcPro.tif\")"
   ]
  },
  {
   "cell_type": "code",
   "execution_count": null,
   "metadata": {},
   "outputs": [],
   "source": [
    "# Need to add a print statement that shows how many polygons are contained\n",
    "\n",
    "# Read each raster file from the jp2_files list\n",
    "for raster in range(0, len(jp2_files)):\n",
    "\n",
    "    # Get the 4 lists of the minx, miny, maxx, maxy for the polygons fully contained in the raster\n",
    "    minx_list, miny_list, maxx_list, maxy_list = getContainedEnvelopeCoords(jp2_files[raster], envelope_list)\n",
    "    \n",
    "    # Get just the name of the raster (Date_Time_Band) to use it in naming the extracted images\n",
    "    raster_name = imageNaming(jp2_files[raster])\n",
    "    print(\"Creating images around PEP725 stations for the file:\", raster_name + \".jp2\")\n",
    "\n",
    "    # Now, for the raster at hand, iterate over each polygon and call the exportImage function to extract a patch for each polygon\n",
    "    for i in range(0, len(minx_list)):\n",
    "        # Name the patch\n",
    "        output_file_name = os.path.join(output_path, raster_name + f\"_Patch_{i+1}.png\")\n",
    "        # Extract it\n",
    "        exportImage(jp2_files[raster], output_file_name, minx_list[i], miny_list[i], maxx_list[i], maxy_list[i])\n",
    "        # Adding clc section\n",
    "        pixelMasking(output_file_name, clc_path, clc_pixel_values, output_file_name)\n",
    "    print(f'\\tPatch pixel masking completed for the image {raster_name}\\n')\n",
    "print('Image extraction completed')"
   ]
  }
 ],
 "metadata": {
  "kernelspec": {
   "display_name": "pep725",
   "language": "python",
   "name": "python3"
  },
  "language_info": {
   "codemirror_mode": {
    "name": "ipython",
    "version": 3
   },
   "file_extension": ".py",
   "mimetype": "text/x-python",
   "name": "python",
   "nbconvert_exporter": "python",
   "pygments_lexer": "ipython3",
   "version": "3.10.6"
  },
  "orig_nbformat": 4,
  "vscode": {
   "interpreter": {
    "hash": "87013bfe7793781dd931ded083f6d345173d317406dd371cb864879c5f49f73e"
   }
  }
 },
 "nbformat": 4,
 "nbformat_minor": 2
}
