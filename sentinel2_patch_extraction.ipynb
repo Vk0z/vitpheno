{
 "cells": [
  {
   "attachments": {},
   "cell_type": "markdown",
   "metadata": {},
   "source": [
    "## Cleaning up the code\n",
    "\n",
    "**Inputs**\n",
    "- parent directory of a S2 image (.SAFE folder)\n",
    "- `envelope_gdf` (for now I will also include the code to go from buffer to envelope here)"
   ]
  },
  {
   "cell_type": "code",
   "execution_count": 9,
   "metadata": {},
   "outputs": [],
   "source": [
    "# Imports. To be cleaned as well\n",
    "\n",
    "import pandas as pd\n",
    "from matplotlib import pyplot as plt\n",
    "from shapely.geometry import box\n",
    "import rasterio\n",
    "from rasterio.plot import show\n",
    "from rasterio.mask import mask\n",
    "from rasterio.coords import BoundingBox\n",
    "from rasterio.features import geometry_mask\n",
    "import json\n",
    "import geopandas as gpd\n",
    "import numpy as np\n",
    "import glob\n",
    "path = r'C:\\Users\\Kostas\\Downloads\\S2A_MSIL2A_20170420T103021_N0204_R108_T32UNB_20170420T103454.SAFE\\GRANULE\\L2A_T32UNB_A009543_20170420T103454\\IMG_DATA\\R10m\\L2A_T32UNB_20170420T103021_B08_10m.jp2'"
   ]
  },
  {
   "cell_type": "markdown",
   "metadata": {},
   "source": [
    "### ------------ Buffer to envelope -----------------"
   ]
  },
  {
   "cell_type": "code",
   "execution_count": 2,
   "metadata": {},
   "outputs": [],
   "source": [
    "# Read buffer file\n",
    "buffers = gpd.read_file(r'C:\\Users\\Kostas\\Desktop\\GIMA\\Module_7\\Data\\PEP725\\After_2016_sent_from_PEP725\\pep725_outputs\\pep725_high_count_days\\buffers_day_92.geojson')\n",
    "# Set crs because by default GeoPandas loads it in 4326, whereas it is actually 32632\n",
    "buffers.set_crs(32632, inplace=True, allow_override=True)\n",
    "\n",
    "# Create envelopes for the buffers\n",
    "envelope_series = buffers.geometry.envelope\n",
    "envelope_series.rename('envelope_geometry', inplace=True)\n",
    "envelope_gdf = buffers.merge(envelope_series, left_index=True, right_index=True)\n",
    "envelope_gdf = envelope_gdf.drop(['geometry'], axis=1).set_geometry('envelope_geometry').rename_geometry('geometry')\n"
   ]
  },
  {
   "attachments": {},
   "cell_type": "markdown",
   "metadata": {},
   "source": [
    "## Define functions to be used"
   ]
  },
  {
   "cell_type": "code",
   "execution_count": 3,
   "metadata": {},
   "outputs": [],
   "source": [
    "\"\"\"Function to parse features from GeoDataFrame in such a manner that rasterio wants them\"\"\"\n",
    "\n",
    "def getFeatures(gdf):\n",
    "        return [json.loads(gdf.to_json())['features'][0]['geometry']]"
   ]
  },
  {
   "cell_type": "code",
   "execution_count": 4,
   "metadata": {},
   "outputs": [],
   "source": [
    "\"\"\"\n",
    "Function to clip a GeoDataFrame to the extent of the raster. Can be used for each input image.\n",
    "\n",
    "It should be changed for something better for better operation. Instead of clipping it should just check if the \n",
    "polygon is inside the raster's bounds and just parse it for later processing4\n",
    "\n",
    "\"\"\"\n",
    "\n",
    "def clipGdfToRasterExtent (raster, envelope_gdf):\n",
    "    with rasterio.open(path, driver='JP2OpenJPEG') as src:\n",
    "        # Get the extent of the raster\n",
    "        minx, miny, maxx, maxy = src.bounds\n",
    "    # NEED TO ADD A CHECKING CLAUSE FOR THE POLYGONS INTERSECTING THE BBOX\n",
    "    # Clip the geodataframe to the raster's extent\n",
    "    clipped_gdf = envelope_gdf.cx[minx:maxx, miny:maxy]\n",
    "    return clipped_gdf"
   ]
  },
  {
   "cell_type": "code",
   "execution_count": 14,
   "metadata": {},
   "outputs": [],
   "source": [
    "envelope_list = envelope_gdf.geometry.tolist()\n",
    "\n",
    "with rasterio.open(path, driver='JP2OpenJPEG') as src:\n",
    "    raster_extent = src.bounds\n",
    "    \n",
    "    # list initialization\n",
    "    minx_list = []\n",
    "    miny_list = []\n",
    "    maxx_list = []\n",
    "    maxy_list = []\n",
    "\n",
    "    for poly in envelope_list:\n",
    "        poly_extent = poly.bounds\n",
    "\n",
    "        # Check if the polygon is fully inside the raster's extent\n",
    "        if (poly_extent[0] >= raster_extent[0] and poly_extent[2] <= raster_extent[2] and\n",
    "            poly_extent[1] >= raster_extent[1] and poly_extent[3] <= raster_extent[3]):\n",
    "                minx_list.append(poly_extent[0])\n",
    "                miny_list.append(poly_extent[1])\n",
    "                maxx_list.append(poly_extent[2])\n",
    "                maxy_list.append(poly_extent[3])\n",
    "\n",
    "        "
   ]
  },
  {
   "cell_type": "code",
   "execution_count": 5,
   "metadata": {},
   "outputs": [],
   "source": [
    "def export_image(raster, output_path, minx, miny, maxx, maxy):\n",
    "    # open the raster file (Single Band)\n",
    "    data = rasterio.open(raster, driver='JP2OpenJPEG')\n",
    "\n",
    "    # Create a bounding box from the polygon min-max coordinates    \n",
    "    bbox = box(minx, miny, maxx, maxy)\n",
    "    # Create a geodataframe with a single polygon so that it can be used with rasterio\n",
    "    geo = gpd.GeoDataFrame({'geometry': bbox}, index=[0], crs='32632')\n",
    "    # Transform the geodataframe to a GeoJSON-like object that can be used as an input in the rasterio mask function\n",
    "    coords = getFeatures(geo)\n",
    "    #print(coords)\n",
    "    \n",
    "    # Mask and crop the raster AOI where polygon overlaps the whole raster\n",
    "    out_img, out_transform = mask(data, shapes=coords, crop=True)\n",
    "    # Define resolution and more\n",
    "    out_profile = data.profile.copy()\n",
    "    \n",
    "    out_profile.update({'width': out_img.shape[2],'height': out_img.shape[1], 'transform': out_transform})\n",
    "    # Write the extracted raster patch to a file\n",
    "    with rasterio.open(output_path, 'w', **out_profile) as dst:\n",
    "        dst.write(out_img)\n",
    "    \n",
    "    data.close()\n",
    "    data = None"
   ]
  },
  {
   "attachments": {},
   "cell_type": "markdown",
   "metadata": {},
   "source": [
    "## Getting a list of all the band rasters"
   ]
  },
  {
   "cell_type": "code",
   "execution_count": 6,
   "metadata": {},
   "outputs": [
    {
     "name": "stdout",
     "output_type": "stream",
     "text": [
      "['C:\\\\Users\\\\Kostas\\\\Downloads\\\\S2A_MSIL2A_20170420T103021_N0204_R108_T32UNB_20170420T103454.SAFE\\\\GRANULE\\\\L2A_T32UNB_A009543_20170420T103454\\\\IMG_DATA\\\\R10m\\\\L2A_T32UNB_20170420T103021_B02_10m.jp2', 'C:\\\\Users\\\\Kostas\\\\Downloads\\\\S2A_MSIL2A_20170420T103021_N0204_R108_T32UNB_20170420T103454.SAFE\\\\GRANULE\\\\L2A_T32UNB_A009543_20170420T103454\\\\IMG_DATA\\\\R10m\\\\L2A_T32UNB_20170420T103021_B03_10m.jp2', 'C:\\\\Users\\\\Kostas\\\\Downloads\\\\S2A_MSIL2A_20170420T103021_N0204_R108_T32UNB_20170420T103454.SAFE\\\\GRANULE\\\\L2A_T32UNB_A009543_20170420T103454\\\\IMG_DATA\\\\R10m\\\\L2A_T32UNB_20170420T103021_B04_10m.jp2', 'C:\\\\Users\\\\Kostas\\\\Downloads\\\\S2A_MSIL2A_20170420T103021_N0204_R108_T32UNB_20170420T103454.SAFE\\\\GRANULE\\\\L2A_T32UNB_A009543_20170420T103454\\\\IMG_DATA\\\\R10m\\\\L2A_T32UNB_20170420T103021_B08_10m.jp2', 'C:\\\\Users\\\\Kostas\\\\Downloads\\\\S2A_MSIL2A_20170420T103021_N0204_R108_T32UNB_20170420T103454.SAFE\\\\GRANULE\\\\L2A_T32UNB_A009543_20170420T103454\\\\IMG_DATA\\\\R20m\\\\L2A_T32UNB_20170420T103021_B02_20m.jp2', 'C:\\\\Users\\\\Kostas\\\\Downloads\\\\S2A_MSIL2A_20170420T103021_N0204_R108_T32UNB_20170420T103454.SAFE\\\\GRANULE\\\\L2A_T32UNB_A009543_20170420T103454\\\\IMG_DATA\\\\R20m\\\\L2A_T32UNB_20170420T103021_B03_20m.jp2', 'C:\\\\Users\\\\Kostas\\\\Downloads\\\\S2A_MSIL2A_20170420T103021_N0204_R108_T32UNB_20170420T103454.SAFE\\\\GRANULE\\\\L2A_T32UNB_A009543_20170420T103454\\\\IMG_DATA\\\\R20m\\\\L2A_T32UNB_20170420T103021_B04_20m.jp2', 'C:\\\\Users\\\\Kostas\\\\Downloads\\\\S2A_MSIL2A_20170420T103021_N0204_R108_T32UNB_20170420T103454.SAFE\\\\GRANULE\\\\L2A_T32UNB_A009543_20170420T103454\\\\IMG_DATA\\\\R20m\\\\L2A_T32UNB_20170420T103021_B05_20m.jp2', 'C:\\\\Users\\\\Kostas\\\\Downloads\\\\S2A_MSIL2A_20170420T103021_N0204_R108_T32UNB_20170420T103454.SAFE\\\\GRANULE\\\\L2A_T32UNB_A009543_20170420T103454\\\\IMG_DATA\\\\R20m\\\\L2A_T32UNB_20170420T103021_B06_20m.jp2', 'C:\\\\Users\\\\Kostas\\\\Downloads\\\\S2A_MSIL2A_20170420T103021_N0204_R108_T32UNB_20170420T103454.SAFE\\\\GRANULE\\\\L2A_T32UNB_A009543_20170420T103454\\\\IMG_DATA\\\\R20m\\\\L2A_T32UNB_20170420T103021_B07_20m.jp2', 'C:\\\\Users\\\\Kostas\\\\Downloads\\\\S2A_MSIL2A_20170420T103021_N0204_R108_T32UNB_20170420T103454.SAFE\\\\GRANULE\\\\L2A_T32UNB_A009543_20170420T103454\\\\IMG_DATA\\\\R20m\\\\L2A_T32UNB_20170420T103021_B11_20m.jp2', 'C:\\\\Users\\\\Kostas\\\\Downloads\\\\S2A_MSIL2A_20170420T103021_N0204_R108_T32UNB_20170420T103454.SAFE\\\\GRANULE\\\\L2A_T32UNB_A009543_20170420T103454\\\\IMG_DATA\\\\R20m\\\\L2A_T32UNB_20170420T103021_B12_20m.jp2', 'C:\\\\Users\\\\Kostas\\\\Downloads\\\\S2A_MSIL2A_20170420T103021_N0204_R108_T32UNB_20170420T103454.SAFE\\\\GRANULE\\\\L2A_T32UNB_A009543_20170420T103454\\\\IMG_DATA\\\\R20m\\\\L2A_T32UNB_20170420T103021_B8A_20m.jp2', 'C:\\\\Users\\\\Kostas\\\\Downloads\\\\S2A_MSIL2A_20170420T103021_N0204_R108_T32UNB_20170420T103454.SAFE\\\\GRANULE\\\\L2A_T32UNB_A009543_20170420T103454\\\\IMG_DATA\\\\R60m\\\\L2A_T32UNB_20170420T103021_B01_60m.jp2', 'C:\\\\Users\\\\Kostas\\\\Downloads\\\\S2A_MSIL2A_20170420T103021_N0204_R108_T32UNB_20170420T103454.SAFE\\\\GRANULE\\\\L2A_T32UNB_A009543_20170420T103454\\\\IMG_DATA\\\\R60m\\\\L2A_T32UNB_20170420T103021_B02_60m.jp2', 'C:\\\\Users\\\\Kostas\\\\Downloads\\\\S2A_MSIL2A_20170420T103021_N0204_R108_T32UNB_20170420T103454.SAFE\\\\GRANULE\\\\L2A_T32UNB_A009543_20170420T103454\\\\IMG_DATA\\\\R60m\\\\L2A_T32UNB_20170420T103021_B03_60m.jp2', 'C:\\\\Users\\\\Kostas\\\\Downloads\\\\S2A_MSIL2A_20170420T103021_N0204_R108_T32UNB_20170420T103454.SAFE\\\\GRANULE\\\\L2A_T32UNB_A009543_20170420T103454\\\\IMG_DATA\\\\R60m\\\\L2A_T32UNB_20170420T103021_B04_60m.jp2', 'C:\\\\Users\\\\Kostas\\\\Downloads\\\\S2A_MSIL2A_20170420T103021_N0204_R108_T32UNB_20170420T103454.SAFE\\\\GRANULE\\\\L2A_T32UNB_A009543_20170420T103454\\\\IMG_DATA\\\\R60m\\\\L2A_T32UNB_20170420T103021_B05_60m.jp2', 'C:\\\\Users\\\\Kostas\\\\Downloads\\\\S2A_MSIL2A_20170420T103021_N0204_R108_T32UNB_20170420T103454.SAFE\\\\GRANULE\\\\L2A_T32UNB_A009543_20170420T103454\\\\IMG_DATA\\\\R60m\\\\L2A_T32UNB_20170420T103021_B06_60m.jp2', 'C:\\\\Users\\\\Kostas\\\\Downloads\\\\S2A_MSIL2A_20170420T103021_N0204_R108_T32UNB_20170420T103454.SAFE\\\\GRANULE\\\\L2A_T32UNB_A009543_20170420T103454\\\\IMG_DATA\\\\R60m\\\\L2A_T32UNB_20170420T103021_B07_60m.jp2', 'C:\\\\Users\\\\Kostas\\\\Downloads\\\\S2A_MSIL2A_20170420T103021_N0204_R108_T32UNB_20170420T103454.SAFE\\\\GRANULE\\\\L2A_T32UNB_A009543_20170420T103454\\\\IMG_DATA\\\\R60m\\\\L2A_T32UNB_20170420T103021_B09_60m.jp2', 'C:\\\\Users\\\\Kostas\\\\Downloads\\\\S2A_MSIL2A_20170420T103021_N0204_R108_T32UNB_20170420T103454.SAFE\\\\GRANULE\\\\L2A_T32UNB_A009543_20170420T103454\\\\IMG_DATA\\\\R60m\\\\L2A_T32UNB_20170420T103021_B11_60m.jp2', 'C:\\\\Users\\\\Kostas\\\\Downloads\\\\S2A_MSIL2A_20170420T103021_N0204_R108_T32UNB_20170420T103454.SAFE\\\\GRANULE\\\\L2A_T32UNB_A009543_20170420T103454\\\\IMG_DATA\\\\R60m\\\\L2A_T32UNB_20170420T103021_B12_60m.jp2', 'C:\\\\Users\\\\Kostas\\\\Downloads\\\\S2A_MSIL2A_20170420T103021_N0204_R108_T32UNB_20170420T103454.SAFE\\\\GRANULE\\\\L2A_T32UNB_A009543_20170420T103454\\\\IMG_DATA\\\\R60m\\\\L2A_T32UNB_20170420T103021_B8A_60m.jp2']\n"
     ]
    }
   ],
   "source": [
    "# Make a list of all .jp2 files\n",
    "# Maybe this has an error. will check later\n",
    "\n",
    "dirr = r'C:\\Users\\Kostas\\Downloads\\S2A_MSIL2A_20170420T103021_N0204_R108_T32UNB_20170420T103454.SAFE'\n",
    "# This will provide all .jp2 files in every subfolder of the dirr\n",
    "#jp2_files = glob.glob(dirr+\"/**/*.jp2\", recursive=True) \n",
    "\n",
    "# This will do it for just the bands 01-12. Other products are omitted\n",
    "jp2_files = glob.glob(dirr+'/**/IMG_DATA/**/R??m/*B??_??m.jp2', recursive=True)\n",
    "print(jp2_files)"
   ]
  },
  {
   "attachments": {},
   "cell_type": "markdown",
   "metadata": {},
   "source": [
    "## Patch extraction. One band only."
   ]
  },
  {
   "cell_type": "code",
   "execution_count": null,
   "metadata": {},
   "outputs": [],
   "source": [
    "clipped_gdf = clipGdfToRasterExtent(path, envelope_gdf)\n",
    "#clipped_gdf.plot()"
   ]
  },
  {
   "attachments": {},
   "cell_type": "markdown",
   "metadata": {},
   "source": [
    "Using string methods for naming the patches"
   ]
  },
  {
   "cell_type": "code",
   "execution_count": null,
   "metadata": {},
   "outputs": [],
   "source": [
    "# Using the split() method. It splits the string wherever an underscore appears and then accesses the second-to-last element.\n",
    "\n",
    "# Consider adding a checking clause to check if it is in b02, b03 etc....\n",
    "for i in range(0, len(jp2_files)):\n",
    "    string_parts = jp2_files[i].split(\"_\")\n",
    "    band_string = string_parts[-3]+ \"_\" + string_parts[-2]+ \"_\" + string_parts[-1]\n",
    "\n",
    "    # band_string = jp2_files[i].split(\"_\")[-3] + \"_\" + jp2_files[i].split(\"_\")[-2] + \"_\" + jp2_files[i].split(\"_\")[-1]\n",
    "    #print(band_string)"
   ]
  },
  {
   "cell_type": "code",
   "execution_count": 8,
   "metadata": {},
   "outputs": [
    {
     "ename": "NameError",
     "evalue": "name 'clipped_gdf' is not defined",
     "output_type": "error",
     "traceback": [
      "\u001b[1;31m---------------------------------------------------------------------------\u001b[0m",
      "\u001b[1;31mNameError\u001b[0m                                 Traceback (most recent call last)",
      "\u001b[1;32mc:\\Users\\Kostas\\Documents\\GitHub\\vitpheno\\sentinel2_patch_extraction.ipynb Cell 15\u001b[0m in \u001b[0;36m<cell line: 4>\u001b[1;34m()\u001b[0m\n\u001b[0;32m      <a href='vscode-notebook-cell:/c%3A/Users/Kostas/Documents/GitHub/vitpheno/sentinel2_patch_extraction.ipynb#X21sZmlsZQ%3D%3D?line=0'>1</a>\u001b[0m output_path \u001b[39m=\u001b[39m \u001b[39mr\u001b[39m\u001b[39m'\u001b[39m\u001b[39mC:\u001b[39m\u001b[39m\\\u001b[39m\u001b[39mUsers\u001b[39m\u001b[39m\\\u001b[39m\u001b[39mKostas\u001b[39m\u001b[39m\\\u001b[39m\u001b[39mDesktop\u001b[39m\u001b[39m\\\u001b[39m\u001b[39mGIMA\u001b[39m\u001b[39m\\\u001b[39m\u001b[39mModule_7\u001b[39m\u001b[39m\\\u001b[39m\u001b[39mData\u001b[39m\u001b[39m\\\u001b[39m\u001b[39mPEP725\u001b[39m\u001b[39m\\\u001b[39m\u001b[39mAfter_2016_sent_from_PEP725\u001b[39m\u001b[39m\\\u001b[39m\u001b[39mpep725_outputs\u001b[39m\u001b[39m\\\u001b[39m\u001b[39mpep725_high_count_days\u001b[39m\u001b[39m\\\u001b[39m\u001b[39mrasters\u001b[39m\u001b[39m'\u001b[39m\n\u001b[0;32m      <a href='vscode-notebook-cell:/c%3A/Users/Kostas/Documents/GitHub/vitpheno/sentinel2_patch_extraction.ipynb#X21sZmlsZQ%3D%3D?line=2'>3</a>\u001b[0m \u001b[39m# Get the boundaries in minx, miny, maxx, maxy and convert them to a list\u001b[39;00m\n\u001b[1;32m----> <a href='vscode-notebook-cell:/c%3A/Users/Kostas/Documents/GitHub/vitpheno/sentinel2_patch_extraction.ipynb#X21sZmlsZQ%3D%3D?line=3'>4</a>\u001b[0m bounds \u001b[39m=\u001b[39m clipped_gdf\u001b[39m.\u001b[39mgeometry\u001b[39m.\u001b[39mapply(\u001b[39mlambda\u001b[39;00m x : x\u001b[39m.\u001b[39mbounds)\u001b[39m.\u001b[39mtolist()\n",
      "\u001b[1;31mNameError\u001b[0m: name 'clipped_gdf' is not defined"
     ]
    }
   ],
   "source": [
    "output_path = r'C:\\Users\\Kostas\\Desktop\\GIMA\\Module_7\\Data\\PEP725\\After_2016_sent_from_PEP725\\pep725_outputs\\pep725_high_count_days\\rasters'\n",
    "\n",
    "# Get the boundaries in minx, miny, maxx, maxy and convert them to a list\n",
    "bounds = clipped_gdf.geometry.apply(lambda x : x.bounds).tolist()"
   ]
  },
  {
   "cell_type": "code",
   "execution_count": 7,
   "metadata": {},
   "outputs": [
    {
     "ename": "NameError",
     "evalue": "name 'bounds' is not defined",
     "output_type": "error",
     "traceback": [
      "\u001b[1;31m---------------------------------------------------------------------------\u001b[0m",
      "\u001b[1;31mNameError\u001b[0m                                 Traceback (most recent call last)",
      "\u001b[1;32mc:\\Users\\Kostas\\Documents\\GitHub\\vitpheno\\sentinel2_patch_extraction.ipynb Cell 15\u001b[0m in \u001b[0;36m<cell line: 3>\u001b[1;34m()\u001b[0m\n\u001b[0;32m      <a href='vscode-notebook-cell:/c%3A/Users/Kostas/Documents/GitHub/vitpheno/sentinel2_patch_extraction.ipynb#X20sZmlsZQ%3D%3D?line=0'>1</a>\u001b[0m \u001b[39m# The bounds variable is a list of all the envelopes, but as bounds\u001b[39;00m\n\u001b[0;32m      <a href='vscode-notebook-cell:/c%3A/Users/Kostas/Documents/GitHub/vitpheno/sentinel2_patch_extraction.ipynb#X20sZmlsZQ%3D%3D?line=1'>2</a>\u001b[0m \u001b[39m# So, this iterates over each polygon in the raster and calls the export_image function to extract a patch for each polygon\u001b[39;00m\n\u001b[1;32m----> <a href='vscode-notebook-cell:/c%3A/Users/Kostas/Documents/GitHub/vitpheno/sentinel2_patch_extraction.ipynb#X20sZmlsZQ%3D%3D?line=2'>3</a>\u001b[0m \u001b[39mfor\u001b[39;00m i \u001b[39min\u001b[39;00m \u001b[39mrange\u001b[39m(\u001b[39m0\u001b[39m, \u001b[39mlen\u001b[39m(bounds)):\n\u001b[0;32m      <a href='vscode-notebook-cell:/c%3A/Users/Kostas/Documents/GitHub/vitpheno/sentinel2_patch_extraction.ipynb#X20sZmlsZQ%3D%3D?line=3'>4</a>\u001b[0m     minx, miny, maxx, maxy \u001b[39m=\u001b[39m bounds[i]\n\u001b[0;32m      <a href='vscode-notebook-cell:/c%3A/Users/Kostas/Documents/GitHub/vitpheno/sentinel2_patch_extraction.ipynb#X20sZmlsZQ%3D%3D?line=4'>5</a>\u001b[0m     output_file_name \u001b[39m=\u001b[39m os\u001b[39m.\u001b[39mpath\u001b[39m.\u001b[39mjoin(output_path, \u001b[39mf\u001b[39m\u001b[39m\"\u001b[39m\u001b[39mPatch_\u001b[39m\u001b[39m{\u001b[39;00mi\u001b[39m}\u001b[39;00m\u001b[39m.jp2\u001b[39m\u001b[39m\"\u001b[39m) \u001b[39m# This needs update after the strings\u001b[39;00m\n",
      "\u001b[1;31mNameError\u001b[0m: name 'bounds' is not defined"
     ]
    }
   ],
   "source": [
    "# The bounds variable is a list of all the envelopes, but as bounds\n",
    "# So, this iterates over each polygon in the raster and calls the export_image function to extract a patch for each polygon\n",
    "for i in range(0, len(bounds)):\n",
    "    minx, miny, maxx, maxy = bounds[i]\n",
    "    output_file_name = os.path.join(output_path, f\"Patch_{i}.jp2\") # This needs update after the strings\n",
    "    export_image(path, output_file_name, minx, miny, maxx, maxy)"
   ]
  }
 ],
 "metadata": {
  "kernelspec": {
   "display_name": "pep725",
   "language": "python",
   "name": "python3"
  },
  "language_info": {
   "codemirror_mode": {
    "name": "ipython",
    "version": 3
   },
   "file_extension": ".py",
   "mimetype": "text/x-python",
   "name": "python",
   "nbconvert_exporter": "python",
   "pygments_lexer": "ipython3",
   "version": "3.10.6"
  },
  "orig_nbformat": 4,
  "vscode": {
   "interpreter": {
    "hash": "87013bfe7793781dd931ded083f6d345173d317406dd371cb864879c5f49f73e"
   }
  }
 },
 "nbformat": 4,
 "nbformat_minor": 2
}
