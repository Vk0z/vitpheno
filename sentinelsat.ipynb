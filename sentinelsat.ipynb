{
 "cells": [
  {
   "attachments": {},
   "cell_type": "markdown",
   "metadata": {},
   "source": [
    "# Sentinel SciHub API\n",
    "\n",
    "Useful links\n",
    "- General use info: https://sentinelsat.readthedocs.io/en/stable/api_overview.html\n",
    "- API Docs: https://sentinelsat.readthedocs.io/en/stable/api_reference.html\n",
    "- Regarding the api.query() method inputs: https://scihub.copernicus.eu/twiki/do/view/SciHubUserGuide/FullTextSearch?redirectedfrom=SciHubUserGuide.3FullTextSearch\n",
    "\n"
   ]
  },
  {
   "cell_type": "code",
   "execution_count": 1,
   "metadata": {},
   "outputs": [
    {
     "name": "stderr",
     "output_type": "stream",
     "text": [
      "c:\\Users\\Kostas\\anaconda3\\envs\\pep725\\lib\\site-packages\\tqdm\\auto.py:22: TqdmWarning: IProgress not found. Please update jupyter and ipywidgets. See https://ipywidgets.readthedocs.io/en/stable/user_install.html\n",
      "  from .autonotebook import tqdm as notebook_tqdm\n"
     ]
    }
   ],
   "source": [
    "from sentinelsat import SentinelAPI, read_geojson, geojson_to_wkt\n",
    "from datetime import date\n",
    "import pandas as pd\n",
    "import geopandas as gpd"
   ]
  },
  {
   "attachments": {},
   "cell_type": "markdown",
   "metadata": {},
   "source": [
    "Connect to the API of Sentinel hub"
   ]
  },
  {
   "cell_type": "code",
   "execution_count": 9,
   "metadata": {},
   "outputs": [],
   "source": [
    "username = input('Enter your username: ')\n",
    "password = input('Enter your password: ')\n",
    "api = SentinelAPI(username, password, 'https://apihub.copernicus.eu/apihub')"
   ]
  },
  {
   "attachments": {},
   "cell_type": "markdown",
   "metadata": {},
   "source": [
    "Search for the images of interest by querying on polygon, time and SciHub keywords"
   ]
  },
  {
   "cell_type": "code",
   "execution_count": 33,
   "metadata": {},
   "outputs": [],
   "source": [
    "aoi = r'C:\\Users\\Kostas\\Desktop\\GIMA\\Module_7\\Data\\PEP725\\After_2016_sent_from_PEP725\\pep725_outputs\\random_bbox.geojson'\n",
    "footprint = geojson_to_wkt(read_geojson(aoi))\n",
    "products = api.query(\n",
    "    footprint,\n",
    "    date = ('20221101', '20221201'),\n",
    "    platformname = 'Sentinel-2',\n",
    "    #producttype = 'S2MSI2A', # This can be changed to filter the product type. S2MSI2A, S2MSI1C, or S2MS2Ap\n",
    "    cloudcoverpercentage = (0, 5)\n",
    ")"
   ]
  },
  {
   "attachments": {},
   "cell_type": "markdown",
   "metadata": {},
   "source": [
    "Things you can do with this result"
   ]
  },
  {
   "cell_type": "code",
   "execution_count": 13,
   "metadata": {},
   "outputs": [],
   "source": [
    "# # Convert to df from pandas\n",
    "# df = pd.DataFrame.from_dict(products)\n",
    "# df.head()\n",
    "\n",
    "# # This method makes the result transposed as it can be seen, so better use the other method\n"
   ]
  },
  {
   "cell_type": "code",
   "execution_count": 34,
   "metadata": {},
   "outputs": [
    {
     "data": {
      "text/html": [
       "<div>\n",
       "<style scoped>\n",
       "    .dataframe tbody tr th:only-of-type {\n",
       "        vertical-align: middle;\n",
       "    }\n",
       "\n",
       "    .dataframe tbody tr th {\n",
       "        vertical-align: top;\n",
       "    }\n",
       "\n",
       "    .dataframe thead th {\n",
       "        text-align: right;\n",
       "    }\n",
       "</style>\n",
       "<table border=\"1\" class=\"dataframe\">\n",
       "  <thead>\n",
       "    <tr style=\"text-align: right;\">\n",
       "      <th></th>\n",
       "      <th>title</th>\n",
       "      <th>link</th>\n",
       "      <th>link_alternative</th>\n",
       "      <th>link_icon</th>\n",
       "      <th>summary</th>\n",
       "      <th>ondemand</th>\n",
       "      <th>datatakesensingstart</th>\n",
       "      <th>generationdate</th>\n",
       "      <th>beginposition</th>\n",
       "      <th>endposition</th>\n",
       "      <th>...</th>\n",
       "      <th>s2datatakeid</th>\n",
       "      <th>producttype</th>\n",
       "      <th>platformidentifier</th>\n",
       "      <th>orbitdirection</th>\n",
       "      <th>platformserialidentifier</th>\n",
       "      <th>processinglevel</th>\n",
       "      <th>datastripidentifier</th>\n",
       "      <th>granuleidentifier</th>\n",
       "      <th>identifier</th>\n",
       "      <th>uuid</th>\n",
       "    </tr>\n",
       "  </thead>\n",
       "  <tbody>\n",
       "    <tr>\n",
       "      <th>26e556b8-93c3-4e55-9c88-74e1b0126924</th>\n",
       "      <td>S2B_MSIL1C_20221115T103219_N0400_R108_T32UPA_2...</td>\n",
       "      <td>https://apihub.copernicus.eu/apihub/odata/v1/P...</td>\n",
       "      <td>https://apihub.copernicus.eu/apihub/odata/v1/P...</td>\n",
       "      <td>https://apihub.copernicus.eu/apihub/odata/v1/P...</td>\n",
       "      <td>Date: 2022-11-15T10:32:19.024Z, Instrument: MS...</td>\n",
       "      <td>false</td>\n",
       "      <td>2022-11-15 10:32:19.024</td>\n",
       "      <td>2022-11-15 11:10:03</td>\n",
       "      <td>2022-11-15 10:32:19.024</td>\n",
       "      <td>2022-11-15 10:32:19.024</td>\n",
       "      <td>...</td>\n",
       "      <td>GS2B_20221115T103219_029735_N04.00</td>\n",
       "      <td>S2MSI1C</td>\n",
       "      <td>2017-013A</td>\n",
       "      <td>DESCENDING</td>\n",
       "      <td>Sentinel-2B</td>\n",
       "      <td>Level-1C</td>\n",
       "      <td>S2B_OPER_MSI_L1C_DS_2BPS_20221115T111003_S2022...</td>\n",
       "      <td>S2B_OPER_MSI_L1C_TL_2BPS_20221115T111003_A0297...</td>\n",
       "      <td>S2B_MSIL1C_20221115T103219_N0400_R108_T32UPA_2...</td>\n",
       "      <td>26e556b8-93c3-4e55-9c88-74e1b0126924</td>\n",
       "    </tr>\n",
       "  </tbody>\n",
       "</table>\n",
       "<p>1 rows × 37 columns</p>\n",
       "</div>"
      ],
      "text/plain": [
       "                                                                                  title  \\\n",
       "26e556b8-93c3-4e55-9c88-74e1b0126924  S2B_MSIL1C_20221115T103219_N0400_R108_T32UPA_2...   \n",
       "\n",
       "                                                                                   link  \\\n",
       "26e556b8-93c3-4e55-9c88-74e1b0126924  https://apihub.copernicus.eu/apihub/odata/v1/P...   \n",
       "\n",
       "                                                                       link_alternative  \\\n",
       "26e556b8-93c3-4e55-9c88-74e1b0126924  https://apihub.copernicus.eu/apihub/odata/v1/P...   \n",
       "\n",
       "                                                                              link_icon  \\\n",
       "26e556b8-93c3-4e55-9c88-74e1b0126924  https://apihub.copernicus.eu/apihub/odata/v1/P...   \n",
       "\n",
       "                                                                                summary  \\\n",
       "26e556b8-93c3-4e55-9c88-74e1b0126924  Date: 2022-11-15T10:32:19.024Z, Instrument: MS...   \n",
       "\n",
       "                                     ondemand    datatakesensingstart  \\\n",
       "26e556b8-93c3-4e55-9c88-74e1b0126924    false 2022-11-15 10:32:19.024   \n",
       "\n",
       "                                          generationdate  \\\n",
       "26e556b8-93c3-4e55-9c88-74e1b0126924 2022-11-15 11:10:03   \n",
       "\n",
       "                                               beginposition  \\\n",
       "26e556b8-93c3-4e55-9c88-74e1b0126924 2022-11-15 10:32:19.024   \n",
       "\n",
       "                                                 endposition  ...  \\\n",
       "26e556b8-93c3-4e55-9c88-74e1b0126924 2022-11-15 10:32:19.024  ...   \n",
       "\n",
       "                                                            s2datatakeid  \\\n",
       "26e556b8-93c3-4e55-9c88-74e1b0126924  GS2B_20221115T103219_029735_N04.00   \n",
       "\n",
       "                                      producttype  platformidentifier  \\\n",
       "26e556b8-93c3-4e55-9c88-74e1b0126924      S2MSI1C           2017-013A   \n",
       "\n",
       "                                      orbitdirection platformserialidentifier  \\\n",
       "26e556b8-93c3-4e55-9c88-74e1b0126924      DESCENDING              Sentinel-2B   \n",
       "\n",
       "                                     processinglevel  \\\n",
       "26e556b8-93c3-4e55-9c88-74e1b0126924        Level-1C   \n",
       "\n",
       "                                                                    datastripidentifier  \\\n",
       "26e556b8-93c3-4e55-9c88-74e1b0126924  S2B_OPER_MSI_L1C_DS_2BPS_20221115T111003_S2022...   \n",
       "\n",
       "                                                                      granuleidentifier  \\\n",
       "26e556b8-93c3-4e55-9c88-74e1b0126924  S2B_OPER_MSI_L1C_TL_2BPS_20221115T111003_A0297...   \n",
       "\n",
       "                                                                             identifier  \\\n",
       "26e556b8-93c3-4e55-9c88-74e1b0126924  S2B_MSIL1C_20221115T103219_N0400_R108_T32UPA_2...   \n",
       "\n",
       "                                                                      uuid  \n",
       "26e556b8-93c3-4e55-9c88-74e1b0126924  26e556b8-93c3-4e55-9c88-74e1b0126924  \n",
       "\n",
       "[1 rows x 37 columns]"
      ]
     },
     "execution_count": 34,
     "metadata": {},
     "output_type": "execute_result"
    }
   ],
   "source": [
    "# Convert to df from api\n",
    "df = api.to_dataframe(products)\n",
    "df.head()"
   ]
  },
  {
   "cell_type": "code",
   "execution_count": 24,
   "metadata": {},
   "outputs": [
    {
     "data": {
      "text/plain": [
       "{\"features\": [{\"geometry\": {\"coordinates\": [[[10.41135, 50.543739], [11.959386, 50.51467], [11.89936, 49.528418], [10.382684, 49.556494], [10.41135, 50.543739], [10.41135, 50.543739]]], \"type\": \"Polygon\"}, \"id\": 0, \"properties\": {\"beginposition\": \"2017-01-27T10:23:01.026000Z\", \"cloudcoverpercentage\": 0.0, \"datastripidentifier\": \"S2A_OPER_MSI_L1C_DS_SGS__20170127T135832_S20170127T102258_N02.04\", \"endposition\": \"2017-01-27T10:23:01.026000Z\", \"filename\": \"S2A_MSIL1C_20170127T102301_N0204_R065_T32UPA_20170127T102258.SAFE\", \"format\": \"SAFE\", \"granuleidentifier\": \"S2A_OPER_MSI_L1C_TL_SGS__20170127T135832_A008356_T32UPA_N02.04\", \"id\": \"54da7319-791c-494c-b116-4faf97b85a00\", \"identifier\": \"S2A_MSIL1C_20170127T102301_N0204_R065_T32UPA_20170127T102258\", \"ingestiondate\": \"2017-01-27T23:24:07.593000Z\", \"instrumentname\": \"Multi-Spectral Instrument\", \"instrumentshortname\": \"MSI\", \"level1cpdiidentifier\": \"S2A_OPER_MSI_L1C_TL_SGS__20170127T135832_A008356_T32UPA_N02.04\", \"link\": \"https://apihub.copernicus.eu/apihub/odata/v1/Products('54da7319-791c-494c-b116-4faf97b85a00')/$value\", \"link_alternative\": \"https://apihub.copernicus.eu/apihub/odata/v1/Products('54da7319-791c-494c-b116-4faf97b85a00')/\", \"link_icon\": \"https://apihub.copernicus.eu/apihub/odata/v1/Products('54da7319-791c-494c-b116-4faf97b85a00')/Products('Quicklook')/$value\", \"ondemand\": \"false\", \"orbitdirection\": \"DESCENDING\", \"orbitnumber\": 8356, \"platformidentifier\": \"2015-000A\", \"platformname\": \"Sentinel-2\", \"platformserialidentifier\": \"Sentinel-2A\", \"processingbaseline\": \"02.04\", \"processinglevel\": \"Level-1C\", \"producttype\": \"S2MSI1C\", \"relativeorbitnumber\": 65, \"s2datatakeid\": \"GS2A_20170127T102301_008356_N02.04\", \"sensoroperationalmode\": \"INS-NOBS\", \"size\": \"862.38 MB\", \"summary\": \"Date: 2017-01-27T10:23:01.026Z, Instrument: MSI, Satellite: Sentinel-2, Size: 862.38 MB\", \"title\": \"S2A_MSIL1C_20170127T102301_N0204_R065_T32UPA_20170127T102258\", \"uuid\": \"54da7319-791c-494c-b116-4faf97b85a00\"}, \"type\": \"Feature\"}, {\"geometry\": {\"coordinates\": [[[10.438877, 51.442352], [12.017025, 51.412343], [11.95387, 50.426294], [10.408715, 50.455272], [10.438877, 51.442352], [10.438877, 51.442352]]], \"type\": \"Polygon\"}, \"id\": 1, \"properties\": {\"beginposition\": \"2017-01-27T10:23:01.026000Z\", \"cloudcoverpercentage\": 0.0, \"datastripidentifier\": \"S2A_OPER_MSI_L1C_DS_SGS__20170127T135832_S20170127T102258_N02.04\", \"endposition\": \"2017-01-27T10:23:01.026000Z\", \"filename\": \"S2A_MSIL1C_20170127T102301_N0204_R065_T32UPB_20170127T102258.SAFE\", \"format\": \"SAFE\", \"granuleidentifier\": \"S2A_OPER_MSI_L1C_TL_SGS__20170127T135832_A008356_T32UPB_N02.04\", \"id\": \"4ccf156f-d552-4475-9dc0-4114532de68a\", \"identifier\": \"S2A_MSIL1C_20170127T102301_N0204_R065_T32UPB_20170127T102258\", \"ingestiondate\": \"2017-01-27T23:24:07.084000Z\", \"instrumentname\": \"Multi-Spectral Instrument\", \"instrumentshortname\": \"MSI\", \"level1cpdiidentifier\": \"S2A_OPER_MSI_L1C_TL_SGS__20170127T135832_A008356_T32UPB_N02.04\", \"link\": \"https://apihub.copernicus.eu/apihub/odata/v1/Products('4ccf156f-d552-4475-9dc0-4114532de68a')/$value\", \"link_alternative\": \"https://apihub.copernicus.eu/apihub/odata/v1/Products('4ccf156f-d552-4475-9dc0-4114532de68a')/\", \"link_icon\": \"https://apihub.copernicus.eu/apihub/odata/v1/Products('4ccf156f-d552-4475-9dc0-4114532de68a')/Products('Quicklook')/$value\", \"ondemand\": \"false\", \"orbitdirection\": \"DESCENDING\", \"orbitnumber\": 8356, \"platformidentifier\": \"2015-000A\", \"platformname\": \"Sentinel-2\", \"platformserialidentifier\": \"Sentinel-2A\", \"processingbaseline\": \"02.04\", \"processinglevel\": \"Level-1C\", \"producttype\": \"S2MSI1C\", \"relativeorbitnumber\": 65, \"s2datatakeid\": \"GS2A_20170127T102301_008356_N02.04\", \"sensoroperationalmode\": \"INS-NOBS\", \"size\": \"860.63 MB\", \"summary\": \"Date: 2017-01-27T10:23:01.026Z, Instrument: MSI, Satellite: Sentinel-2, Size: 860.63 MB\", \"title\": \"S2A_MSIL1C_20170127T102301_N0204_R065_T32UPB_20170127T102258\", \"uuid\": \"4ccf156f-d552-4475-9dc0-4114532de68a\"}, \"type\": \"Feature\"}], \"type\": \"FeatureCollection\"}"
      ]
     },
     "execution_count": 24,
     "metadata": {},
     "output_type": "execute_result"
    }
   ],
   "source": [
    "# GeoJSON FeatureCollection containing footprints and metadata of the scenes\n",
    "api.to_geojson(products)"
   ]
  },
  {
   "cell_type": "code",
   "execution_count": 26,
   "metadata": {},
   "outputs": [],
   "source": [
    "# GeoPandas GeoDataFrame with the metadata of the scenes and the footprints as geometries\n",
    "gdf = api.to_geodataframe(products)"
   ]
  },
  {
   "cell_type": "code",
   "execution_count": 35,
   "metadata": {},
   "outputs": [
    {
     "data": {
      "text/plain": [
       "{'id': '26e556b8-93c3-4e55-9c88-74e1b0126924',\n",
       " 'title': 'S2B_MSIL1C_20221115T103219_N0400_R108_T32UPA_20221115T111003',\n",
       " 'size': 184540556,\n",
       " 'md5': '6805ef9029b8452d10a7bbdd1e332357',\n",
       " 'date': datetime.datetime(2022, 11, 15, 10, 32, 19, 24000),\n",
       " 'footprint': 'POLYGON((10.945297010892116 50.533712664025245,10.881962363343296 50.404198984170975,10.829372798974749 50.296694136298655,10.810780350366286 50.258858275064576,10.739905455522644 50.114608180055846,10.670070142239751 49.9702166027654,10.649908786430888 49.928647349427195,10.600397852892865 49.82683638578984,10.53031872599488 49.68240642730616,10.46878505794984 49.55490058633484,10.382684363173013 49.55649445196309,10.411349506049252 50.543739174288454,10.945297010892116 50.533712664025245))',\n",
       " 'url': \"https://apihub.copernicus.eu/apihub/odata/v1/Products('26e556b8-93c3-4e55-9c88-74e1b0126924')/$value\",\n",
       " 'Online': True,\n",
       " 'Creation Date': datetime.datetime(2022, 11, 15, 14, 35, 1, 112000),\n",
       " 'Ingestion Date': datetime.datetime(2022, 11, 15, 14, 33, 42, 418000),\n",
       " 'quicklook_url': \"https://apihub.copernicus.eu/apihub/odata/v1/Products('26e556b8-93c3-4e55-9c88-74e1b0126924')/Products('Quicklook')/$value\"}"
      ]
     },
     "execution_count": 35,
     "metadata": {},
     "output_type": "execute_result"
    }
   ],
   "source": [
    "# Get basic information about the product: its title, file size, MD5 sum, date, footprint and its download url\n",
    "# products variable is a dictionary where the keys are the product ids. So, we need to convert it to a list to isolate the id using an index\n",
    "api.get_product_odata(list(products)[0])"
   ]
  },
  {
   "cell_type": "code",
   "execution_count": 25,
   "metadata": {},
   "outputs": [
    {
     "data": {
      "text/plain": [
       "{'id': '37438a05-f795-4e77-b68e-3a3c0ec5f04b',\n",
       " 'title': 'S2B_MSIL2A_20220106T102319_N0301_R065_T32UPB_20220106T123401',\n",
       " 'size': 1158319407,\n",
       " 'md5': '6536e9a337d0912805e6fcbaea9035fd',\n",
       " 'date': datetime.datetime(2022, 1, 6, 10, 23, 19, 24000),\n",
       " 'footprint': 'POLYGON((10.438876794404743 51.44235231685392,12.017025008525813 51.41234265506691,11.953869713140705 50.42629366061962,10.408715109637644 50.45527216066188,10.438876794404743 51.44235231685392))',\n",
       " 'url': \"https://apihub.copernicus.eu/apihub/odata/v1/Products('37438a05-f795-4e77-b68e-3a3c0ec5f04b')/$value\",\n",
       " 'Online': False,\n",
       " 'Creation Date': datetime.datetime(2022, 1, 6, 17, 11, 5, 276000),\n",
       " 'Ingestion Date': datetime.datetime(2022, 1, 6, 17, 10, 1, 835000),\n",
       " 'Aot retrieval accuracy': 0.0,\n",
       " 'Cloud cover percentage': 3.867027,\n",
       " 'Cloud shadow percentage': 8.371615,\n",
       " 'Dark features percentage': 24.054027,\n",
       " 'Date': datetime.datetime(2022, 1, 6, 10, 23, 19, 24000),\n",
       " 'Degraded ancillary data percentage': 0.0,\n",
       " 'Degraded MSI data percentage': 0,\n",
       " 'Filename': 'S2B_MSIL2A_20220106T102319_N0301_R065_T32UPB_20220106T123401.SAFE',\n",
       " 'Footprint': '<gml:Polygon srsName=\"http://www.opengis.net/gml/srs/epsg.xml#4326\" xmlns:gml=\"http://www.opengis.net/gml\">\\n   <gml:outerBoundaryIs>\\n      <gml:LinearRing>\\n         <gml:coordinates>51.44235231685392,10.438876794404743 51.41234265506691,12.017025008525813 50.42629366061962,11.953869713140705 50.45527216066188,10.408715109637644 51.44235231685392,10.438876794404743</gml:coordinates>\\n      </gml:LinearRing>\\n   </gml:outerBoundaryIs>\\n</gml:Polygon>',\n",
       " 'Format': 'SAFE',\n",
       " 'Format correctness': 'PASSED',\n",
       " 'General quality': 'PASSED',\n",
       " 'Geometric quality': 'PASSED',\n",
       " 'High proba clouds percentage': 0.668715,\n",
       " 'Identifier': 'S2B_MSIL2A_20220106T102319_N0301_R065_T32UPB_20220106T123401',\n",
       " 'Instrument': 'MSI',\n",
       " 'Instrument abbreviation': 'MSI',\n",
       " 'Instrument name': 'Multi-Spectral Instrument',\n",
       " 'JTS footprint': 'MULTIPOLYGON (((11.953869713140705 50.42629366061962, 12.017025008525813 51.41234265506691, 10.438876794404743 51.44235231685392, 10.408715109637644 50.45527216066188, 11.953869713140705 50.42629366061962)))',\n",
       " 'Medium proba clouds percentage': 1.614446,\n",
       " 'Mission datatake id': 'GS2B_20220106T102319_025259_N03.01',\n",
       " 'No data pixel percentage': 0.000753,\n",
       " 'Not vegetated percentage': 3.90711,\n",
       " 'NSSDC identifier': '2017-013A',\n",
       " 'Orbit number (start)': 25259,\n",
       " 'Pass direction': 'DESCENDING',\n",
       " 'Platform serial identifier': 'Sentinel-2B',\n",
       " 'Processing baseline': 3.01,\n",
       " 'Processing level': 'Level-2A',\n",
       " 'Product type': 'S2MSI2A',\n",
       " 'Radiometric quality': 'PASSED',\n",
       " 'Relative orbit (start)': 65,\n",
       " 'Satellite': 'Sentinel-2',\n",
       " 'Satellite name': 'Sentinel-2',\n",
       " 'Satellite number': 'B',\n",
       " 'Saturated defective pixel percentage': 0.0,\n",
       " 'Sensing start': datetime.datetime(2022, 1, 6, 10, 23, 19, 24000),\n",
       " 'Sensing stop': datetime.datetime(2022, 1, 6, 10, 23, 19, 24000),\n",
       " 'Sensor quality': 'PASSED',\n",
       " 'Size': '1.08 GB',\n",
       " 'Snow ice percentage': 8.366326,\n",
       " 'Thin cirrus percentage': 1.583865,\n",
       " 'Unclassified percentage': 23.556766,\n",
       " 'Vegetation percentage': 25.47603,\n",
       " 'Water percentage': 2.401102,\n",
       " 'Water vapour retrieval accuracy': 0.0,\n",
       " 'Datastrip identifier': 'S2B_OPER_MSI_L2A_DS_VGS4_20220106T123401_S20220106T102345_N03.01',\n",
       " 'Granule identifier': 'S2B_OPER_MSI_L2A_TL_VGS4_20220106T123401_A025259_T32UPB_N03.01',\n",
       " 'Level-1C PDI Identifier': 'S2B_OPER_MSI_L1C_TL_VGS4_20220106T111539_A025259_T32UPB_N03.01',\n",
       " 'Generation date': datetime.datetime(2022, 1, 6, 12, 34, 1),\n",
       " 'Illumination Azimuth Angle': 166.984163849699,\n",
       " 'Illumination Zenith Angle': 74.3784915511034,\n",
       " 'quicklook_url': \"https://apihub.copernicus.eu/apihub/odata/v1/Products('37438a05-f795-4e77-b68e-3a3c0ec5f04b')/Products('Quicklook')/$value\"}"
      ]
     },
     "execution_count": 25,
     "metadata": {},
     "output_type": "execute_result"
    }
   ],
   "source": [
    "# Get the product's full metadata available on the server\n",
    "api.get_product_odata(list(products)[0], full=True)"
   ]
  },
  {
   "cell_type": "code",
   "execution_count": 56,
   "metadata": {},
   "outputs": [
    {
     "name": "stderr",
     "output_type": "stream",
     "text": [
      "Downloading products:   0%|          | 0/1 [00:00<?, ?product/s]"
     ]
    }
   ],
   "source": [
    "# download all results from the search\n",
    "api.download_all(products)"
   ]
  },
  {
   "cell_type": "code",
   "execution_count": 36,
   "metadata": {},
   "outputs": [
    {
     "name": "stderr",
     "output_type": "stream",
     "text": [
      "Downloading S2B_MSIL1C_20221115T103219_N0400_R108_T32UPA_20221115T111003.zip: 100%|██████████| 185M/185M [06:27<00:00, 476kB/s] \n",
      "                                                                       \r"
     ]
    },
    {
     "data": {
      "text/plain": [
       "{'id': '26e556b8-93c3-4e55-9c88-74e1b0126924',\n",
       " 'title': 'S2B_MSIL1C_20221115T103219_N0400_R108_T32UPA_20221115T111003',\n",
       " 'size': 184540556,\n",
       " 'md5': '6805ef9029b8452d10a7bbdd1e332357',\n",
       " 'date': datetime.datetime(2022, 11, 15, 10, 32, 19, 24000),\n",
       " 'footprint': 'POLYGON((10.945297010892116 50.533712664025245,10.881962363343296 50.404198984170975,10.829372798974749 50.296694136298655,10.810780350366286 50.258858275064576,10.739905455522644 50.114608180055846,10.670070142239751 49.9702166027654,10.649908786430888 49.928647349427195,10.600397852892865 49.82683638578984,10.53031872599488 49.68240642730616,10.46878505794984 49.55490058633484,10.382684363173013 49.55649445196309,10.411349506049252 50.543739174288454,10.945297010892116 50.533712664025245))',\n",
       " 'url': \"https://apihub.copernicus.eu/apihub/odata/v1/Products('26e556b8-93c3-4e55-9c88-74e1b0126924')/$value\",\n",
       " 'Online': True,\n",
       " 'Creation Date': datetime.datetime(2022, 11, 15, 14, 35, 1, 112000),\n",
       " 'Ingestion Date': datetime.datetime(2022, 11, 15, 14, 33, 42, 418000),\n",
       " 'quicklook_url': \"https://apihub.copernicus.eu/apihub/odata/v1/Products('26e556b8-93c3-4e55-9c88-74e1b0126924')/Products('Quicklook')/$value\",\n",
       " 'path': 'S2B_MSIL1C_20221115T103219_N0400_R108_T32UPA_20221115T111003.zip',\n",
       " 'downloaded_bytes': 184540556}"
      ]
     },
     "execution_count": 36,
     "metadata": {},
     "output_type": "execute_result"
    }
   ],
   "source": [
    "# download a single result\n",
    "api.download(list(products)[0])"
   ]
  }
 ],
 "metadata": {
  "kernelspec": {
   "display_name": "pep725",
   "language": "python",
   "name": "python3"
  },
  "language_info": {
   "codemirror_mode": {
    "name": "ipython",
    "version": 3
   },
   "file_extension": ".py",
   "mimetype": "text/x-python",
   "name": "python",
   "nbconvert_exporter": "python",
   "pygments_lexer": "ipython3",
   "version": "3.10.6"
  },
  "orig_nbformat": 4,
  "vscode": {
   "interpreter": {
    "hash": "87013bfe7793781dd931ded083f6d345173d317406dd371cb864879c5f49f73e"
   }
  }
 },
 "nbformat": 4,
 "nbformat_minor": 2
}
