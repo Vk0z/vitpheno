{
 "cells": [
  {
   "attachments": {},
   "cell_type": "markdown",
   "metadata": {},
   "source": [
    "Read the buffers file"
   ]
  },
  {
   "cell_type": "code",
   "execution_count": 1,
   "metadata": {},
   "outputs": [],
   "source": [
    "import geopandas as gpd\n",
    "import pathlib"
   ]
  },
  {
   "cell_type": "code",
   "execution_count": 133,
   "metadata": {},
   "outputs": [],
   "source": [
    "path = pathlib.Path(r\"C:\\Users\\Kostas\\Desktop\\GIMA\\Module_7\\Data\\PEP725\\After_2016_sent_from_PEP725\\pep725_outputs\\PEP725_buffers.geojson\")\n",
    "buffers = gpd.read_file(path).set_crs(32632, inplace=True, allow_override=True)\n",
    "\n",
    "# Create envelopes for the buffers\n",
    "envelope_series = buffers.geometry.envelope\n",
    "envelope_series.rename('envelope_geometry', inplace=True)\n",
    "envelope_gdf = buffers.merge(envelope_series, left_index=True, right_index=True)\n",
    "envelope_gdf = envelope_gdf.drop(['geometry'], axis=1).set_geometry('envelope_geometry').rename_geometry('geometry')\n",
    "\n",
    "# Change the envelope to a list to use it later\n",
    "envelope_list = envelope_gdf.geometry.tolist()\n",
    "# Creating a list of tuples that will be used to preserve the indexing information of the GeoDataFrame.\n",
    "# This may be of use later, to get information from the GeoDataFrame and put it in the image, e.g., a label such as the class (DBL, EC, M).\n",
    "envelope_list_with_index = []\n",
    "for index, row in envelope_gdf.iterrows():\n",
    "    envelope_list_with_index.append((index, row['geometry'], row['s_id']))"
   ]
  },
  {
   "cell_type": "code",
   "execution_count": 132,
   "metadata": {},
   "outputs": [
    {
     "name": "stdout",
     "output_type": "stream",
     "text": [
      "(3, <shapely.geometry.polygon.Polygon object at 0x00000271E49F49D0>)\n"
     ]
    }
   ],
   "source": [
    "print(envelope_list_with_index[3])"
   ]
  },
  {
   "cell_type": "code",
   "execution_count": 15,
   "metadata": {},
   "outputs": [
    {
     "data": {
      "text/html": [
       "<div>\n",
       "<style scoped>\n",
       "    .dataframe tbody tr th:only-of-type {\n",
       "        vertical-align: middle;\n",
       "    }\n",
       "\n",
       "    .dataframe tbody tr th {\n",
       "        vertical-align: top;\n",
       "    }\n",
       "\n",
       "    .dataframe thead th {\n",
       "        text-align: right;\n",
       "    }\n",
       "</style>\n",
       "<table border=\"1\" class=\"dataframe\">\n",
       "  <thead>\n",
       "    <tr style=\"text-align: right;\">\n",
       "      <th></th>\n",
       "      <th>s_id</th>\n",
       "      <th>lon</th>\n",
       "      <th>lat</th>\n",
       "      <th>alt</th>\n",
       "      <th>alt_dem</th>\n",
       "      <th>gss_id</th>\n",
       "      <th>genus</th>\n",
       "      <th>species</th>\n",
       "      <th>phase_id</th>\n",
       "      <th>year</th>\n",
       "      <th>day</th>\n",
       "      <th>date</th>\n",
       "      <th>Label</th>\n",
       "      <th>geometry</th>\n",
       "    </tr>\n",
       "  </thead>\n",
       "  <tbody>\n",
       "    <tr>\n",
       "      <th>0</th>\n",
       "      <td>5363</td>\n",
       "      <td>13.91670</td>\n",
       "      <td>54.0833</td>\n",
       "      <td>2</td>\n",
       "      <td>0</td>\n",
       "      <td>1050100</td>\n",
       "      <td>Alnus</td>\n",
       "      <td>Alnus glutinosa</td>\n",
       "      <td>60</td>\n",
       "      <td>2017</td>\n",
       "      <td>27</td>\n",
       "      <td>2017-01-27</td>\n",
       "      <td>DBL</td>\n",
       "      <td>POLYGON ((817520.468 5999973.720, 825520.468 5...</td>\n",
       "    </tr>\n",
       "    <tr>\n",
       "      <th>1</th>\n",
       "      <td>1554</td>\n",
       "      <td>7.51667</td>\n",
       "      <td>51.7333</td>\n",
       "      <td>60</td>\n",
       "      <td>72</td>\n",
       "      <td>2210500</td>\n",
       "      <td>Salix</td>\n",
       "      <td>Salix caprea</td>\n",
       "      <td>60</td>\n",
       "      <td>2017</td>\n",
       "      <td>29</td>\n",
       "      <td>2017-01-29</td>\n",
       "      <td>DBL</td>\n",
       "      <td>POLYGON ((393567.206 5728416.903, 401567.206 5...</td>\n",
       "    </tr>\n",
       "    <tr>\n",
       "      <th>2</th>\n",
       "      <td>3120</td>\n",
       "      <td>8.68333</td>\n",
       "      <td>49.5500</td>\n",
       "      <td>140</td>\n",
       "      <td>261</td>\n",
       "      <td>1050100</td>\n",
       "      <td>Alnus</td>\n",
       "      <td>Alnus glutinosa</td>\n",
       "      <td>60</td>\n",
       "      <td>2017</td>\n",
       "      <td>31</td>\n",
       "      <td>2017-01-31</td>\n",
       "      <td>DBL</td>\n",
       "      <td>POLYGON ((473094.080 5484647.767, 481094.080 5...</td>\n",
       "    </tr>\n",
       "    <tr>\n",
       "      <th>3</th>\n",
       "      <td>2021</td>\n",
       "      <td>8.58333</td>\n",
       "      <td>50.0000</td>\n",
       "      <td>100</td>\n",
       "      <td>101</td>\n",
       "      <td>1050100</td>\n",
       "      <td>Alnus</td>\n",
       "      <td>Alnus glutinosa</td>\n",
       "      <td>60</td>\n",
       "      <td>2017</td>\n",
       "      <td>32</td>\n",
       "      <td>2017-02-01</td>\n",
       "      <td>DBL</td>\n",
       "      <td>POLYGON ((466138.525 5534713.881, 474138.525 5...</td>\n",
       "    </tr>\n",
       "    <tr>\n",
       "      <th>4</th>\n",
       "      <td>1521</td>\n",
       "      <td>7.83333</td>\n",
       "      <td>51.7000</td>\n",
       "      <td>60</td>\n",
       "      <td>58</td>\n",
       "      <td>1050100</td>\n",
       "      <td>Alnus</td>\n",
       "      <td>Alnus glutinosa</td>\n",
       "      <td>60</td>\n",
       "      <td>2017</td>\n",
       "      <td>33</td>\n",
       "      <td>2017-02-02</td>\n",
       "      <td>DBL</td>\n",
       "      <td>POLYGON ((415374.473 5724316.443, 423374.473 5...</td>\n",
       "    </tr>\n",
       "  </tbody>\n",
       "</table>\n",
       "</div>"
      ],
      "text/plain": [
       "   s_id       lon      lat  alt  alt_dem   gss_id  genus          species  \\\n",
       "0  5363  13.91670  54.0833    2        0  1050100  Alnus  Alnus glutinosa   \n",
       "1  1554   7.51667  51.7333   60       72  2210500  Salix     Salix caprea   \n",
       "2  3120   8.68333  49.5500  140      261  1050100  Alnus  Alnus glutinosa   \n",
       "3  2021   8.58333  50.0000  100      101  1050100  Alnus  Alnus glutinosa   \n",
       "4  1521   7.83333  51.7000   60       58  1050100  Alnus  Alnus glutinosa   \n",
       "\n",
       "   phase_id  year  day        date Label  \\\n",
       "0        60  2017   27  2017-01-27   DBL   \n",
       "1        60  2017   29  2017-01-29   DBL   \n",
       "2        60  2017   31  2017-01-31   DBL   \n",
       "3        60  2017   32  2017-02-01   DBL   \n",
       "4        60  2017   33  2017-02-02   DBL   \n",
       "\n",
       "                                            geometry  \n",
       "0  POLYGON ((817520.468 5999973.720, 825520.468 5...  \n",
       "1  POLYGON ((393567.206 5728416.903, 401567.206 5...  \n",
       "2  POLYGON ((473094.080 5484647.767, 481094.080 5...  \n",
       "3  POLYGON ((466138.525 5534713.881, 474138.525 5...  \n",
       "4  POLYGON ((415374.473 5724316.443, 423374.473 5...  "
      ]
     },
     "execution_count": 15,
     "metadata": {},
     "output_type": "execute_result"
    }
   ],
   "source": [
    "envelope_gdf.head()"
   ]
  },
  {
   "cell_type": "code",
   "execution_count": 100,
   "metadata": {},
   "outputs": [
    {
     "name": "stdout",
     "output_type": "stream",
     "text": [
      "2017-04-20\n",
      "2022-10-22\n",
      "2020-09-21\n"
     ]
    }
   ],
   "source": [
    "import glob\n",
    "from zipfile import ZipFile\n",
    "import fnmatch\n",
    "import datetime\n",
    "\n",
    "sentinel_2_directory = r\"C:\\Users\\Kostas\\Desktop\\GIMA\\Module_7\\Data\\Sentinel2_images\"\n",
    "\n",
    "# Create a list of all the Sentinel-2 zipfiles\n",
    "sentinel_2_zip_list = glob.glob(str(sentinel_2_directory) + '/*.zip', recursive=True)\n",
    "\n",
    "# Get the date from the Sentinel-2 zip archive. Returns a datetime class object\n",
    "def getS2Date(s2zip_path):\n",
    "    string_parts = s2zip_path.split(\"_\")\n",
    "    band_string = string_parts[-1]\n",
    "    band_string = band_string.replace('.zip','')\n",
    "    string_parts = band_string.split(\"T\")\n",
    "    s2_date = string_parts[0]\n",
    "    s2_time = string_parts[1]\n",
    "    s2_date = datetime.datetime.strptime(s2_date, \"%Y%m%d\").date()\n",
    "    #print(band_string)\n",
    "    #print(s2_date, s2_time)\n",
    "    return s2_date#, s2_time This is in case you want the tie as well. It will be returned as a tuple\n",
    "\n",
    "for s2zip_path in sentinel_2_zip_list:\n",
    "    s2date = getS2Date(s2zip_path)\n",
    "    print(s2date)\n",
    "\n",
    "\n",
    "\n",
    "# Example output: 20170420T103021_B02_10m\n",
    "\n"
   ]
  },
  {
   "cell_type": "code",
   "execution_count": 68,
   "metadata": {},
   "outputs": [],
   "source": [
    "# Create lists from the GeoDataFrame features to use\n",
    "\n",
    "stations_list = envelope_gdf['s_id'].tolist()\n",
    "dates_list = envelope_gdf['date'].tolist()\n",
    "veg_classes_list = envelope_gdf['Label'].tolist()"
   ]
  },
  {
   "cell_type": "code",
   "execution_count": null,
   "metadata": {},
   "outputs": [],
   "source": [
    "#from datetime import datetime, timedelta\n",
    "import datetime\n",
    "# Returns a list of dates inbetween start and end date in the format YYYY-MM-DD\n",
    "def date_range(start_date, end_date):\n",
    "    current_date = start_date\n",
    "    while current_date <= end_date:\n",
    "        yield current_date\n",
    "        current_date += timedelta(days=1)\n",
    "    \n",
    "dates = [date.strftime(\"%Y-%m-%d\") for date in date_range(date_start, date_end)]\n",
    "print(dates)\n"
   ]
  },
  {
   "cell_type": "code",
   "execution_count": 129,
   "metadata": {},
   "outputs": [
    {
     "name": "stdout",
     "output_type": "stream",
     "text": [
      "Timeslot 1: 2017-04-20 2022-10-22\n",
      "Timeslot 2: 2022-10-22 2020-09-21\n"
     ]
    }
   ],
   "source": [
    "def get_data(station, vegetation_class, start_date, end_date):\n",
    "    data = [station, ]\n",
    "\n",
    "def calc_target_highest_freq(data):\n",
    "    pass\n",
    "\n",
    "\n",
    "stations = []\n",
    "veg_classes = []\n",
    "for i_id in range(0, len(sentinel_2_zip_list) - 1):\n",
    "    image_1 = sentinel_2_zip_list[i_id]\n",
    "    image_2 = sentinel_2_zip_list[i_id + 1]\n",
    "\n",
    "    date_start = getS2Date(image_1)\n",
    "    date_end = getS2Date(image_2)\n",
    "    dates = [date.strftime(\"%Y-%m-%d\") for date in date_range(date_start, date_end)]\n",
    "    print(f'Timeslot {i_id+1}:', date_start, date_end)\n",
    "    data_list = []\n",
    "    for s in range(0, len(stations_list)):\n",
    "            for d in range(0, len(dates)):\n",
    "                if dates[d] == dates_list[d]:\n",
    "                    data_list = [stations_list[s], veg_classes_list[s], dates_list[s]]\n",
    "                    print(data_list)\n",
    "            # data = get_data(s, v, date_start, date_end)\n",
    "            # target = calc_target_highest_freq(data)"
   ]
  },
  {
   "cell_type": "code",
   "execution_count": 116,
   "metadata": {},
   "outputs": [
    {
     "name": "stdout",
     "output_type": "stream",
     "text": [
      "2017-04-20 2022-10-22\n"
     ]
    },
    {
     "data": {
      "text/plain": [
       "<generator object date_range at 0x00000271EA2C9930>"
      ]
     },
     "execution_count": 116,
     "metadata": {},
     "output_type": "execute_result"
    }
   ],
   "source": [
    "image_1 = sentinel_2_zip_list[0]\n",
    "image_2 = sentinel_2_zip_list[1]\n",
    "\n",
    "date_start = getS2Date(image_1)\n",
    "date_end = getS2Date(image_2)\n",
    "print(date_start, date_end)\n",
    "date_range(date_start, date_end)\n"
   ]
  },
  {
   "cell_type": "code",
   "execution_count": 78,
   "metadata": {},
   "outputs": [
    {
     "name": "stdout",
     "output_type": "stream",
     "text": [
      "2017-01-27\n",
      "<class 'datetime.date'>\n"
     ]
    }
   ],
   "source": [
    "date_start = stringifyDate(getS2Date(sentinel_2_zip_list[0]))\n",
    "date_end = stringifyDate(getS2Date(sentinel_2_zip_list[1]))\n",
    "\n",
    "a = dates_list[0]\n",
    "a = datetime.datetime.strptime(a, \"%Y-%m-%d\").date()\n",
    "print(a)\n",
    "print(type(a))"
   ]
  }
 ],
 "metadata": {
  "kernelspec": {
   "display_name": "pep725",
   "language": "python",
   "name": "python3"
  },
  "language_info": {
   "codemirror_mode": {
    "name": "ipython",
    "version": 3
   },
   "file_extension": ".py",
   "mimetype": "text/x-python",
   "name": "python",
   "nbconvert_exporter": "python",
   "pygments_lexer": "ipython3",
   "version": "3.10.6"
  },
  "orig_nbformat": 4,
  "vscode": {
   "interpreter": {
    "hash": "87013bfe7793781dd931ded083f6d345173d317406dd371cb864879c5f49f73e"
   }
  }
 },
 "nbformat": 4,
 "nbformat_minor": 2
}
